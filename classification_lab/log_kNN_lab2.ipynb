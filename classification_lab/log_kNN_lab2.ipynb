{
 "cells": [
  {
   "cell_type": "markdown",
   "id": "e5e043b2",
   "metadata": {},
   "source": [
    "## Week 4, Lab 1: Predicting Left-Handedness from Psychological Factors\n",
    "> Author: Matt Brems\n",
    "\n",
    "One way to define the data science process is as follows:\n",
    "\n",
    "1. Define the problem.\n",
    "2. Obtain the data.\n",
    "3. Explore the data.\n",
    "4. Model the data.\n",
    "5. Evaluate the model.\n",
    "6. Answer the problem.\n",
    "\n",
    "We'll walk through a full data science problem in this lab. \n",
    "\n",
    "---\n",
    "## Define The Problem.\n",
    "\n",
    "You're currently a data scientist working at a university. A professor of psychology is attempting to study the relationship between personalities and left-handedness. They have tasked you with gathering evidence so that they may publish.\n",
    "\n",
    "As a data scientist, you know that any real data science problem must be **specific** and **conclusively answerable**. For example:\n",
    "- Bad data science problem: \"What is the link between obesity and blood pressure?\"\n",
    "    - This is vague and is not conclusively answerable. That is, two people might look at the conclusion and one may say \"Sure, the problem has been answered!\" and the other may say \"The problem has not yet been answered.\"\n",
    "- Good data science problem: \"Does an association exist between obesity and blood pressure?\"\n",
    "    - This is more specific and is conclusively answerable. The problem specifically is asking for a \"Yes\" or \"No\" answer. Based on that, two independent people should both be able to say either \"Yes, the problem has been answered\" or \"No, the problem has not yet been answered.\"\n",
    "- Excellent data science problem: \"As obesity increases, how does blood pressure change?\"\n",
    "    - This is very specific and is conclusively answerable. The problem specifically seeks to understand the effect of one variable on the other.\n",
    "\n",
    "### In the context of the left-handedness and personality example, what are three specific and conclusively answerable problems that you could answer using data science? \n",
    "\n",
    "> You might find it helpful to check out the codebook in the repo for some inspiration."
   ]
  },
  {
   "cell_type": "code",
   "execution_count": 1,
   "id": "11dda8f9",
   "metadata": {},
   "outputs": [],
   "source": [
    "# Is it true that left-handedness more likely to suffer \n",
    "# from mental illness based on this research?\n",
    "\n",
    "# Is it true that left-handedness more likely to be an\n",
    "# introvert?\n",
    "\n",
    "# Is it true that left-handedness have a specialty \n",
    "# in creativity and imagination?"
   ]
  },
  {
   "cell_type": "markdown",
   "id": "32144652",
   "metadata": {},
   "source": [
    "---\n",
    "## Step 2: Obtain the data.\n",
    "\n",
    "### Read in the file titled \"data.csv\":\n",
    "> Hint: Despite being saved as a .csv file, you won't be able to simply `pd.read_csv()` this data!"
   ]
  },
  {
   "cell_type": "code",
   "execution_count": 2,
   "id": "2a154e91",
   "metadata": {},
   "outputs": [],
   "source": [
    "# library imports\n",
    "import pandas as pd\n",
    "import numpy as np\n",
    "import matplotlib.pyplot as plt\n",
    "import seaborn as sns\n",
    "from sklearn.preprocessing import StandardScaler\n",
    "from sklearn.model_selection import train_test_split\n",
    "from sklearn.linear_model import LogisticRegression\n",
    "from sklearn.neighbors import KNeighborsClassifier\n",
    "from sklearn.metrics import confusion_matrix,classification_report,\\\n",
    "accuracy_score, precision_score, recall_score\n"
   ]
  },
  {
   "cell_type": "code",
   "execution_count": 3,
   "id": "481f3b8c",
   "metadata": {},
   "outputs": [
    {
     "data": {
      "text/html": [
       "<div>\n",
       "<style scoped>\n",
       "    .dataframe tbody tr th:only-of-type {\n",
       "        vertical-align: middle;\n",
       "    }\n",
       "\n",
       "    .dataframe tbody tr th {\n",
       "        vertical-align: top;\n",
       "    }\n",
       "\n",
       "    .dataframe thead th {\n",
       "        text-align: right;\n",
       "    }\n",
       "</style>\n",
       "<table border=\"1\" class=\"dataframe\">\n",
       "  <thead>\n",
       "    <tr style=\"text-align: right;\">\n",
       "      <th></th>\n",
       "      <th>Q1</th>\n",
       "      <th>Q2</th>\n",
       "      <th>Q3</th>\n",
       "      <th>Q4</th>\n",
       "      <th>Q5</th>\n",
       "      <th>Q6</th>\n",
       "      <th>Q7</th>\n",
       "      <th>Q8</th>\n",
       "      <th>Q9</th>\n",
       "      <th>Q10</th>\n",
       "      <th>...</th>\n",
       "      <th>country</th>\n",
       "      <th>fromgoogle</th>\n",
       "      <th>engnat</th>\n",
       "      <th>age</th>\n",
       "      <th>education</th>\n",
       "      <th>gender</th>\n",
       "      <th>orientation</th>\n",
       "      <th>race</th>\n",
       "      <th>religion</th>\n",
       "      <th>hand</th>\n",
       "    </tr>\n",
       "  </thead>\n",
       "  <tbody>\n",
       "    <tr>\n",
       "      <th>0</th>\n",
       "      <td>4</td>\n",
       "      <td>1</td>\n",
       "      <td>5</td>\n",
       "      <td>1</td>\n",
       "      <td>5</td>\n",
       "      <td>1</td>\n",
       "      <td>5</td>\n",
       "      <td>1</td>\n",
       "      <td>4</td>\n",
       "      <td>1</td>\n",
       "      <td>...</td>\n",
       "      <td>US</td>\n",
       "      <td>2</td>\n",
       "      <td>1</td>\n",
       "      <td>22</td>\n",
       "      <td>3</td>\n",
       "      <td>1</td>\n",
       "      <td>1</td>\n",
       "      <td>3</td>\n",
       "      <td>2</td>\n",
       "      <td>3</td>\n",
       "    </tr>\n",
       "    <tr>\n",
       "      <th>1</th>\n",
       "      <td>1</td>\n",
       "      <td>5</td>\n",
       "      <td>1</td>\n",
       "      <td>4</td>\n",
       "      <td>2</td>\n",
       "      <td>5</td>\n",
       "      <td>5</td>\n",
       "      <td>4</td>\n",
       "      <td>1</td>\n",
       "      <td>5</td>\n",
       "      <td>...</td>\n",
       "      <td>CA</td>\n",
       "      <td>2</td>\n",
       "      <td>1</td>\n",
       "      <td>14</td>\n",
       "      <td>1</td>\n",
       "      <td>2</td>\n",
       "      <td>2</td>\n",
       "      <td>6</td>\n",
       "      <td>1</td>\n",
       "      <td>1</td>\n",
       "    </tr>\n",
       "    <tr>\n",
       "      <th>2</th>\n",
       "      <td>1</td>\n",
       "      <td>2</td>\n",
       "      <td>1</td>\n",
       "      <td>1</td>\n",
       "      <td>5</td>\n",
       "      <td>4</td>\n",
       "      <td>3</td>\n",
       "      <td>2</td>\n",
       "      <td>1</td>\n",
       "      <td>4</td>\n",
       "      <td>...</td>\n",
       "      <td>NL</td>\n",
       "      <td>2</td>\n",
       "      <td>2</td>\n",
       "      <td>30</td>\n",
       "      <td>4</td>\n",
       "      <td>1</td>\n",
       "      <td>1</td>\n",
       "      <td>1</td>\n",
       "      <td>1</td>\n",
       "      <td>2</td>\n",
       "    </tr>\n",
       "    <tr>\n",
       "      <th>3</th>\n",
       "      <td>1</td>\n",
       "      <td>4</td>\n",
       "      <td>1</td>\n",
       "      <td>5</td>\n",
       "      <td>1</td>\n",
       "      <td>4</td>\n",
       "      <td>5</td>\n",
       "      <td>4</td>\n",
       "      <td>3</td>\n",
       "      <td>5</td>\n",
       "      <td>...</td>\n",
       "      <td>US</td>\n",
       "      <td>2</td>\n",
       "      <td>1</td>\n",
       "      <td>18</td>\n",
       "      <td>2</td>\n",
       "      <td>2</td>\n",
       "      <td>5</td>\n",
       "      <td>3</td>\n",
       "      <td>2</td>\n",
       "      <td>2</td>\n",
       "    </tr>\n",
       "    <tr>\n",
       "      <th>4</th>\n",
       "      <td>5</td>\n",
       "      <td>1</td>\n",
       "      <td>5</td>\n",
       "      <td>1</td>\n",
       "      <td>5</td>\n",
       "      <td>1</td>\n",
       "      <td>5</td>\n",
       "      <td>1</td>\n",
       "      <td>3</td>\n",
       "      <td>1</td>\n",
       "      <td>...</td>\n",
       "      <td>US</td>\n",
       "      <td>2</td>\n",
       "      <td>1</td>\n",
       "      <td>22</td>\n",
       "      <td>3</td>\n",
       "      <td>1</td>\n",
       "      <td>1</td>\n",
       "      <td>3</td>\n",
       "      <td>2</td>\n",
       "      <td>3</td>\n",
       "    </tr>\n",
       "    <tr>\n",
       "      <th>...</th>\n",
       "      <td>...</td>\n",
       "      <td>...</td>\n",
       "      <td>...</td>\n",
       "      <td>...</td>\n",
       "      <td>...</td>\n",
       "      <td>...</td>\n",
       "      <td>...</td>\n",
       "      <td>...</td>\n",
       "      <td>...</td>\n",
       "      <td>...</td>\n",
       "      <td>...</td>\n",
       "      <td>...</td>\n",
       "      <td>...</td>\n",
       "      <td>...</td>\n",
       "      <td>...</td>\n",
       "      <td>...</td>\n",
       "      <td>...</td>\n",
       "      <td>...</td>\n",
       "      <td>...</td>\n",
       "      <td>...</td>\n",
       "      <td>...</td>\n",
       "    </tr>\n",
       "    <tr>\n",
       "      <th>4179</th>\n",
       "      <td>3</td>\n",
       "      <td>5</td>\n",
       "      <td>4</td>\n",
       "      <td>5</td>\n",
       "      <td>2</td>\n",
       "      <td>4</td>\n",
       "      <td>2</td>\n",
       "      <td>2</td>\n",
       "      <td>2</td>\n",
       "      <td>5</td>\n",
       "      <td>...</td>\n",
       "      <td>US</td>\n",
       "      <td>1</td>\n",
       "      <td>1</td>\n",
       "      <td>18</td>\n",
       "      <td>2</td>\n",
       "      <td>1</td>\n",
       "      <td>1</td>\n",
       "      <td>6</td>\n",
       "      <td>2</td>\n",
       "      <td>1</td>\n",
       "    </tr>\n",
       "    <tr>\n",
       "      <th>4180</th>\n",
       "      <td>1</td>\n",
       "      <td>5</td>\n",
       "      <td>1</td>\n",
       "      <td>5</td>\n",
       "      <td>1</td>\n",
       "      <td>4</td>\n",
       "      <td>2</td>\n",
       "      <td>4</td>\n",
       "      <td>1</td>\n",
       "      <td>4</td>\n",
       "      <td>...</td>\n",
       "      <td>US</td>\n",
       "      <td>1</td>\n",
       "      <td>1</td>\n",
       "      <td>18</td>\n",
       "      <td>2</td>\n",
       "      <td>2</td>\n",
       "      <td>1</td>\n",
       "      <td>3</td>\n",
       "      <td>2</td>\n",
       "      <td>1</td>\n",
       "    </tr>\n",
       "    <tr>\n",
       "      <th>4181</th>\n",
       "      <td>3</td>\n",
       "      <td>2</td>\n",
       "      <td>2</td>\n",
       "      <td>4</td>\n",
       "      <td>5</td>\n",
       "      <td>4</td>\n",
       "      <td>5</td>\n",
       "      <td>2</td>\n",
       "      <td>2</td>\n",
       "      <td>5</td>\n",
       "      <td>...</td>\n",
       "      <td>PL</td>\n",
       "      <td>2</td>\n",
       "      <td>2</td>\n",
       "      <td>22</td>\n",
       "      <td>2</td>\n",
       "      <td>1</td>\n",
       "      <td>1</td>\n",
       "      <td>6</td>\n",
       "      <td>1</td>\n",
       "      <td>1</td>\n",
       "    </tr>\n",
       "    <tr>\n",
       "      <th>4182</th>\n",
       "      <td>1</td>\n",
       "      <td>3</td>\n",
       "      <td>4</td>\n",
       "      <td>5</td>\n",
       "      <td>1</td>\n",
       "      <td>3</td>\n",
       "      <td>3</td>\n",
       "      <td>1</td>\n",
       "      <td>1</td>\n",
       "      <td>3</td>\n",
       "      <td>...</td>\n",
       "      <td>US</td>\n",
       "      <td>2</td>\n",
       "      <td>1</td>\n",
       "      <td>16</td>\n",
       "      <td>1</td>\n",
       "      <td>2</td>\n",
       "      <td>5</td>\n",
       "      <td>1</td>\n",
       "      <td>1</td>\n",
       "      <td>1</td>\n",
       "    </tr>\n",
       "    <tr>\n",
       "      <th>4183</th>\n",
       "      <td>2</td>\n",
       "      <td>5</td>\n",
       "      <td>3</td>\n",
       "      <td>3</td>\n",
       "      <td>5</td>\n",
       "      <td>3</td>\n",
       "      <td>4</td>\n",
       "      <td>3</td>\n",
       "      <td>1</td>\n",
       "      <td>5</td>\n",
       "      <td>...</td>\n",
       "      <td>NZ</td>\n",
       "      <td>2</td>\n",
       "      <td>1</td>\n",
       "      <td>22</td>\n",
       "      <td>3</td>\n",
       "      <td>2</td>\n",
       "      <td>4</td>\n",
       "      <td>6</td>\n",
       "      <td>1</td>\n",
       "      <td>1</td>\n",
       "    </tr>\n",
       "  </tbody>\n",
       "</table>\n",
       "<p>4184 rows × 56 columns</p>\n",
       "</div>"
      ],
      "text/plain": [
       "      Q1  Q2  Q3  Q4  Q5  Q6  Q7  Q8  Q9  Q10  ...  country  fromgoogle  \\\n",
       "0      4   1   5   1   5   1   5   1   4    1  ...       US           2   \n",
       "1      1   5   1   4   2   5   5   4   1    5  ...       CA           2   \n",
       "2      1   2   1   1   5   4   3   2   1    4  ...       NL           2   \n",
       "3      1   4   1   5   1   4   5   4   3    5  ...       US           2   \n",
       "4      5   1   5   1   5   1   5   1   3    1  ...       US           2   \n",
       "...   ..  ..  ..  ..  ..  ..  ..  ..  ..  ...  ...      ...         ...   \n",
       "4179   3   5   4   5   2   4   2   2   2    5  ...       US           1   \n",
       "4180   1   5   1   5   1   4   2   4   1    4  ...       US           1   \n",
       "4181   3   2   2   4   5   4   5   2   2    5  ...       PL           2   \n",
       "4182   1   3   4   5   1   3   3   1   1    3  ...       US           2   \n",
       "4183   2   5   3   3   5   3   4   3   1    5  ...       NZ           2   \n",
       "\n",
       "      engnat  age  education  gender  orientation  race  religion  hand  \n",
       "0          1   22          3       1            1     3         2     3  \n",
       "1          1   14          1       2            2     6         1     1  \n",
       "2          2   30          4       1            1     1         1     2  \n",
       "3          1   18          2       2            5     3         2     2  \n",
       "4          1   22          3       1            1     3         2     3  \n",
       "...      ...  ...        ...     ...          ...   ...       ...   ...  \n",
       "4179       1   18          2       1            1     6         2     1  \n",
       "4180       1   18          2       2            1     3         2     1  \n",
       "4181       2   22          2       1            1     6         1     1  \n",
       "4182       1   16          1       2            5     1         1     1  \n",
       "4183       1   22          3       2            4     6         1     1  \n",
       "\n",
       "[4184 rows x 56 columns]"
      ]
     },
     "execution_count": 3,
     "metadata": {},
     "output_type": "execute_result"
    }
   ],
   "source": [
    "df = pd.read_csv('data.csv',sep='\\t')\n",
    "df"
   ]
  },
  {
   "cell_type": "markdown",
   "id": "50b55b21",
   "metadata": {},
   "source": [
    "---\n",
    "\n",
    "## Step 3: Explore the data.\n",
    "\n",
    "### Conduct background research:\n",
    "\n",
    "Domain knowledge is irreplaceable. Figuring out what information is relevant to a problem, or what data would be useful to gather, is a major part of any end-to-end data science project! For this lab, you'll be using a dataset that someone else has put together, rather than collecting the data yourself.\n",
    "\n",
    "Do some background research about personality and handedness. What features, if any, are likely to help you make good predictions? How well do you think you'll be able to model this? Write a few bullet points summarizing what you believe, and remember to cite external sources.\n",
    "\n",
    "You don't have to be exhaustive here. Do enough research to form an opinion, and then move on.\n",
    "\n",
    "> You'll be using the answers to Q1-Q44 for modeling; you can disregard other features, e.g. country, age, internet browser."
   ]
  },
  {
   "cell_type": "markdown",
   "id": "16be21cb",
   "metadata": {},
   "source": [
    "### Background research\n",
    "1. Left-Handed vs. Right-Handed (Medically Reviewed by Melinda Ratini, DO, MS on November 02, 2021) [Reference1](https://www.webmd.com/brain/ss/slideshow-left-handed-vs-right)\n",
    "- left-handers often hold more than their share of slots in creative professions.\n",
    "- There’s a well-established link between left-handedness and mental conditions like schizophrenia, which can cause hallucinations and impaired thinking.\n",
    "\n",
    "**Note** - Schizophrenia is a serious mental disorder in which people interpret reality abnormally\n",
    "\n",
    "2. Five personality traits of left-handed people [Reference2](https://www.asianage.com/life/more-features/240719/five-personality-traits-of-left-handed-people.html)\n",
    "- **Left-hander are more creative**: This probably happened as left-handers have a dominant right brain, the side of the brain that is associated with creativity and imagination. Another possible reason is that left-handed people are used to figuring out their way around tools from a young age. Scissors, cups, everything is generally made for right-handed people.\n",
    "- **Left-hander are more likely to suffer from mental illness**: they are more prone to mental illnesses as compared to their right-handed counterparts.\n",
    "- **Left-hander hear speech differently**: Sound is processed differently in different parts of the brain. As lefties are right brain dominant, sound is perceived differently by them.\n",
    "- **Left-handed people tend to be more fearful**: It is possible that interacting with a world created mostly by righties for rights.\n",
    "\n",
    "3. Handedness and Personality [Reference3](https://www.researchgate.net/publication/15262165_Handedness_and_Personality)\n",
    "- left-handedness tend to be introvert more than right-handedness\n",
    "4. What Being Left or Right-Handed Reveals About Your Thoughts [Reference4](https://www.powerofpositivity.com/left-right-handed-says-think/)\n",
    "- **Interesting facts about left-handed people**: Interestingly enough, being left or right-handed might be coincidentally connected to sexual preference.\n",
    "\n",
    "**Note** - Gender and orientation may help to improve the performance of the model"
   ]
  },
  {
   "cell_type": "markdown",
   "id": "3adf0649",
   "metadata": {},
   "source": [
    "### Conduct exploratory data analysis on this dataset:\n",
    "\n",
    "If you haven't already, be sure to check out the codebook in the repo, as that will help in your EDA process.\n",
    "\n",
    "You might use this section to perform data cleaning if you find it to be necessary."
   ]
  },
  {
   "cell_type": "code",
   "execution_count": 4,
   "id": "409a331d",
   "metadata": {},
   "outputs": [
    {
     "data": {
      "text/html": [
       "<div>\n",
       "<style scoped>\n",
       "    .dataframe tbody tr th:only-of-type {\n",
       "        vertical-align: middle;\n",
       "    }\n",
       "\n",
       "    .dataframe tbody tr th {\n",
       "        vertical-align: top;\n",
       "    }\n",
       "\n",
       "    .dataframe thead th {\n",
       "        text-align: right;\n",
       "    }\n",
       "</style>\n",
       "<table border=\"1\" class=\"dataframe\">\n",
       "  <thead>\n",
       "    <tr style=\"text-align: right;\">\n",
       "      <th></th>\n",
       "      <th>Q1</th>\n",
       "      <th>Q2</th>\n",
       "      <th>Q3</th>\n",
       "      <th>Q4</th>\n",
       "      <th>Q5</th>\n",
       "      <th>Q6</th>\n",
       "      <th>Q7</th>\n",
       "      <th>Q8</th>\n",
       "      <th>Q9</th>\n",
       "      <th>Q10</th>\n",
       "      <th>...</th>\n",
       "      <th>country</th>\n",
       "      <th>fromgoogle</th>\n",
       "      <th>engnat</th>\n",
       "      <th>age</th>\n",
       "      <th>education</th>\n",
       "      <th>gender</th>\n",
       "      <th>orientation</th>\n",
       "      <th>race</th>\n",
       "      <th>religion</th>\n",
       "      <th>hand</th>\n",
       "    </tr>\n",
       "  </thead>\n",
       "  <tbody>\n",
       "    <tr>\n",
       "      <th>0</th>\n",
       "      <td>4</td>\n",
       "      <td>1</td>\n",
       "      <td>5</td>\n",
       "      <td>1</td>\n",
       "      <td>5</td>\n",
       "      <td>1</td>\n",
       "      <td>5</td>\n",
       "      <td>1</td>\n",
       "      <td>4</td>\n",
       "      <td>1</td>\n",
       "      <td>...</td>\n",
       "      <td>US</td>\n",
       "      <td>2</td>\n",
       "      <td>1</td>\n",
       "      <td>22</td>\n",
       "      <td>3</td>\n",
       "      <td>1</td>\n",
       "      <td>1</td>\n",
       "      <td>3</td>\n",
       "      <td>2</td>\n",
       "      <td>3</td>\n",
       "    </tr>\n",
       "    <tr>\n",
       "      <th>1</th>\n",
       "      <td>1</td>\n",
       "      <td>5</td>\n",
       "      <td>1</td>\n",
       "      <td>4</td>\n",
       "      <td>2</td>\n",
       "      <td>5</td>\n",
       "      <td>5</td>\n",
       "      <td>4</td>\n",
       "      <td>1</td>\n",
       "      <td>5</td>\n",
       "      <td>...</td>\n",
       "      <td>CA</td>\n",
       "      <td>2</td>\n",
       "      <td>1</td>\n",
       "      <td>14</td>\n",
       "      <td>1</td>\n",
       "      <td>2</td>\n",
       "      <td>2</td>\n",
       "      <td>6</td>\n",
       "      <td>1</td>\n",
       "      <td>1</td>\n",
       "    </tr>\n",
       "    <tr>\n",
       "      <th>2</th>\n",
       "      <td>1</td>\n",
       "      <td>2</td>\n",
       "      <td>1</td>\n",
       "      <td>1</td>\n",
       "      <td>5</td>\n",
       "      <td>4</td>\n",
       "      <td>3</td>\n",
       "      <td>2</td>\n",
       "      <td>1</td>\n",
       "      <td>4</td>\n",
       "      <td>...</td>\n",
       "      <td>NL</td>\n",
       "      <td>2</td>\n",
       "      <td>2</td>\n",
       "      <td>30</td>\n",
       "      <td>4</td>\n",
       "      <td>1</td>\n",
       "      <td>1</td>\n",
       "      <td>1</td>\n",
       "      <td>1</td>\n",
       "      <td>2</td>\n",
       "    </tr>\n",
       "    <tr>\n",
       "      <th>3</th>\n",
       "      <td>1</td>\n",
       "      <td>4</td>\n",
       "      <td>1</td>\n",
       "      <td>5</td>\n",
       "      <td>1</td>\n",
       "      <td>4</td>\n",
       "      <td>5</td>\n",
       "      <td>4</td>\n",
       "      <td>3</td>\n",
       "      <td>5</td>\n",
       "      <td>...</td>\n",
       "      <td>US</td>\n",
       "      <td>2</td>\n",
       "      <td>1</td>\n",
       "      <td>18</td>\n",
       "      <td>2</td>\n",
       "      <td>2</td>\n",
       "      <td>5</td>\n",
       "      <td>3</td>\n",
       "      <td>2</td>\n",
       "      <td>2</td>\n",
       "    </tr>\n",
       "    <tr>\n",
       "      <th>4</th>\n",
       "      <td>5</td>\n",
       "      <td>1</td>\n",
       "      <td>5</td>\n",
       "      <td>1</td>\n",
       "      <td>5</td>\n",
       "      <td>1</td>\n",
       "      <td>5</td>\n",
       "      <td>1</td>\n",
       "      <td>3</td>\n",
       "      <td>1</td>\n",
       "      <td>...</td>\n",
       "      <td>US</td>\n",
       "      <td>2</td>\n",
       "      <td>1</td>\n",
       "      <td>22</td>\n",
       "      <td>3</td>\n",
       "      <td>1</td>\n",
       "      <td>1</td>\n",
       "      <td>3</td>\n",
       "      <td>2</td>\n",
       "      <td>3</td>\n",
       "    </tr>\n",
       "  </tbody>\n",
       "</table>\n",
       "<p>5 rows × 56 columns</p>\n",
       "</div>"
      ],
      "text/plain": [
       "   Q1  Q2  Q3  Q4  Q5  Q6  Q7  Q8  Q9  Q10  ...  country  fromgoogle  engnat  \\\n",
       "0   4   1   5   1   5   1   5   1   4    1  ...       US           2       1   \n",
       "1   1   5   1   4   2   5   5   4   1    5  ...       CA           2       1   \n",
       "2   1   2   1   1   5   4   3   2   1    4  ...       NL           2       2   \n",
       "3   1   4   1   5   1   4   5   4   3    5  ...       US           2       1   \n",
       "4   5   1   5   1   5   1   5   1   3    1  ...       US           2       1   \n",
       "\n",
       "   age  education  gender  orientation  race  religion  hand  \n",
       "0   22          3       1            1     3         2     3  \n",
       "1   14          1       2            2     6         1     1  \n",
       "2   30          4       1            1     1         1     2  \n",
       "3   18          2       2            5     3         2     2  \n",
       "4   22          3       1            1     3         2     3  \n",
       "\n",
       "[5 rows x 56 columns]"
      ]
     },
     "execution_count": 4,
     "metadata": {},
     "output_type": "execute_result"
    }
   ],
   "source": [
    "df.head()"
   ]
  },
  {
   "cell_type": "code",
   "execution_count": 5,
   "id": "fe0302ee",
   "metadata": {},
   "outputs": [
    {
     "name": "stdout",
     "output_type": "stream",
     "text": [
      "This dataset have 4184 rows and 56 columns.\n"
     ]
    }
   ],
   "source": [
    "# lowercase the columns name\n",
    "df.columns = df.columns.str.lower()\n",
    "\n",
    "# Shape of dataframe\n",
    "print(f'This dataset have {df.shape[0]} rows and {df.shape[1]} columns.')"
   ]
  },
  {
   "cell_type": "code",
   "execution_count": 6,
   "id": "73c515c9",
   "metadata": {},
   "outputs": [
    {
     "data": {
      "text/plain": [
       "q1              int64\n",
       "q2              int64\n",
       "q3              int64\n",
       "q4              int64\n",
       "q5              int64\n",
       "q6              int64\n",
       "q7              int64\n",
       "q8              int64\n",
       "q9              int64\n",
       "q10             int64\n",
       "q11             int64\n",
       "q12             int64\n",
       "q13             int64\n",
       "q14             int64\n",
       "q15             int64\n",
       "q16             int64\n",
       "q17             int64\n",
       "q18             int64\n",
       "q19             int64\n",
       "q20             int64\n",
       "q21             int64\n",
       "q22             int64\n",
       "q23             int64\n",
       "q24             int64\n",
       "q25             int64\n",
       "q26             int64\n",
       "q27             int64\n",
       "q28             int64\n",
       "q29             int64\n",
       "q30             int64\n",
       "q31             int64\n",
       "q32             int64\n",
       "q33             int64\n",
       "q34             int64\n",
       "q35             int64\n",
       "q36             int64\n",
       "q37             int64\n",
       "q38             int64\n",
       "q39             int64\n",
       "q40             int64\n",
       "q41             int64\n",
       "q42             int64\n",
       "q43             int64\n",
       "q44             int64\n",
       "introelapse     int64\n",
       "testelapse      int64\n",
       "country        object\n",
       "fromgoogle      int64\n",
       "engnat          int64\n",
       "age             int64\n",
       "education       int64\n",
       "gender          int64\n",
       "orientation     int64\n",
       "race            int64\n",
       "religion        int64\n",
       "hand            int64\n",
       "dtype: object"
      ]
     },
     "execution_count": 6,
     "metadata": {},
     "output_type": "execute_result"
    }
   ],
   "source": [
    "df.dtypes # Almost all of data is int\n",
    "# df.isnull().sum() # There are no missing value"
   ]
  },
  {
   "cell_type": "code",
   "execution_count": 7,
   "id": "14019f18",
   "metadata": {},
   "outputs": [
    {
     "data": {
      "text/plain": [
       "Index(['q1', 'q2', 'q3', 'q4', 'q5', 'q6', 'q7', 'q8', 'q9', 'q10', 'q11',\n",
       "       'q12', 'q13', 'q14', 'q15', 'q16', 'q17', 'q18', 'q19', 'q20', 'q21',\n",
       "       'q22', 'q23', 'q24', 'q25', 'q26', 'q27', 'q28', 'q29', 'q30', 'q31',\n",
       "       'q32', 'q33', 'q34', 'q35', 'q36', 'q37', 'q38', 'q39', 'q40', 'q41',\n",
       "       'q42', 'q43', 'q44', 'introelapse', 'testelapse', 'country',\n",
       "       'fromgoogle', 'engnat', 'age', 'education', 'gender', 'orientation',\n",
       "       'race', 'religion', 'hand'],\n",
       "      dtype='object')"
      ]
     },
     "execution_count": 7,
     "metadata": {},
     "output_type": "execute_result"
    }
   ],
   "source": [
    "df.columns"
   ]
  },
  {
   "cell_type": "code",
   "execution_count": 8,
   "id": "8ce52c00",
   "metadata": {},
   "outputs": [],
   "source": [
    "# Drop all unnescessary columns\n",
    "df = df.drop(columns = ['introelapse','country','fromgoogle','engnat',\\\n",
    "                       'education','race', 'religion','testelapse','age'])"
   ]
  },
  {
   "cell_type": "code",
   "execution_count": 9,
   "id": "6dcedf37",
   "metadata": {},
   "outputs": [
    {
     "data": {
      "text/plain": [
       "1    3542\n",
       "2     452\n",
       "3     179\n",
       "0      11\n",
       "Name: hand, dtype: int64"
      ]
     },
     "execution_count": 9,
     "metadata": {},
     "output_type": "execute_result"
    }
   ],
   "source": [
    "df['hand'].value_counts()"
   ]
  },
  {
   "cell_type": "code",
   "execution_count": 10,
   "id": "66c2b389",
   "metadata": {
    "scrolled": true
   },
   "outputs": [
    {
     "data": {
      "text/plain": [
       "1    0.846558\n",
       "2    0.108031\n",
       "3    0.042782\n",
       "0    0.002629\n",
       "Name: hand, dtype: float64"
      ]
     },
     "execution_count": 10,
     "metadata": {},
     "output_type": "execute_result"
    }
   ],
   "source": [
    "# Target varaiable: 'hand'\n",
    "# 1: Right-hander\n",
    "# 2: Left-hander\n",
    "# 3: Both\n",
    "\n",
    "# Why would you drop zero?\n",
    "# A: Small % of values and we aren't clear on what 0 means. \n",
    "#but we think it's likely a missing value stand-in\n",
    "\n",
    "\n",
    "# Why do we do about value of 3? Ambidextrous folks.\n",
    "# We're unable to differntiate between dominant hand.\n",
    "# Also, larger $ of 'hand' value but not overwhelming in term of\n",
    "# row or information loss\n",
    "\n",
    "# Options: exclude them, leave ambi folks in as category of their own,\n",
    "# or  combining with another category\n",
    "df['hand'].value_counts(normalize=True)"
   ]
  },
  {
   "cell_type": "code",
   "execution_count": 11,
   "id": "870e65ff",
   "metadata": {},
   "outputs": [],
   "source": [
    "# filter only left-hander, right-hander (hand = 1 and 2)\n",
    "df = df[(df['hand'] > 0) & (df['hand'] < 3)]"
   ]
  },
  {
   "cell_type": "code",
   "execution_count": 12,
   "id": "58309df7",
   "metadata": {},
   "outputs": [
    {
     "data": {
      "text/plain": [
       "1    2436\n",
       "3     458\n",
       "4     435\n",
       "2     369\n",
       "5     292\n",
       "0       4\n",
       "Name: q1, dtype: int64"
      ]
     },
     "execution_count": 12,
     "metadata": {},
     "output_type": "execute_result"
    }
   ],
   "source": [
    "# Cook book tell us 1 = Disagree, 3 = Neutral, 5 = Agree\n",
    "# What might #2 and #4 present?\n",
    "# 2 = slightly disagree\n",
    "# 4 = slightly agree\n",
    "# What does 0 mean?\n",
    "# Maybe non-answer\n",
    "df['q1'].value_counts()"
   ]
  },
  {
   "cell_type": "code",
   "execution_count": 13,
   "id": "45b0044a",
   "metadata": {},
   "outputs": [
    {
     "data": {
      "text/plain": [
       "(3994, 47)"
      ]
     },
     "execution_count": 13,
     "metadata": {},
     "output_type": "execute_result"
    }
   ],
   "source": [
    "df.shape"
   ]
  },
  {
   "cell_type": "code",
   "execution_count": 14,
   "id": "c0350161",
   "metadata": {},
   "outputs": [
    {
     "data": {
      "text/plain": [
       "q1               4\n",
       "q2              11\n",
       "q3              11\n",
       "q4              16\n",
       "q5              14\n",
       "q6              11\n",
       "q7              17\n",
       "q8               9\n",
       "q9              13\n",
       "q10             10\n",
       "q11             15\n",
       "q12             20\n",
       "q13             14\n",
       "q14             21\n",
       "q15             14\n",
       "q16             19\n",
       "q17             19\n",
       "q18             24\n",
       "q19             11\n",
       "q20             12\n",
       "q21             17\n",
       "q22             17\n",
       "q23             21\n",
       "q24             22\n",
       "q25             17\n",
       "q26             19\n",
       "q27             17\n",
       "q28             17\n",
       "q29             11\n",
       "q30             12\n",
       "q31             15\n",
       "q32             10\n",
       "q33             15\n",
       "q34             16\n",
       "q35             13\n",
       "q36             15\n",
       "q37             17\n",
       "q38             19\n",
       "q39             13\n",
       "q40             11\n",
       "q41             13\n",
       "q42             19\n",
       "q43             21\n",
       "q44             17\n",
       "gender          74\n",
       "orientation    115\n",
       "hand             0\n",
       "dtype: int64"
      ]
     },
     "execution_count": 14,
     "metadata": {},
     "output_type": "execute_result"
    }
   ],
   "source": [
    "(df == 0).sum()"
   ]
  },
  {
   "cell_type": "code",
   "execution_count": 15,
   "id": "6a72fade",
   "metadata": {},
   "outputs": [
    {
     "data": {
      "text/plain": [
       "q1     0\n",
       "q36    0\n",
       "q27    0\n",
       "q28    0\n",
       "q29    0\n",
       "dtype: int64"
      ]
     },
     "execution_count": 15,
     "metadata": {},
     "output_type": "execute_result"
    }
   ],
   "source": [
    "# Filter out value = 0 in all rows\n",
    "df = df.loc[(df != 0).all(axis = 1)]\n",
    "\n",
    "# Check any value = 0 in dataframe\n",
    "(df == 0).sum().sort_values(ascending = False).head()"
   ]
  },
  {
   "cell_type": "code",
   "execution_count": 16,
   "id": "1394f753",
   "metadata": {},
   "outputs": [
    {
     "data": {
      "text/plain": [
       "Index(['q1', 'q2', 'q3', 'q4', 'q5', 'q6', 'q7', 'q8', 'q9', 'q10', 'q11',\n",
       "       'q12', 'q13', 'q14', 'q15', 'q16', 'q17', 'q18', 'q19', 'q20', 'q21',\n",
       "       'q22', 'q23', 'q24', 'q25', 'q26', 'q27', 'q28', 'q29', 'q30', 'q31',\n",
       "       'q32', 'q33', 'q34', 'q35', 'q36', 'q37', 'q38', 'q39', 'q40', 'q41',\n",
       "       'q42', 'q43', 'q44', 'gender', 'orientation', 'hand'],\n",
       "      dtype='object')"
      ]
     },
     "execution_count": 16,
     "metadata": {},
     "output_type": "execute_result"
    }
   ],
   "source": [
    "# Column contain q1 - q44 include gender, \n",
    "# orientation and target variable of hand.\n",
    "df.columns"
   ]
  },
  {
   "cell_type": "code",
   "execution_count": 17,
   "id": "4c32e4cd",
   "metadata": {},
   "outputs": [
    {
     "data": {
      "text/plain": [
       "0    0.891822\n",
       "1    0.108178\n",
       "Name: hand, dtype: float64"
      ]
     },
     "execution_count": 17,
     "metadata": {},
     "output_type": "execute_result"
    }
   ],
   "source": [
    "# Change value in hand column\n",
    "# Right-hander: 1 to 0\n",
    "# Left-hander: 2 to 1\n",
    "df['hand'] = df['hand'] - 1\n",
    "df['hand'].value_counts(normalize=True)"
   ]
  },
  {
   "cell_type": "code",
   "execution_count": 18,
   "id": "ee8810a4",
   "metadata": {},
   "outputs": [
    {
     "data": {
      "text/plain": [
       "0    3108\n",
       "1     377\n",
       "Name: hand, dtype: int64"
      ]
     },
     "execution_count": 18,
     "metadata": {},
     "output_type": "execute_result"
    }
   ],
   "source": [
    "df['hand'].value_counts()"
   ]
  },
  {
   "cell_type": "markdown",
   "id": "bb26e657",
   "metadata": {},
   "source": [
    "### Calculate and interpret the baseline accuracy rate:"
   ]
  },
  {
   "cell_type": "code",
   "execution_count": 19,
   "id": "89ecc3c6",
   "metadata": {
    "scrolled": true
   },
   "outputs": [
    {
     "data": {
      "text/plain": [
       "0    0.891822\n",
       "1    0.108178\n",
       "Name: hand, dtype: float64"
      ]
     },
     "execution_count": 19,
     "metadata": {},
     "output_type": "execute_result"
    }
   ],
   "source": [
    "df['hand'].value_counts(normalize=True)"
   ]
  },
  {
   "cell_type": "markdown",
   "id": "2016bb4e",
   "metadata": {},
   "source": [
    "### Short answer questions:\n",
    "\n",
    "In this lab you'll use K-nearest neighbors and logistic regression to model handedness based off of psychological factors. Answer the following related questions; your answers may be in bullet points.\n",
    "\n",
    "#### Describe the difference between regression and classification problems:"
   ]
  },
  {
   "cell_type": "code",
   "execution_count": 20,
   "id": "4807bf69",
   "metadata": {},
   "outputs": [],
   "source": [
    "# regression: The regression model is the model using for \n",
    "# predict the continuous target value for example, housing price.\n",
    "\n",
    "# classification: The classification model is the model using for\n",
    "# predict the category, discreate value for example, predict type of iris flower.\n",
    "# sometimes binary, sometimes multiclass"
   ]
  },
  {
   "cell_type": "markdown",
   "id": "b7469aee",
   "metadata": {},
   "source": [
    "#### Considering $k$-nearest neighbors, describe the relationship between $k$ and the bias-variance tradeoff:"
   ]
  },
  {
   "cell_type": "code",
   "execution_count": 21,
   "id": "a758c2c6",
   "metadata": {},
   "outputs": [],
   "source": [
    "# High bias -> underfitting\n",
    "# High variance -> overfitting\n",
    "\n",
    "# k is the number of neighbors that help kNN identify which class label\n",
    "# a data point would belong in\n",
    "\n",
    "# smaller k --> may lead high variance (overfitting)\n",
    "# optimal k --> 'the sweet spot' --> neither underfitting or overfitting\n",
    "# and getting good predictive power without being computional\n",
    "# expensive\n",
    "# larger k --> may lead high bias (underfitting)"
   ]
  },
  {
   "cell_type": "markdown",
   "id": "7bdc66d6",
   "metadata": {},
   "source": [
    "#### Why do we often standardize predictor variables when using $k$-nearest neighbors?"
   ]
  },
  {
   "cell_type": "code",
   "execution_count": 22,
   "id": "a175b54e",
   "metadata": {},
   "outputs": [],
   "source": [
    "# predictor variable --> features or X\n",
    "\n",
    "# We need to standardize the predictor because kNN model is the \n",
    "# distance based model and scale/magnitude of features\n",
    "# impacts performance and output.\n",
    "\n",
    "# Standardization (StandardScaler) --> \n",
    "# rescales value in the features columns to have\n",
    "# each column posses a mean of zero, std of 1"
   ]
  },
  {
   "cell_type": "markdown",
   "id": "4ad52536",
   "metadata": {},
   "source": [
    "#### Do you think we should standardize the explanatory variables for this problem? Why or why not?"
   ]
  },
  {
   "cell_type": "code",
   "execution_count": 23,
   "id": "71ccc6f2",
   "metadata": {},
   "outputs": [],
   "source": [
    "# explanatory variable --> features or X\n",
    "\n",
    "# Possibly not this time as all our features to be used\n",
    "# are ranged from 1-5. Already on the same or very similar scale."
   ]
  },
  {
   "cell_type": "markdown",
   "id": "1cf6e09f",
   "metadata": {},
   "source": [
    "#### How do we settle on $k$ for a $k$-nearest neighbors model?"
   ]
  },
  {
   "cell_type": "code",
   "execution_count": 24,
   "id": "0c8aa87d",
   "metadata": {},
   "outputs": [],
   "source": [
    "# Option\n",
    "\n",
    "# 1. Use the default\n",
    "# 2. Guess\n",
    "# 3. Loop/iterate through a range of k options and select the\n",
    "#    optimal one based on score"
   ]
  },
  {
   "cell_type": "markdown",
   "id": "958fe4a8",
   "metadata": {},
   "source": [
    "#### What is the default type of regularization for logistic regression as implemented in scikit-learn? (You might [check the documentation](https://scikit-learn.org/stable/modules/generated/sklearn.linear_model.LogisticRegression.html).)"
   ]
  },
  {
   "cell_type": "code",
   "execution_count": 25,
   "id": "b49dadcf",
   "metadata": {},
   "outputs": [],
   "source": [
    "# The default regulariation for logistic regression is ridge regularization.\n",
    "# (l2)"
   ]
  },
  {
   "cell_type": "markdown",
   "id": "f4b117e3",
   "metadata": {},
   "source": [
    "#### Describe the relationship between the scikit-learn `LogisticRegression` argument `C` and regularization strength:"
   ]
  },
  {
   "cell_type": "code",
   "execution_count": 26,
   "id": "d0bece7f",
   "metadata": {},
   "outputs": [],
   "source": [
    "# C : float, default=1.0\n",
    "#    Inverse of regularization strength; must be a positive float.\n",
    "#    Like in support vector machines \n",
    "\n",
    "# Smaller values specify stronger regularization.\n",
    "# C = 1/alpha\n",
    "# If alpha = 1, what is C? 1\n",
    "# If alpha = 0.1, what is C? 10\n",
    "\n",
    "# What does a higher C mean? Less regularization\n",
    "# What doest a lower C mean? MORE regularization"
   ]
  },
  {
   "cell_type": "markdown",
   "id": "4f19a574",
   "metadata": {},
   "source": [
    "#### Describe the relationship between regularization strength and the bias-variance tradeoff:"
   ]
  },
  {
   "cell_type": "code",
   "execution_count": 27,
   "id": "82c2edec",
   "metadata": {},
   "outputs": [],
   "source": [
    "# Why and when do we regularizae?\n",
    "\n",
    "# Why? Avoid error due to high variance (overfitting)\n",
    "# When? High model complexity which is causing overfitting.\n",
    "\n",
    "# C is high --> less --> more prone to overfitting\n",
    "# C is low --> MORE --> less prone to overfitting and if\n",
    "# overdone, we could possibly get to underfitting"
   ]
  },
  {
   "cell_type": "markdown",
   "id": "7089674d",
   "metadata": {},
   "source": [
    "#### Logistic regression is considered more interpretable than $k$-nearest neighbors. Explain why."
   ]
  },
  {
   "cell_type": "code",
   "execution_count": 28,
   "id": "cf94e95b",
   "metadata": {},
   "outputs": [],
   "source": [
    "#Interpretable?\n",
    "# LogReg has coefficient (statistical parameters) which are sometimes\n",
    "# referred as betas. kNN is non-parametric and has no coefficients\n",
    "# or statistical parameters.\n",
    "\n",
    "\n",
    "# Explainable to a non-technical individual?\n",
    "# Conceptually, kNN isn't too hard to explain to a wide audience\n",
    "\n",
    "# Explaining relationships in a meaningful and actionable way?\n",
    "# kNN fails and LogReg is better"
   ]
  },
  {
   "cell_type": "code",
   "execution_count": 29,
   "id": "c4ce6b98",
   "metadata": {},
   "outputs": [],
   "source": [
    "# Don't regularize unless you need to.\n",
    "# Turn penalty off"
   ]
  },
  {
   "cell_type": "markdown",
   "id": "00360fc0",
   "metadata": {},
   "source": [
    "---\n",
    "\n",
    "## Step 4 & 5 Modeling: $k$-nearest neighbors\n",
    "\n",
    "### Train-test split your data:\n",
    "\n",
    "Your explanatory variables should be "
   ]
  },
  {
   "cell_type": "code",
   "execution_count": 30,
   "id": "7239cca8",
   "metadata": {},
   "outputs": [],
   "source": [
    "# Set X and y\n",
    "X = df.drop(columns = ['hand','gender','orientation'])\n",
    "y = df['hand']\n",
    "\n",
    "# Get dummies variable for gender and orientation in X\n",
    "#X = pd.get_dummies(data = X, columns = ['gender','orientation'])\n",
    "\n",
    "# Split the train/test: X before y, train before test\n",
    "X_train, X_test, y_train, y_test = train_test_split(X, y,random_state=42)"
   ]
  },
  {
   "cell_type": "code",
   "execution_count": 31,
   "id": "81698149",
   "metadata": {},
   "outputs": [
    {
     "data": {
      "text/plain": [
       "0    89.169537\n",
       "1    10.830463\n",
       "Name: hand, dtype: float64"
      ]
     },
     "execution_count": 31,
     "metadata": {},
     "output_type": "execute_result"
    }
   ],
   "source": [
    "# Checking the distribution of class labels in y_train\n",
    "# and y_test to check balance of data\n",
    "y_train.value_counts(normalize=True)*100"
   ]
  },
  {
   "cell_type": "code",
   "execution_count": 32,
   "id": "132f235a",
   "metadata": {},
   "outputs": [
    {
     "data": {
      "text/plain": [
       "0    89.220183\n",
       "1    10.779817\n",
       "Name: hand, dtype: float64"
      ]
     },
     "execution_count": 32,
     "metadata": {},
     "output_type": "execute_result"
    }
   ],
   "source": [
    "y_test.value_counts(normalize=True)*100"
   ]
  },
  {
   "cell_type": "code",
   "execution_count": 33,
   "id": "9a2d5c2e",
   "metadata": {},
   "outputs": [],
   "source": [
    "# Scale the X value\n",
    "# Using in logistic regression with regularization model\n",
    "\n",
    "# Instantiate\n",
    "sc = StandardScaler()\n",
    "\n",
    "# Fit only X_train, transform both X_train and X_test\n",
    "X_train_sc = sc.fit_transform(X_train)\n",
    "X_test_sc = sc.transform(X_test)"
   ]
  },
  {
   "cell_type": "markdown",
   "id": "772f7e27",
   "metadata": {},
   "source": [
    "#### Create and fit four separate $k$-nearest neighbors models: one with $k = 3$, one with $k = 5$, one with $k = 15$, and one with $k = 25$:"
   ]
  },
  {
   "cell_type": "code",
   "execution_count": 34,
   "id": "731c514c",
   "metadata": {},
   "outputs": [],
   "source": [
    "k_score = pd.DataFrame(columns = ['k','train_score','test_score','pred_one'])\n",
    "\n",
    "for n, k in enumerate([3,5,15,25]):\n",
    "    knn = KNeighborsClassifier(n_neighbors=k)\n",
    "    knn.fit(X_train,y_train)\n",
    "    y_preds = knn.predict(X_test)\n",
    "    minority_class_preds = (y_preds == 1)\n",
    "    pred_one = pd.Series(minority_class_preds).sum()\n",
    "    train_score = knn.score(X_train, y_train)\n",
    "    test_score = knn.score(X_test, y_test)\n",
    "    k_score.loc[n] = [k, train_score, test_score, pred_one]"
   ]
  },
  {
   "cell_type": "code",
   "execution_count": 35,
   "id": "a4764da0",
   "metadata": {
    "scrolled": true
   },
   "outputs": [
    {
     "data": {
      "text/html": [
       "<div>\n",
       "<style scoped>\n",
       "    .dataframe tbody tr th:only-of-type {\n",
       "        vertical-align: middle;\n",
       "    }\n",
       "\n",
       "    .dataframe tbody tr th {\n",
       "        vertical-align: top;\n",
       "    }\n",
       "\n",
       "    .dataframe thead th {\n",
       "        text-align: right;\n",
       "    }\n",
       "</style>\n",
       "<table border=\"1\" class=\"dataframe\">\n",
       "  <thead>\n",
       "    <tr style=\"text-align: right;\">\n",
       "      <th></th>\n",
       "      <th>k</th>\n",
       "      <th>train_score</th>\n",
       "      <th>test_score</th>\n",
       "      <th>pred_one</th>\n",
       "    </tr>\n",
       "  </thead>\n",
       "  <tbody>\n",
       "    <tr>\n",
       "      <th>0</th>\n",
       "      <td>3.0</td>\n",
       "      <td>0.903559</td>\n",
       "      <td>0.849771</td>\n",
       "      <td>37.0</td>\n",
       "    </tr>\n",
       "    <tr>\n",
       "      <th>1</th>\n",
       "      <td>5.0</td>\n",
       "      <td>0.894757</td>\n",
       "      <td>0.872706</td>\n",
       "      <td>17.0</td>\n",
       "    </tr>\n",
       "    <tr>\n",
       "      <th>2</th>\n",
       "      <td>15.0</td>\n",
       "      <td>0.891695</td>\n",
       "      <td>0.892202</td>\n",
       "      <td>0.0</td>\n",
       "    </tr>\n",
       "    <tr>\n",
       "      <th>3</th>\n",
       "      <td>25.0</td>\n",
       "      <td>0.891695</td>\n",
       "      <td>0.892202</td>\n",
       "      <td>0.0</td>\n",
       "    </tr>\n",
       "  </tbody>\n",
       "</table>\n",
       "</div>"
      ],
      "text/plain": [
       "      k  train_score  test_score  pred_one\n",
       "0   3.0     0.903559    0.849771      37.0\n",
       "1   5.0     0.894757    0.872706      17.0\n",
       "2  15.0     0.891695    0.892202       0.0\n",
       "3  25.0     0.891695    0.892202       0.0"
      ]
     },
     "execution_count": 35,
     "metadata": {},
     "output_type": "execute_result"
    }
   ],
   "source": [
    "k_score"
   ]
  },
  {
   "cell_type": "markdown",
   "id": "6ea6f202",
   "metadata": {},
   "source": [
    "### Evaluate your models:\n",
    "\n",
    "Evaluate each of your four models on the training and testing sets, and interpret the four scores. Are any of your models overfit or underfit? Do any of your models beat the baseline accuracy rate?"
   ]
  },
  {
   "cell_type": "code",
   "execution_count": 36,
   "id": "68223ec1",
   "metadata": {},
   "outputs": [],
   "source": [
    "# Any of our kNN models overfit? No\n",
    "# Any of our kNN models underfit? Not necessarily, but\n",
    "# The higher k test score are the baseline accuracy\n",
    "# Appears good on majority, bad on minority class\n",
    "\n",
    "# The challenge here is not so much the algorithm or the # of k\n",
    "# but the imbalanced class split along with a tenuous likely\n",
    "# relationship between X and y"
   ]
  },
  {
   "cell_type": "code",
   "execution_count": 37,
   "id": "993f0946",
   "metadata": {},
   "outputs": [
    {
     "data": {
      "text/plain": [
       "89.18220946915352"
      ]
     },
     "execution_count": 37,
     "metadata": {},
     "output_type": "execute_result"
    }
   ],
   "source": [
    "# The baseline accuracy\n",
    "# If the algorithm just selected the majority for each of its\n",
    "# predictions\n",
    "# Algorithmic equivalent --> DummyClassifier set to 'most_frequent'\n",
    "y.value_counts(normalize=True).mul(100)[0]"
   ]
  },
  {
   "cell_type": "code",
   "execution_count": 38,
   "id": "b3e76c41",
   "metadata": {},
   "outputs": [
    {
     "data": {
      "text/plain": [
       "89.22018348623854"
      ]
     },
     "execution_count": 38,
     "metadata": {},
     "output_type": "execute_result"
    }
   ],
   "source": [
    "y_test.value_counts(normalize=True).mul(100)[0]"
   ]
  },
  {
   "cell_type": "code",
   "execution_count": 39,
   "id": "c9c79a7e",
   "metadata": {},
   "outputs": [],
   "source": [
    "# Option...\n",
    "\n",
    "# Addressing the classs label imbalance (switching k at 90/10 split\n",
    "# made no significant difference in models predictive accuracy)\n",
    "\n",
    "# Find left-handed people to survey\n",
    "# Oversampling the minority class\n",
    "# Undersampling the majority class\n",
    "# A bit both (SMOTE) --> Syntheic Minority Over-sampling Technique\n",
    "# Algorithmically increase the number of your cases in\n",
    "# your dataset in a more balanced way"
   ]
  },
  {
   "cell_type": "markdown",
   "id": "8488dc25",
   "metadata": {},
   "source": [
    "---\n",
    "\n",
    "## Step 4 & 5 Modeling: logistic regression\n",
    "\n",
    "#### Create and fit four separate logistic regression models: one with LASSO and $\\alpha = 1$, one with LASSO and $\\alpha = 10$, one with Ridge and $\\alpha = 1$, and one with Ridge and $\\alpha = 10$. *(Hint: Be careful with how you specify $\\alpha$ in your model!)*\n",
    "\n",
    "Note: You can use the same train and test data as above."
   ]
  },
  {
   "cell_type": "code",
   "execution_count": 43,
   "id": "fe96a2d4",
   "metadata": {},
   "outputs": [],
   "source": [
    "# Instantiate model (C = 1/alpha)\n",
    "loglasso_1 = LogisticRegression(penalty='l1', solver = 'saga')\n",
    "loglasso_10 = LogisticRegression(penalty='l1', C = 0.1, solver = 'saga')\n",
    "logridge_1 = LogisticRegression(solver = 'saga')\n",
    "logridge_10 = LogisticRegression(C = 0.1, solver = 'saga')\n",
    "\n",
    "log_model_list = [loglasso_1, loglasso_10, logridge_1, logridge_10]\n",
    "logreg_score = pd.DataFrame(columns = ['penalty','alpha','train_score','test_score','pred_one'])\n",
    "# Fit model\n",
    "for i in range(len(log_model_list)):\n",
    "    log_model_list[i].fit(X_train_sc, y_train)\n",
    "    train_score = round(log_model_list[i].score(X_train_sc, y_train),4)\n",
    "    test_score = round(log_model_list[i].score(X_test_sc, y_test),4)\n",
    "    y_preds_one = (log_model_list[i].predict(X_test_sc) == 1).sum()\n",
    "    logreg_score.loc[i] = [log_model_list[i].penalty, 1/log_model_list[i].C,\n",
    "                           train_score, test_score, y_preds_one]"
   ]
  },
  {
   "cell_type": "code",
   "execution_count": 44,
   "id": "1e08536f",
   "metadata": {},
   "outputs": [
    {
     "data": {
      "text/html": [
       "<div>\n",
       "<style scoped>\n",
       "    .dataframe tbody tr th:only-of-type {\n",
       "        vertical-align: middle;\n",
       "    }\n",
       "\n",
       "    .dataframe tbody tr th {\n",
       "        vertical-align: top;\n",
       "    }\n",
       "\n",
       "    .dataframe thead th {\n",
       "        text-align: right;\n",
       "    }\n",
       "</style>\n",
       "<table border=\"1\" class=\"dataframe\">\n",
       "  <thead>\n",
       "    <tr style=\"text-align: right;\">\n",
       "      <th></th>\n",
       "      <th>penalty</th>\n",
       "      <th>alpha</th>\n",
       "      <th>train_score</th>\n",
       "      <th>test_score</th>\n",
       "      <th>pred_one</th>\n",
       "    </tr>\n",
       "  </thead>\n",
       "  <tbody>\n",
       "    <tr>\n",
       "      <th>0</th>\n",
       "      <td>l1</td>\n",
       "      <td>1.0</td>\n",
       "      <td>0.8917</td>\n",
       "      <td>0.8922</td>\n",
       "      <td>0</td>\n",
       "    </tr>\n",
       "    <tr>\n",
       "      <th>1</th>\n",
       "      <td>l1</td>\n",
       "      <td>10.0</td>\n",
       "      <td>0.8917</td>\n",
       "      <td>0.8922</td>\n",
       "      <td>0</td>\n",
       "    </tr>\n",
       "    <tr>\n",
       "      <th>2</th>\n",
       "      <td>l2</td>\n",
       "      <td>1.0</td>\n",
       "      <td>0.8917</td>\n",
       "      <td>0.8922</td>\n",
       "      <td>0</td>\n",
       "    </tr>\n",
       "    <tr>\n",
       "      <th>3</th>\n",
       "      <td>l2</td>\n",
       "      <td>10.0</td>\n",
       "      <td>0.8917</td>\n",
       "      <td>0.8922</td>\n",
       "      <td>0</td>\n",
       "    </tr>\n",
       "  </tbody>\n",
       "</table>\n",
       "</div>"
      ],
      "text/plain": [
       "  penalty  alpha  train_score  test_score  pred_one\n",
       "0      l1    1.0       0.8917      0.8922         0\n",
       "1      l1   10.0       0.8917      0.8922         0\n",
       "2      l2    1.0       0.8917      0.8922         0\n",
       "3      l2   10.0       0.8917      0.8922         0"
      ]
     },
     "execution_count": 44,
     "metadata": {},
     "output_type": "execute_result"
    }
   ],
   "source": [
    "logreg_score"
   ]
  },
  {
   "cell_type": "markdown",
   "id": "703eecea",
   "metadata": {},
   "source": [
    "### Evaluate your models:\n",
    "\n",
    "Evaluate each of your four models on the training and testing sets, and interpret the four scores. Are any of your models overfit or underfit? Do any of your models beat the baseline accuracy rate?"
   ]
  },
  {
   "cell_type": "code",
   "execution_count": 45,
   "id": "92428dc3",
   "metadata": {},
   "outputs": [
    {
     "data": {
      "text/plain": [
       "0    0.892202\n",
       "1    0.107798\n",
       "Name: hand, dtype: float64"
      ]
     },
     "execution_count": 45,
     "metadata": {},
     "output_type": "execute_result"
    }
   ],
   "source": [
    "# baseline for y_test\n",
    "y_test.value_counts(normalize=True)"
   ]
  },
  {
   "cell_type": "code",
   "execution_count": null,
   "id": "d54fc15b",
   "metadata": {},
   "outputs": [],
   "source": [
    "# All of the logistic regression models have accuracy rate equal to baseline accuracy.\n",
    "# Maybe all of the model can't predict the left-handed due to unbalance data."
   ]
  },
  {
   "cell_type": "markdown",
   "id": "e36a746e",
   "metadata": {},
   "source": [
    "---\n",
    "\n",
    "## Step 6: Answer the problem.\n",
    "\n",
    "Are any of your models worth moving forward with? What are the \"best\" models?"
   ]
  },
  {
   "cell_type": "code",
   "execution_count": null,
   "id": "9f588bad",
   "metadata": {},
   "outputs": [],
   "source": [
    "# All model can't predict the minority class.\n",
    "# The problem of this project is unbalanced data."
   ]
  }
 ],
 "metadata": {
  "kernelspec": {
   "display_name": "Python 3 (ipykernel)",
   "language": "python",
   "name": "python3"
  },
  "language_info": {
   "codemirror_mode": {
    "name": "ipython",
    "version": 3
   },
   "file_extension": ".py",
   "mimetype": "text/x-python",
   "name": "python",
   "nbconvert_exporter": "python",
   "pygments_lexer": "ipython3",
   "version": "3.9.12"
  }
 },
 "nbformat": 4,
 "nbformat_minor": 5
}
