{
 "cells": [
  {
   "cell_type": "markdown",
   "metadata": {},
   "source": [
    "<img src=\"http://imgur.com/1ZcRyrc.png\" style=\"float: left; margin: 20px; height: 55px\">\n",
    "\n",
    "# Supervised Learning Model Comparison\n",
    "\n",
    "_author The arbitrary and capricious heart of data science_\n",
    "\n",
    "---\n",
    "\n",
    "### Let us begin...\n",
    "\n",
    "Recall the \"data science process.\"\n",
    "   1. Define the problem.\n",
    "   2. Gather the data.\n",
    "   3. Explore the data.\n",
    "   4. Model the data.\n",
    "   5. Evaluate the model.\n",
    "   6. Answer the problem.\n",
    "\n",
    "In this lab, we're going to focus mostly on creating (and then comparing) many regression and classification models. Thus, we'll define the problem and gather the data for you.\n",
    "Most of the questions requiring a written response can be written in 2-3 sentences."
   ]
  },
  {
   "cell_type": "markdown",
   "metadata": {},
   "source": [
    "### Step 1: Define the problem.\n",
    "\n",
    "You are a data scientist with a financial services company. Specifically, you want to leverage data in order to identify potential customers.\n",
    "\n",
    "If you are unfamiliar with \"401(k)s\" or \"IRAs,\" these are two types of retirement accounts. Very broadly speaking:\n",
    "- You can put money for retirement into both of these accounts.\n",
    "- The money in these accounts gets invested and hopefully has a lot more money in it when you retire.\n",
    "- These are a little different from regular bank accounts in that there are certain tax benefits to these accounts. Also, employers frequently match money that you put into a 401k.\n",
    "- If you want to learn more about them, check out [this site](https://www.nerdwallet.com/article/ira-vs-401k-retirement-accounts).\n",
    "\n",
    "We will tackle one regression problem and one classification problem today.\n",
    "- Regression: What features best predict one's income?\n",
    "- Classification: Predict whether or not one is eligible for a 401k.\n",
    "\n",
    "Check out the data dictionary [here](http://fmwww.bc.edu/ec-p/data/wooldridge2k/401KSUBS.DES).\n",
    "\n",
    "### NOTE: When predicting `inc`, you should pretend as though you do not have access to the `e401k`, the `p401k` variable, and the `pira` variable. When predicting `e401k`, you may use the entire dataframe if you wish."
   ]
  },
  {
   "cell_type": "markdown",
   "metadata": {},
   "source": [
    "### Step 2: Gather the data.\n",
    "\n",
    "##### 1. Read in the data from the repository."
   ]
  },
  {
   "cell_type": "code",
   "execution_count": 1,
   "metadata": {},
   "outputs": [],
   "source": [
    "import pandas as pd\n",
    "import numpy as np\n",
    "import matplotlib.pyplot as plt\n",
    "import seaborn as sns\n",
    "import time\n",
    "\n",
    "from sklearn.linear_model import LinearRegression, LogisticRegression\n",
    "from sklearn.tree import DecisionTreeRegressor, DecisionTreeClassifier, \\\n",
    "plot_tree, export_text\n",
    "from sklearn.model_selection import train_test_split, GridSearchCV, RandomizedSearchCV\n",
    "from sklearn.preprocessing import StandardScaler\n",
    "from sklearn.neighbors import KNeighborsRegressor, KNeighborsClassifier\n",
    "from sklearn.ensemble import RandomForestClassifier,RandomForestRegressor, AdaBoostRegressor,\\\n",
    "BaggingClassifier, BaggingRegressor, AdaBoostClassifier\n",
    "from sklearn.pipeline import Pipeline\n",
    "from sklearn.metrics import mean_squared_error, r2_score, confusion_matrix, accuracy_score,\\\n",
    "f1_score"
   ]
  },
  {
   "cell_type": "code",
   "execution_count": 2,
   "metadata": {
    "jupyter": {
     "outputs_hidden": true
    }
   },
   "outputs": [],
   "source": [
    "# Read 401ksubs dataset\n",
    "df = pd.read_csv('401ksubs.csv')"
   ]
  },
  {
   "cell_type": "code",
   "execution_count": 3,
   "metadata": {},
   "outputs": [
    {
     "name": "stdout",
     "output_type": "stream",
     "text": [
      "Raw data in dataset has 9275 rows and 11 columns.\n"
     ]
    }
   ],
   "source": [
    "# check # of row and column of raw data\n",
    "print(f'Raw data in dataset has {df.shape[0]} rows and {df.shape[1]} columns.')"
   ]
  },
  {
   "cell_type": "code",
   "execution_count": 4,
   "metadata": {},
   "outputs": [
    {
     "data": {
      "text/html": [
       "<div>\n",
       "<style scoped>\n",
       "    .dataframe tbody tr th:only-of-type {\n",
       "        vertical-align: middle;\n",
       "    }\n",
       "\n",
       "    .dataframe tbody tr th {\n",
       "        vertical-align: top;\n",
       "    }\n",
       "\n",
       "    .dataframe thead th {\n",
       "        text-align: right;\n",
       "    }\n",
       "</style>\n",
       "<table border=\"1\" class=\"dataframe\">\n",
       "  <thead>\n",
       "    <tr style=\"text-align: right;\">\n",
       "      <th></th>\n",
       "      <th>e401k</th>\n",
       "      <th>inc</th>\n",
       "      <th>marr</th>\n",
       "      <th>male</th>\n",
       "      <th>age</th>\n",
       "      <th>fsize</th>\n",
       "      <th>nettfa</th>\n",
       "      <th>p401k</th>\n",
       "      <th>pira</th>\n",
       "      <th>incsq</th>\n",
       "      <th>agesq</th>\n",
       "    </tr>\n",
       "  </thead>\n",
       "  <tbody>\n",
       "    <tr>\n",
       "      <th>0</th>\n",
       "      <td>0</td>\n",
       "      <td>13.170</td>\n",
       "      <td>0</td>\n",
       "      <td>0</td>\n",
       "      <td>40</td>\n",
       "      <td>1</td>\n",
       "      <td>4.575</td>\n",
       "      <td>0</td>\n",
       "      <td>1</td>\n",
       "      <td>173.4489</td>\n",
       "      <td>1600</td>\n",
       "    </tr>\n",
       "    <tr>\n",
       "      <th>1</th>\n",
       "      <td>1</td>\n",
       "      <td>61.230</td>\n",
       "      <td>0</td>\n",
       "      <td>1</td>\n",
       "      <td>35</td>\n",
       "      <td>1</td>\n",
       "      <td>154.000</td>\n",
       "      <td>1</td>\n",
       "      <td>0</td>\n",
       "      <td>3749.1130</td>\n",
       "      <td>1225</td>\n",
       "    </tr>\n",
       "    <tr>\n",
       "      <th>2</th>\n",
       "      <td>0</td>\n",
       "      <td>12.858</td>\n",
       "      <td>1</td>\n",
       "      <td>0</td>\n",
       "      <td>44</td>\n",
       "      <td>2</td>\n",
       "      <td>0.000</td>\n",
       "      <td>0</td>\n",
       "      <td>0</td>\n",
       "      <td>165.3282</td>\n",
       "      <td>1936</td>\n",
       "    </tr>\n",
       "    <tr>\n",
       "      <th>3</th>\n",
       "      <td>0</td>\n",
       "      <td>98.880</td>\n",
       "      <td>1</td>\n",
       "      <td>1</td>\n",
       "      <td>44</td>\n",
       "      <td>2</td>\n",
       "      <td>21.800</td>\n",
       "      <td>0</td>\n",
       "      <td>0</td>\n",
       "      <td>9777.2540</td>\n",
       "      <td>1936</td>\n",
       "    </tr>\n",
       "    <tr>\n",
       "      <th>4</th>\n",
       "      <td>0</td>\n",
       "      <td>22.614</td>\n",
       "      <td>0</td>\n",
       "      <td>0</td>\n",
       "      <td>53</td>\n",
       "      <td>1</td>\n",
       "      <td>18.450</td>\n",
       "      <td>0</td>\n",
       "      <td>0</td>\n",
       "      <td>511.3930</td>\n",
       "      <td>2809</td>\n",
       "    </tr>\n",
       "  </tbody>\n",
       "</table>\n",
       "</div>"
      ],
      "text/plain": [
       "   e401k     inc  marr  male  age  fsize   nettfa  p401k  pira      incsq  \\\n",
       "0      0  13.170     0     0   40      1    4.575      0     1   173.4489   \n",
       "1      1  61.230     0     1   35      1  154.000      1     0  3749.1130   \n",
       "2      0  12.858     1     0   44      2    0.000      0     0   165.3282   \n",
       "3      0  98.880     1     1   44      2   21.800      0     0  9777.2540   \n",
       "4      0  22.614     0     0   53      1   18.450      0     0   511.3930   \n",
       "\n",
       "   agesq  \n",
       "0   1600  \n",
       "1   1225  \n",
       "2   1936  \n",
       "3   1936  \n",
       "4   2809  "
      ]
     },
     "execution_count": 4,
     "metadata": {},
     "output_type": "execute_result"
    }
   ],
   "source": [
    "df.head()"
   ]
  },
  {
   "cell_type": "code",
   "execution_count": 5,
   "metadata": {},
   "outputs": [
    {
     "data": {
      "text/plain": [
       "Series([], dtype: int64)"
      ]
     },
     "execution_count": 5,
     "metadata": {},
     "output_type": "execute_result"
    }
   ],
   "source": [
    "# Check missing value in the dataset\n",
    "df.isnull().sum()[df.isnull().sum() != 0]"
   ]
  },
  {
   "cell_type": "markdown",
   "metadata": {},
   "source": [
    "##### 2. What are 2-3 other variables that, if available, would be helpful to have?"
   ]
  },
  {
   "cell_type": "code",
   "execution_count": 6,
   "metadata": {
    "jupyter": {
     "outputs_hidden": true
    }
   },
   "outputs": [],
   "source": [
    "# Date of hire, occupation\n",
    "# 2 of this variable may help to predict the income."
   ]
  },
  {
   "cell_type": "markdown",
   "metadata": {},
   "source": [
    "##### 3. Suppose a peer recommended putting `race` into your model in order to better predict who to target when advertising IRAs and 401(k)s. Why would this be an unethical decision?"
   ]
  },
  {
   "cell_type": "code",
   "execution_count": 7,
   "metadata": {
    "jupyter": {
     "outputs_hidden": true
    }
   },
   "outputs": [],
   "source": [
    "# Race is sensitive data and the people should have equally eligible. \n",
    "\n",
    "# Everyone should have eligible for both IRAs and 401(k)s if they reach minimum\n",
    "# requirement."
   ]
  },
  {
   "cell_type": "markdown",
   "metadata": {},
   "source": [
    "## Step 3: Explore the data.\n",
    "\n",
    "##### 4. When attempting to predict income, which feature(s) would we reasonably not use? Why?"
   ]
  },
  {
   "cell_type": "code",
   "execution_count": 8,
   "metadata": {},
   "outputs": [
    {
     "data": {
      "text/plain": [
       "Index(['e401k', 'inc', 'marr', 'male', 'age', 'fsize', 'nettfa', 'p401k',\n",
       "       'pira', 'incsq', 'agesq'],\n",
       "      dtype='object')"
      ]
     },
     "execution_count": 8,
     "metadata": {},
     "output_type": "execute_result"
    }
   ],
   "source": [
    "df.columns"
   ]
  },
  {
   "cell_type": "code",
   "execution_count": 9,
   "metadata": {
    "jupyter": {
     "outputs_hidden": true
    }
   },
   "outputs": [
    {
     "data": {
      "text/html": [
       "<div>\n",
       "<style scoped>\n",
       "    .dataframe tbody tr th:only-of-type {\n",
       "        vertical-align: middle;\n",
       "    }\n",
       "\n",
       "    .dataframe tbody tr th {\n",
       "        vertical-align: top;\n",
       "    }\n",
       "\n",
       "    .dataframe thead th {\n",
       "        text-align: right;\n",
       "    }\n",
       "</style>\n",
       "<table border=\"1\" class=\"dataframe\">\n",
       "  <thead>\n",
       "    <tr style=\"text-align: right;\">\n",
       "      <th></th>\n",
       "      <th>marr</th>\n",
       "      <th>male</th>\n",
       "      <th>age</th>\n",
       "      <th>fsize</th>\n",
       "      <th>nettfa</th>\n",
       "    </tr>\n",
       "  </thead>\n",
       "  <tbody>\n",
       "    <tr>\n",
       "      <th>0</th>\n",
       "      <td>0</td>\n",
       "      <td>0</td>\n",
       "      <td>40</td>\n",
       "      <td>1</td>\n",
       "      <td>4.575</td>\n",
       "    </tr>\n",
       "  </tbody>\n",
       "</table>\n",
       "</div>"
      ],
      "text/plain": [
       "   marr  male  age  fsize  nettfa\n",
       "0     0     0   40      1   4.575"
      ]
     },
     "execution_count": 9,
     "metadata": {},
     "output_type": "execute_result"
    }
   ],
   "source": [
    "# Feature that can be predictor for income\n",
    "df[['marr', 'male', 'age', 'fsize', 'nettfa']].head(1)"
   ]
  },
  {
   "cell_type": "code",
   "execution_count": 10,
   "metadata": {},
   "outputs": [
    {
     "data": {
      "image/png": "[encoded data removed]",
      "text/plain": [
       "<Figure size 900x900 with 20 Axes>"
      ]
     },
     "metadata": {
      "needs_background": "light"
     },
     "output_type": "display_data"
    }
   ],
   "source": [
    "# Plot pairplot for exploring overall of the data \n",
    "sns.pairplot(df[['marr', 'male', 'age', 'fsize', 'nettfa']],corner=True);"
   ]
  },
  {
   "cell_type": "code",
   "execution_count": 11,
   "metadata": {},
   "outputs": [],
   "source": [
    "# we shouldn't use feature\n",
    "\n",
    "# Male feature: Just like race we can use it to predict the income. \n",
    "# Ethically, we should treat male and female equally."
   ]
  },
  {
   "cell_type": "markdown",
   "metadata": {},
   "source": [
    "##### 5. What two variables have already been created for us through feature engineering? Come up with a hypothesis as to why subject-matter experts may have done this.\n",
    "> This need not be a \"statistical hypothesis.\" Just brainstorm why SMEs might have done this!"
   ]
  },
  {
   "cell_type": "code",
   "execution_count": 12,
   "metadata": {
    "jupyter": {
     "outputs_hidden": true
    }
   },
   "outputs": [],
   "source": [
    "# agesq and incsq\n",
    "# Hypothesis: This two feature may use to predict the 401k eligible effectively."
   ]
  },
  {
   "cell_type": "markdown",
   "metadata": {},
   "source": [
    "##### 6. Looking at the data dictionary, one variable description appears to be an error. What is this error, and what do you think the correct value would be?"
   ]
  },
  {
   "cell_type": "code",
   "execution_count": 13,
   "metadata": {
    "jupyter": {
     "outputs_hidden": true
    }
   },
   "outputs": [],
   "source": [
    "# Age and inc features have incorrect description.\n",
    "\n",
    "# The correct desciption of age and inc features is age and inc \n",
    "# instead of age^2 and inc^2."
   ]
  },
  {
   "cell_type": "markdown",
   "metadata": {},
   "source": [
    "## Step 4: Model the data. (Part 1: Regression Problem)\n",
    "\n",
    "Recall:\n",
    "- Problem: What features best predict one's income?\n",
    "- When predicting `inc`, you should pretend as though you do not have access to the `e401k`, the `p401k` variable, and the `pira` variable.\n",
    "\n",
    "##### 7. List all modeling tactics we've learned that could be used to solve a regression problem (as of Wednesday afternoon of Week 6). For each tactic, identify whether it is or is not appropriate for solving this specific regression problem and explain why or why not."
   ]
  },
  {
   "cell_type": "code",
   "execution_count": 14,
   "metadata": {
    "jupyter": {
     "outputs_hidden": true
    }
   },
   "outputs": [],
   "source": [
    "# Problem: What features best predict one's income?\n",
    "\n",
    "# Linear regression \n",
    "# Decision tree regressor\n",
    "# This 2 models are appropriate for this regression problem because \n",
    "# they have interpretability to finding the best feature to predict income.\n",
    "\n",
    "# Random forest regressor\n",
    "# k-Nearest Neighbor reggressor\n",
    "# Bagging\n",
    "# Boosting\n",
    "# Stacking\n",
    "# This 5 models aren't appropriate for this regression problem because \n",
    "# they don't have interpretability for answering the question."
   ]
  },
  {
   "cell_type": "markdown",
   "metadata": {},
   "source": [
    "##### 8. Regardless of your answer to number 7, fit at least one of each of the following models to attempt to solve the regression problem above:\n",
    "    - a multiple linear regression model\n",
    "    - a k-nearest neighbors model\n",
    "    - a decision tree\n",
    "    - a set of bagged decision trees\n",
    "    - a random forest\n",
    "    - an Adaboost model\n",
    "    \n",
    "> As always, be sure to do a train/test split! In order to compare modeling techniques, you should use the same train-test split on each. I recommend setting a random seed here.\n",
    "\n",
    "> You may find it helpful to set up a pipeline to try each modeling technique, but you are not required to do so!"
   ]
  },
  {
   "cell_type": "code",
   "execution_count": 15,
   "metadata": {},
   "outputs": [
    {
     "data": {
      "text/plain": [
       "Index(['e401k', 'inc', 'marr', 'male', 'age', 'fsize', 'nettfa', 'p401k',\n",
       "       'pira', 'incsq', 'agesq'],\n",
       "      dtype='object')"
      ]
     },
     "execution_count": 15,
     "metadata": {},
     "output_type": "execute_result"
    }
   ],
   "source": [
    "df.columns"
   ]
  },
  {
   "cell_type": "code",
   "execution_count": 16,
   "metadata": {
    "jupyter": {
     "outputs_hidden": true
    }
   },
   "outputs": [],
   "source": [
    "# Setting X and y for predict income\n",
    "# agesq may be useful feature for predicted income\n",
    "X = df[['marr','age', 'fsize','nettfa','agesq']]\n",
    "y = df['inc']\n",
    "\n",
    "# Splitting the training and testing data\n",
    "# X before y, train before test\n",
    "X_train, X_test, y_train, y_test = train_test_split(X, y,\n",
    "                                                    random_state=42)"
   ]
  },
  {
   "cell_type": "code",
   "execution_count": 17,
   "metadata": {},
   "outputs": [],
   "source": [
    "# Define function for both r2 score and rmse\n",
    "def regressor_metrics(y_test, y_pred):\n",
    "    \"\"\"Function for find r2 score and rmse of regression model\"\"\"\n",
    "    r2 = round(r2_score(y_test, y_pred),4)\n",
    "    rmse = round(mean_squared_error(y_test, y_pred,squared=False),2)\n",
    "    return [r2, rmse]"
   ]
  },
  {
   "cell_type": "code",
   "execution_count": 18,
   "metadata": {},
   "outputs": [],
   "source": [
    "# Define metric function for both training and testing data\n",
    "def train_test_regressor_metric(y_train, y_pred_train, y_test, y_pred_test):\n",
    "    \"\"\"Function for find r2 score and rmse of regression model for both training and testing set\"\"\"\n",
    "    metric_train = regressor_metrics(y_train, y_pred_train)\n",
    "    metric_test = regressor_metrics(y_test, y_pred_test)\n",
    "    return metric_train + metric_test"
   ]
  },
  {
   "cell_type": "code",
   "execution_count": 19,
   "metadata": {},
   "outputs": [],
   "source": [
    "def assign_to_df_regressor(model,score_df,y_train, y_pred_train, y_test, y_pred_test):\n",
    "    \"\"\"Function for assigning result of the model to score dataframe\"\"\"\n",
    "    regression_metrics = train_test_regressor_metric(y_train, y_pred_train ,y_test, y_pred_test)\n",
    "    model_df = pd.DataFrame([[model] + regression_metrics],\n",
    "                           columns = ['Model', 'r2_train', 'rmse_train', 'r2_test', 'rmse_test' ])\n",
    "    score_df = pd.concat([score_df,model_df])\n",
    "    score_df.reset_index(drop=True, inplace=True)\n",
    "    return score_df"
   ]
  },
  {
   "cell_type": "code",
   "execution_count": 20,
   "metadata": {},
   "outputs": [],
   "source": [
    "# Define score dataframe\n",
    "score_df = pd.DataFrame(columns = ['Model', 'r2_train', 'rmse_train', 'r2_test', 'rmse_test'])"
   ]
  },
  {
   "cell_type": "code",
   "execution_count": 21,
   "metadata": {},
   "outputs": [
    {
     "data": {
      "text/html": [
       "<div>\n",
       "<style scoped>\n",
       "    .dataframe tbody tr th:only-of-type {\n",
       "        vertical-align: middle;\n",
       "    }\n",
       "\n",
       "    .dataframe tbody tr th {\n",
       "        vertical-align: top;\n",
       "    }\n",
       "\n",
       "    .dataframe thead th {\n",
       "        text-align: right;\n",
       "    }\n",
       "</style>\n",
       "<table border=\"1\" class=\"dataframe\">\n",
       "  <thead>\n",
       "    <tr style=\"text-align: right;\">\n",
       "      <th></th>\n",
       "      <th>Model</th>\n",
       "      <th>r2_train</th>\n",
       "      <th>rmse_train</th>\n",
       "      <th>r2_test</th>\n",
       "      <th>rmse_test</th>\n",
       "    </tr>\n",
       "  </thead>\n",
       "  <tbody>\n",
       "    <tr>\n",
       "      <th>0</th>\n",
       "      <td>linreg</td>\n",
       "      <td>0.2963</td>\n",
       "      <td>20.11</td>\n",
       "      <td>0.2581</td>\n",
       "      <td>21.03</td>\n",
       "    </tr>\n",
       "  </tbody>\n",
       "</table>\n",
       "</div>"
      ],
      "text/plain": [
       "    Model r2_train rmse_train r2_test rmse_test\n",
       "0  linreg   0.2963      20.11  0.2581     21.03"
      ]
     },
     "execution_count": 21,
     "metadata": {},
     "output_type": "execute_result"
    }
   ],
   "source": [
    "# Model: Linear regression\n",
    "# Instantiate\n",
    "linreg = LinearRegression()\n",
    "\n",
    "# Fit or train model\n",
    "linreg.fit(X_train, y_train)\n",
    "\n",
    "# Evaluation\n",
    "y_pred_train = linreg.predict(X_train)\n",
    "y_pred_test = linreg.predict(X_test)\n",
    "\n",
    "# Assign result of the model to score dataframe \n",
    "score_df = assign_to_df_regressor('linreg',score_df,y_train, y_pred_train, y_test, y_pred_test)\n",
    "score_df"
   ]
  },
  {
   "cell_type": "code",
   "execution_count": 22,
   "metadata": {},
   "outputs": [
    {
     "data": {
      "text/html": [
       "<div>\n",
       "<style scoped>\n",
       "    .dataframe tbody tr th:only-of-type {\n",
       "        vertical-align: middle;\n",
       "    }\n",
       "\n",
       "    .dataframe tbody tr th {\n",
       "        vertical-align: top;\n",
       "    }\n",
       "\n",
       "    .dataframe thead th {\n",
       "        text-align: right;\n",
       "    }\n",
       "</style>\n",
       "<table border=\"1\" class=\"dataframe\">\n",
       "  <thead>\n",
       "    <tr style=\"text-align: right;\">\n",
       "      <th></th>\n",
       "      <th>Model</th>\n",
       "      <th>r2_train</th>\n",
       "      <th>rmse_train</th>\n",
       "      <th>r2_test</th>\n",
       "      <th>rmse_test</th>\n",
       "    </tr>\n",
       "  </thead>\n",
       "  <tbody>\n",
       "    <tr>\n",
       "      <th>0</th>\n",
       "      <td>linreg</td>\n",
       "      <td>0.2963</td>\n",
       "      <td>20.11</td>\n",
       "      <td>0.2581</td>\n",
       "      <td>21.03</td>\n",
       "    </tr>\n",
       "    <tr>\n",
       "      <th>1</th>\n",
       "      <td>knnr</td>\n",
       "      <td>0.5343</td>\n",
       "      <td>16.36</td>\n",
       "      <td>0.3088</td>\n",
       "      <td>20.3</td>\n",
       "    </tr>\n",
       "  </tbody>\n",
       "</table>\n",
       "</div>"
      ],
      "text/plain": [
       "    Model r2_train rmse_train r2_test rmse_test\n",
       "0  linreg   0.2963      20.11  0.2581     21.03\n",
       "1    knnr   0.5343      16.36  0.3088      20.3"
      ]
     },
     "execution_count": 22,
     "metadata": {},
     "output_type": "execute_result"
    }
   ],
   "source": [
    "# Model: kNN regressor\n",
    "# Create pipeline\n",
    "pipe_knnr = Pipeline([\n",
    "    ('sc', StandardScaler()),\n",
    "    ('knnr', KNeighborsRegressor())\n",
    "])\n",
    "# Fit or train model\n",
    "pipe_knnr.fit(X_train, y_train)\n",
    "\n",
    "# Evaluation\n",
    "y_pred_train = pipe_knnr.predict(X_train)\n",
    "y_pred_test = pipe_knnr.predict(X_test)\n",
    "\n",
    "# Assign result of the model to score dataframe \n",
    "score_df = assign_to_df_regressor('knnr',score_df,y_train, y_pred_train, y_test, y_pred_test)\n",
    "score_df"
   ]
  },
  {
   "cell_type": "code",
   "execution_count": 23,
   "metadata": {},
   "outputs": [
    {
     "data": {
      "text/html": [
       "<div>\n",
       "<style scoped>\n",
       "    .dataframe tbody tr th:only-of-type {\n",
       "        vertical-align: middle;\n",
       "    }\n",
       "\n",
       "    .dataframe tbody tr th {\n",
       "        vertical-align: top;\n",
       "    }\n",
       "\n",
       "    .dataframe thead th {\n",
       "        text-align: right;\n",
       "    }\n",
       "</style>\n",
       "<table border=\"1\" class=\"dataframe\">\n",
       "  <thead>\n",
       "    <tr style=\"text-align: right;\">\n",
       "      <th></th>\n",
       "      <th>Model</th>\n",
       "      <th>r2_train</th>\n",
       "      <th>rmse_train</th>\n",
       "      <th>r2_test</th>\n",
       "      <th>rmse_test</th>\n",
       "    </tr>\n",
       "  </thead>\n",
       "  <tbody>\n",
       "    <tr>\n",
       "      <th>0</th>\n",
       "      <td>linreg</td>\n",
       "      <td>0.2963</td>\n",
       "      <td>20.11</td>\n",
       "      <td>0.2581</td>\n",
       "      <td>21.03</td>\n",
       "    </tr>\n",
       "    <tr>\n",
       "      <th>1</th>\n",
       "      <td>knnr</td>\n",
       "      <td>0.5343</td>\n",
       "      <td>16.36</td>\n",
       "      <td>0.3088</td>\n",
       "      <td>20.3</td>\n",
       "    </tr>\n",
       "    <tr>\n",
       "      <th>2</th>\n",
       "      <td>dtr</td>\n",
       "      <td>0.9875</td>\n",
       "      <td>2.68</td>\n",
       "      <td>-0.2283</td>\n",
       "      <td>27.06</td>\n",
       "    </tr>\n",
       "  </tbody>\n",
       "</table>\n",
       "</div>"
      ],
      "text/plain": [
       "    Model r2_train rmse_train r2_test rmse_test\n",
       "0  linreg   0.2963      20.11  0.2581     21.03\n",
       "1    knnr   0.5343      16.36  0.3088      20.3\n",
       "2     dtr   0.9875       2.68 -0.2283     27.06"
      ]
     },
     "execution_count": 23,
     "metadata": {},
     "output_type": "execute_result"
    }
   ],
   "source": [
    "# Model: Decision tree regressor\n",
    "# Instantiate\n",
    "dtr = DecisionTreeRegressor()\n",
    "\n",
    "# Fit or train\n",
    "dtr.fit(X_train, y_train)\n",
    "\n",
    "# Evaluation\n",
    "y_pred_train = dtr.predict(X_train)\n",
    "y_pred_test = dtr.predict(X_test)\n",
    "\n",
    "# Assign result of the model to score dataframe \n",
    "score_df = assign_to_df_regressor('dtr',score_df,y_train, y_pred_train, y_test, y_pred_test)\n",
    "score_df"
   ]
  },
  {
   "cell_type": "code",
   "execution_count": 24,
   "metadata": {},
   "outputs": [
    {
     "data": {
      "text/html": [
       "<div>\n",
       "<style scoped>\n",
       "    .dataframe tbody tr th:only-of-type {\n",
       "        vertical-align: middle;\n",
       "    }\n",
       "\n",
       "    .dataframe tbody tr th {\n",
       "        vertical-align: top;\n",
       "    }\n",
       "\n",
       "    .dataframe thead th {\n",
       "        text-align: right;\n",
       "    }\n",
       "</style>\n",
       "<table border=\"1\" class=\"dataframe\">\n",
       "  <thead>\n",
       "    <tr style=\"text-align: right;\">\n",
       "      <th></th>\n",
       "      <th>Model</th>\n",
       "      <th>r2_train</th>\n",
       "      <th>rmse_train</th>\n",
       "      <th>r2_test</th>\n",
       "      <th>rmse_test</th>\n",
       "    </tr>\n",
       "  </thead>\n",
       "  <tbody>\n",
       "    <tr>\n",
       "      <th>0</th>\n",
       "      <td>linreg</td>\n",
       "      <td>0.2963</td>\n",
       "      <td>20.11</td>\n",
       "      <td>0.2581</td>\n",
       "      <td>21.03</td>\n",
       "    </tr>\n",
       "    <tr>\n",
       "      <th>1</th>\n",
       "      <td>knnr</td>\n",
       "      <td>0.5343</td>\n",
       "      <td>16.36</td>\n",
       "      <td>0.3088</td>\n",
       "      <td>20.3</td>\n",
       "    </tr>\n",
       "    <tr>\n",
       "      <th>2</th>\n",
       "      <td>dtr</td>\n",
       "      <td>0.9875</td>\n",
       "      <td>2.68</td>\n",
       "      <td>-0.2283</td>\n",
       "      <td>27.06</td>\n",
       "    </tr>\n",
       "    <tr>\n",
       "      <th>3</th>\n",
       "      <td>baggingr</td>\n",
       "      <td>0.8674</td>\n",
       "      <td>8.73</td>\n",
       "      <td>0.2265</td>\n",
       "      <td>21.48</td>\n",
       "    </tr>\n",
       "  </tbody>\n",
       "</table>\n",
       "</div>"
      ],
      "text/plain": [
       "      Model r2_train rmse_train r2_test rmse_test\n",
       "0    linreg   0.2963      20.11  0.2581     21.03\n",
       "1      knnr   0.5343      16.36  0.3088      20.3\n",
       "2       dtr   0.9875       2.68 -0.2283     27.06\n",
       "3  baggingr   0.8674       8.73  0.2265     21.48"
      ]
     },
     "execution_count": 24,
     "metadata": {},
     "output_type": "execute_result"
    }
   ],
   "source": [
    "# Model: Bagging\n",
    "# Instantiate\n",
    "bagging_r = BaggingRegressor(random_state=42)\n",
    "\n",
    "# Fit or train\n",
    "bagging_r.fit(X_train, y_train)\n",
    "\n",
    "# Evaluation\n",
    "y_pred_train = bagging_r.predict(X_train)\n",
    "y_pred_test = bagging_r.predict(X_test)\n",
    "\n",
    "# Assign result of the model to score dataframe \n",
    "score_df = assign_to_df_regressor('baggingr',score_df,y_train, y_pred_train, y_test, y_pred_test)\n",
    "score_df"
   ]
  },
  {
   "cell_type": "code",
   "execution_count": 25,
   "metadata": {},
   "outputs": [
    {
     "data": {
      "text/html": [
       "<div>\n",
       "<style scoped>\n",
       "    .dataframe tbody tr th:only-of-type {\n",
       "        vertical-align: middle;\n",
       "    }\n",
       "\n",
       "    .dataframe tbody tr th {\n",
       "        vertical-align: top;\n",
       "    }\n",
       "\n",
       "    .dataframe thead th {\n",
       "        text-align: right;\n",
       "    }\n",
       "</style>\n",
       "<table border=\"1\" class=\"dataframe\">\n",
       "  <thead>\n",
       "    <tr style=\"text-align: right;\">\n",
       "      <th></th>\n",
       "      <th>Model</th>\n",
       "      <th>r2_train</th>\n",
       "      <th>rmse_train</th>\n",
       "      <th>r2_test</th>\n",
       "      <th>rmse_test</th>\n",
       "    </tr>\n",
       "  </thead>\n",
       "  <tbody>\n",
       "    <tr>\n",
       "      <th>0</th>\n",
       "      <td>linreg</td>\n",
       "      <td>0.2963</td>\n",
       "      <td>20.11</td>\n",
       "      <td>0.2581</td>\n",
       "      <td>21.03</td>\n",
       "    </tr>\n",
       "    <tr>\n",
       "      <th>1</th>\n",
       "      <td>knnr</td>\n",
       "      <td>0.5343</td>\n",
       "      <td>16.36</td>\n",
       "      <td>0.3088</td>\n",
       "      <td>20.3</td>\n",
       "    </tr>\n",
       "    <tr>\n",
       "      <th>2</th>\n",
       "      <td>dtr</td>\n",
       "      <td>0.9875</td>\n",
       "      <td>2.68</td>\n",
       "      <td>-0.2283</td>\n",
       "      <td>27.06</td>\n",
       "    </tr>\n",
       "    <tr>\n",
       "      <th>3</th>\n",
       "      <td>baggingr</td>\n",
       "      <td>0.8674</td>\n",
       "      <td>8.73</td>\n",
       "      <td>0.2265</td>\n",
       "      <td>21.48</td>\n",
       "    </tr>\n",
       "    <tr>\n",
       "      <th>4</th>\n",
       "      <td>rfr</td>\n",
       "      <td>0.8938</td>\n",
       "      <td>7.81</td>\n",
       "      <td>0.2835</td>\n",
       "      <td>20.67</td>\n",
       "    </tr>\n",
       "  </tbody>\n",
       "</table>\n",
       "</div>"
      ],
      "text/plain": [
       "      Model r2_train rmse_train r2_test rmse_test\n",
       "0    linreg   0.2963      20.11  0.2581     21.03\n",
       "1      knnr   0.5343      16.36  0.3088      20.3\n",
       "2       dtr   0.9875       2.68 -0.2283     27.06\n",
       "3  baggingr   0.8674       8.73  0.2265     21.48\n",
       "4       rfr   0.8938       7.81  0.2835     20.67"
      ]
     },
     "execution_count": 25,
     "metadata": {},
     "output_type": "execute_result"
    }
   ],
   "source": [
    "# Model: Random forest regressor\n",
    "# Instantiate\n",
    "rfr = RandomForestRegressor(random_state=42)\n",
    "\n",
    "# Fit or train\n",
    "rfr.fit(X_train, y_train)\n",
    "\n",
    "# Model evaluation\n",
    "y_pred_train = rfr.predict(X_train)\n",
    "y_pred_test = rfr.predict(X_test)\n",
    "\n",
    "# Assign result of the model to score dataframe \n",
    "score_df = assign_to_df_regressor('rfr',score_df,y_train, y_pred_train, y_test, y_pred_test)\n",
    "score_df\n",
    "# Without tuning parameter of random forest: Overfitting"
   ]
  },
  {
   "cell_type": "code",
   "execution_count": 26,
   "metadata": {},
   "outputs": [
    {
     "data": {
      "text/html": [
       "<div>\n",
       "<style scoped>\n",
       "    .dataframe tbody tr th:only-of-type {\n",
       "        vertical-align: middle;\n",
       "    }\n",
       "\n",
       "    .dataframe tbody tr th {\n",
       "        vertical-align: top;\n",
       "    }\n",
       "\n",
       "    .dataframe thead th {\n",
       "        text-align: right;\n",
       "    }\n",
       "</style>\n",
       "<table border=\"1\" class=\"dataframe\">\n",
       "  <thead>\n",
       "    <tr style=\"text-align: right;\">\n",
       "      <th></th>\n",
       "      <th>Model</th>\n",
       "      <th>r2_train</th>\n",
       "      <th>rmse_train</th>\n",
       "      <th>r2_test</th>\n",
       "      <th>rmse_test</th>\n",
       "    </tr>\n",
       "  </thead>\n",
       "  <tbody>\n",
       "    <tr>\n",
       "      <th>0</th>\n",
       "      <td>linreg</td>\n",
       "      <td>0.2963</td>\n",
       "      <td>20.11</td>\n",
       "      <td>0.2581</td>\n",
       "      <td>21.03</td>\n",
       "    </tr>\n",
       "    <tr>\n",
       "      <th>1</th>\n",
       "      <td>knnr</td>\n",
       "      <td>0.5343</td>\n",
       "      <td>16.36</td>\n",
       "      <td>0.3088</td>\n",
       "      <td>20.3</td>\n",
       "    </tr>\n",
       "    <tr>\n",
       "      <th>2</th>\n",
       "      <td>dtr</td>\n",
       "      <td>0.9875</td>\n",
       "      <td>2.68</td>\n",
       "      <td>-0.2283</td>\n",
       "      <td>27.06</td>\n",
       "    </tr>\n",
       "    <tr>\n",
       "      <th>3</th>\n",
       "      <td>baggingr</td>\n",
       "      <td>0.8674</td>\n",
       "      <td>8.73</td>\n",
       "      <td>0.2265</td>\n",
       "      <td>21.48</td>\n",
       "    </tr>\n",
       "    <tr>\n",
       "      <th>4</th>\n",
       "      <td>rfr</td>\n",
       "      <td>0.8938</td>\n",
       "      <td>7.81</td>\n",
       "      <td>0.2835</td>\n",
       "      <td>20.67</td>\n",
       "    </tr>\n",
       "    <tr>\n",
       "      <th>5</th>\n",
       "      <td>adar</td>\n",
       "      <td>0.0772</td>\n",
       "      <td>23.03</td>\n",
       "      <td>0.0323</td>\n",
       "      <td>24.02</td>\n",
       "    </tr>\n",
       "  </tbody>\n",
       "</table>\n",
       "</div>"
      ],
      "text/plain": [
       "      Model r2_train rmse_train r2_test rmse_test\n",
       "0    linreg   0.2963      20.11  0.2581     21.03\n",
       "1      knnr   0.5343      16.36  0.3088      20.3\n",
       "2       dtr   0.9875       2.68 -0.2283     27.06\n",
       "3  baggingr   0.8674       8.73  0.2265     21.48\n",
       "4       rfr   0.8938       7.81  0.2835     20.67\n",
       "5      adar   0.0772      23.03  0.0323     24.02"
      ]
     },
     "execution_count": 26,
     "metadata": {},
     "output_type": "execute_result"
    }
   ],
   "source": [
    "# Instantiate Adaboosting\n",
    "ada = AdaBoostRegressor()\n",
    "\n",
    "# Fit Gridsearch\n",
    "ada.fit(X_train,y_train)\n",
    "\n",
    "# Evaluation\n",
    "y_pred_train = ada.predict(X_train)\n",
    "y_pred_test = ada.predict(X_test)\n",
    "\n",
    "# Assign result of the model to score dataframe \n",
    "score_df = assign_to_df_regressor('adar',score_df,y_train, y_pred_train, y_test, y_pred_test)\n",
    "score_df"
   ]
  },
  {
   "cell_type": "markdown",
   "metadata": {},
   "source": [
    "##### 9. What is bootstrapping?"
   ]
  },
  {
   "cell_type": "code",
   "execution_count": 27,
   "metadata": {
    "jupyter": {
     "outputs_hidden": true
    }
   },
   "outputs": [],
   "source": [
    "# Booststripping is subsample with replacement. "
   ]
  },
  {
   "cell_type": "markdown",
   "metadata": {},
   "source": [
    "##### 10. What is the difference between a decision tree and a set of bagged decision trees? Be specific and precise!"
   ]
  },
  {
   "cell_type": "code",
   "execution_count": 28,
   "metadata": {
    "jupyter": {
     "outputs_hidden": true
    }
   },
   "outputs": [],
   "source": [
    "# Decision tree is 1 tree model. \n",
    "# Set of bagged decision trees is many decision trees with bootstrapping the sample for each tree."
   ]
  },
  {
   "cell_type": "markdown",
   "metadata": {},
   "source": [
    "##### 11. What is the difference between a set of bagged decision trees and a random forest? Be specific and precise!"
   ]
  },
  {
   "cell_type": "code",
   "execution_count": 29,
   "metadata": {
    "jupyter": {
     "outputs_hidden": true
    }
   },
   "outputs": [],
   "source": [
    "# Random forest is set of bagged decision trees with \n",
    "# subset of features for each tree in random forest."
   ]
  },
  {
   "cell_type": "markdown",
   "metadata": {},
   "source": [
    "##### 12. Why might a random forest be superior to a set of bagged decision trees?\n",
    "> Hint: Consider the bias-variance tradeoff."
   ]
  },
  {
   "cell_type": "code",
   "execution_count": 30,
   "metadata": {
    "jupyter": {
     "outputs_hidden": true
    }
   },
   "outputs": [],
   "source": [
    "# Random forest has more randomness which is subset feature, \n",
    "# this randomness may help model to reduce variance of the model.  "
   ]
  },
  {
   "cell_type": "markdown",
   "metadata": {},
   "source": [
    "## Step 5: Evaluate the model. (Part 1: Regression Problem)\n",
    "\n",
    "##### 13. Using RMSE, evaluate each of the models you fit on both the training and testing data."
   ]
  },
  {
   "cell_type": "code",
   "execution_count": 31,
   "metadata": {
    "jupyter": {
     "outputs_hidden": true
    }
   },
   "outputs": [
    {
     "data": {
      "text/html": [
       "<div>\n",
       "<style scoped>\n",
       "    .dataframe tbody tr th:only-of-type {\n",
       "        vertical-align: middle;\n",
       "    }\n",
       "\n",
       "    .dataframe tbody tr th {\n",
       "        vertical-align: top;\n",
       "    }\n",
       "\n",
       "    .dataframe thead th {\n",
       "        text-align: right;\n",
       "    }\n",
       "</style>\n",
       "<table border=\"1\" class=\"dataframe\">\n",
       "  <thead>\n",
       "    <tr style=\"text-align: right;\">\n",
       "      <th></th>\n",
       "      <th>Model</th>\n",
       "      <th>r2_train</th>\n",
       "      <th>rmse_train</th>\n",
       "      <th>r2_test</th>\n",
       "      <th>rmse_test</th>\n",
       "    </tr>\n",
       "  </thead>\n",
       "  <tbody>\n",
       "    <tr>\n",
       "      <th>0</th>\n",
       "      <td>linreg</td>\n",
       "      <td>0.2963</td>\n",
       "      <td>20.11</td>\n",
       "      <td>0.2581</td>\n",
       "      <td>21.03</td>\n",
       "    </tr>\n",
       "    <tr>\n",
       "      <th>1</th>\n",
       "      <td>knnr</td>\n",
       "      <td>0.5343</td>\n",
       "      <td>16.36</td>\n",
       "      <td>0.3088</td>\n",
       "      <td>20.3</td>\n",
       "    </tr>\n",
       "    <tr>\n",
       "      <th>2</th>\n",
       "      <td>dtr</td>\n",
       "      <td>0.9875</td>\n",
       "      <td>2.68</td>\n",
       "      <td>-0.2283</td>\n",
       "      <td>27.06</td>\n",
       "    </tr>\n",
       "    <tr>\n",
       "      <th>3</th>\n",
       "      <td>baggingr</td>\n",
       "      <td>0.8674</td>\n",
       "      <td>8.73</td>\n",
       "      <td>0.2265</td>\n",
       "      <td>21.48</td>\n",
       "    </tr>\n",
       "    <tr>\n",
       "      <th>4</th>\n",
       "      <td>rfr</td>\n",
       "      <td>0.8938</td>\n",
       "      <td>7.81</td>\n",
       "      <td>0.2835</td>\n",
       "      <td>20.67</td>\n",
       "    </tr>\n",
       "    <tr>\n",
       "      <th>5</th>\n",
       "      <td>adar</td>\n",
       "      <td>0.0772</td>\n",
       "      <td>23.03</td>\n",
       "      <td>0.0323</td>\n",
       "      <td>24.02</td>\n",
       "    </tr>\n",
       "  </tbody>\n",
       "</table>\n",
       "</div>"
      ],
      "text/plain": [
       "      Model r2_train rmse_train r2_test rmse_test\n",
       "0    linreg   0.2963      20.11  0.2581     21.03\n",
       "1      knnr   0.5343      16.36  0.3088      20.3\n",
       "2       dtr   0.9875       2.68 -0.2283     27.06\n",
       "3  baggingr   0.8674       8.73  0.2265     21.48\n",
       "4       rfr   0.8938       7.81  0.2835     20.67\n",
       "5      adar   0.0772      23.03  0.0323     24.02"
      ]
     },
     "execution_count": 31,
     "metadata": {},
     "output_type": "execute_result"
    }
   ],
   "source": [
    "score_df"
   ]
  },
  {
   "cell_type": "markdown",
   "metadata": {},
   "source": [
    "##### 14. Based on training RMSE and testing RMSE, is there evidence of overfitting in any of your models? Which ones?"
   ]
  },
  {
   "cell_type": "code",
   "execution_count": 32,
   "metadata": {
    "jupyter": {
     "outputs_hidden": true
    }
   },
   "outputs": [],
   "source": [
    "# The overfitting models are random forest, knn, bagging and random forest model.\n",
    "# This models have large different between training rmse and testing rmse."
   ]
  },
  {
   "cell_type": "markdown",
   "metadata": {},
   "source": [
    "##### 15. Based on everything we've covered so far, if you had to pick just one model as your final model to use to answer the problem in front of you, which one model would you pick? Defend your choice."
   ]
  },
  {
   "cell_type": "code",
   "execution_count": 33,
   "metadata": {
    "jupyter": {
     "outputs_hidden": true
    }
   },
   "outputs": [],
   "source": [
    "# I choose kNN because this model has the good rmse and r2 score for both training and testing.\n",
    "# Moreover, kNN is lower variance than other tree regressor."
   ]
  },
  {
   "cell_type": "markdown",
   "metadata": {},
   "source": [
    "##### 16. Suppose you wanted to improve the performance of your final model. Brainstorm 2-3 things that, if you had more time, you would attempt."
   ]
  },
  {
   "cell_type": "code",
   "execution_count": 34,
   "metadata": {
    "jupyter": {
     "outputs_hidden": true
    }
   },
   "outputs": [],
   "source": [
    "# 1. Select new set of feature/Feature engineering\n",
    "# 2. tuning hyperparameter of boosting model for improve accuracy of the model\n",
    "# 3. Using better boosting model to improve the performance of the model e.g. XGboosting"
   ]
  },
  {
   "cell_type": "code",
   "execution_count": 35,
   "metadata": {},
   "outputs": [
    {
     "name": "stdout",
     "output_type": "stream",
     "text": [
      "Best score: 0.3738828164427272\n",
      "{'max_depth': 4}\n"
     ]
    },
    {
     "data": {
      "text/html": [
       "<div>\n",
       "<style scoped>\n",
       "    .dataframe tbody tr th:only-of-type {\n",
       "        vertical-align: middle;\n",
       "    }\n",
       "\n",
       "    .dataframe tbody tr th {\n",
       "        vertical-align: top;\n",
       "    }\n",
       "\n",
       "    .dataframe thead th {\n",
       "        text-align: right;\n",
       "    }\n",
       "</style>\n",
       "<table border=\"1\" class=\"dataframe\">\n",
       "  <thead>\n",
       "    <tr style=\"text-align: right;\">\n",
       "      <th></th>\n",
       "      <th>Model</th>\n",
       "      <th>r2_train</th>\n",
       "      <th>rmse_train</th>\n",
       "      <th>r2_test</th>\n",
       "      <th>rmse_test</th>\n",
       "    </tr>\n",
       "  </thead>\n",
       "  <tbody>\n",
       "    <tr>\n",
       "      <th>0</th>\n",
       "      <td>linreg</td>\n",
       "      <td>0.2963</td>\n",
       "      <td>20.11</td>\n",
       "      <td>0.2581</td>\n",
       "      <td>21.03</td>\n",
       "    </tr>\n",
       "    <tr>\n",
       "      <th>1</th>\n",
       "      <td>knnr</td>\n",
       "      <td>0.5343</td>\n",
       "      <td>16.36</td>\n",
       "      <td>0.3088</td>\n",
       "      <td>20.3</td>\n",
       "    </tr>\n",
       "    <tr>\n",
       "      <th>2</th>\n",
       "      <td>dtr</td>\n",
       "      <td>0.9875</td>\n",
       "      <td>2.68</td>\n",
       "      <td>-0.2283</td>\n",
       "      <td>27.06</td>\n",
       "    </tr>\n",
       "    <tr>\n",
       "      <th>3</th>\n",
       "      <td>baggingr</td>\n",
       "      <td>0.8674</td>\n",
       "      <td>8.73</td>\n",
       "      <td>0.2265</td>\n",
       "      <td>21.48</td>\n",
       "    </tr>\n",
       "    <tr>\n",
       "      <th>4</th>\n",
       "      <td>rfr</td>\n",
       "      <td>0.8938</td>\n",
       "      <td>7.81</td>\n",
       "      <td>0.2835</td>\n",
       "      <td>20.67</td>\n",
       "    </tr>\n",
       "    <tr>\n",
       "      <th>5</th>\n",
       "      <td>adar</td>\n",
       "      <td>0.0772</td>\n",
       "      <td>23.03</td>\n",
       "      <td>0.0323</td>\n",
       "      <td>24.02</td>\n",
       "    </tr>\n",
       "    <tr>\n",
       "      <th>6</th>\n",
       "      <td>dtr_tuning</td>\n",
       "      <td>0.3991</td>\n",
       "      <td>18.59</td>\n",
       "      <td>0.3742</td>\n",
       "      <td>19.32</td>\n",
       "    </tr>\n",
       "  </tbody>\n",
       "</table>\n",
       "</div>"
      ],
      "text/plain": [
       "        Model r2_train rmse_train r2_test rmse_test\n",
       "0      linreg   0.2963      20.11  0.2581     21.03\n",
       "1        knnr   0.5343      16.36  0.3088      20.3\n",
       "2         dtr   0.9875       2.68 -0.2283     27.06\n",
       "3    baggingr   0.8674       8.73  0.2265     21.48\n",
       "4         rfr   0.8938       7.81  0.2835     20.67\n",
       "5        adar   0.0772      23.03  0.0323     24.02\n",
       "6  dtr_tuning   0.3991      18.59  0.3742     19.32"
      ]
     },
     "execution_count": 35,
     "metadata": {},
     "output_type": "execute_result"
    }
   ],
   "source": [
    "# Using simple model to answer the problem: What features best predict one's income?\n",
    "# Tuning decision tree regressor parameter\n",
    "\n",
    "# Hyperparameter\n",
    "dtr_params = {\n",
    "    'max_depth': [n for n in range(4,11)],\n",
    "}\n",
    "\n",
    "# Instantiate gridsearchCV\n",
    "grid_dtr = GridSearchCV(DecisionTreeRegressor(random_state=42), dtr_params, cv= 3)\n",
    "\n",
    "# Fit or train\n",
    "grid_dtr.fit(X_train, y_train)\n",
    "\n",
    "# Evaluation\n",
    "y_pred_train = grid_dtr.predict(X_train)\n",
    "y_pred_test = grid_dtr.predict(X_test)\n",
    "print(f'Best score: {grid_dtr.best_score_}')\n",
    "print(grid_dtr.best_params_)\n",
    "\n",
    "# Assign result of the model to score dataframe \n",
    "score_df = assign_to_df_regressor('dtr_tuning',score_df,y_train, y_pred_train, y_test, y_pred_test)\n",
    "score_df"
   ]
  },
  {
   "cell_type": "code",
   "execution_count": 36,
   "metadata": {
    "scrolled": true
   },
   "outputs": [
    {
     "data": {
      "image/png": "[encoded data removed]",
      "text/plain": [
       "<Figure size 2880x1440 with 1 Axes>"
      ]
     },
     "metadata": {
      "needs_background": "light"
     },
     "output_type": "display_data"
    }
   ],
   "source": [
    "# Establish size of figure.\n",
    "plt.figure(figsize = (40, 20))\n",
    "\n",
    "# Plot our tree.\n",
    "plot_tree(grid_dtr.best_estimator_, feature_names = X_train.columns,\n",
    "          class_names = ['Income'], filled = True);\n",
    "\n",
    "# What features best predict one's income?\n",
    "# Answer: Root node of decision tree regressor is 'net total finiancial asset'"
   ]
  },
  {
   "cell_type": "code",
   "execution_count": 37,
   "metadata": {},
   "outputs": [
    {
     "name": "stdout",
     "output_type": "stream",
     "text": [
      "Best score: 0.39993983721582776\n",
      "{'max_depth': 6}\n",
      "Calculation time: 7 sec\n"
     ]
    },
    {
     "data": {
      "text/html": [
       "<div>\n",
       "<style scoped>\n",
       "    .dataframe tbody tr th:only-of-type {\n",
       "        vertical-align: middle;\n",
       "    }\n",
       "\n",
       "    .dataframe tbody tr th {\n",
       "        vertical-align: top;\n",
       "    }\n",
       "\n",
       "    .dataframe thead th {\n",
       "        text-align: right;\n",
       "    }\n",
       "</style>\n",
       "<table border=\"1\" class=\"dataframe\">\n",
       "  <thead>\n",
       "    <tr style=\"text-align: right;\">\n",
       "      <th></th>\n",
       "      <th>Model</th>\n",
       "      <th>r2_train</th>\n",
       "      <th>rmse_train</th>\n",
       "      <th>r2_test</th>\n",
       "      <th>rmse_test</th>\n",
       "    </tr>\n",
       "  </thead>\n",
       "  <tbody>\n",
       "    <tr>\n",
       "      <th>0</th>\n",
       "      <td>linreg</td>\n",
       "      <td>0.2963</td>\n",
       "      <td>20.11</td>\n",
       "      <td>0.2581</td>\n",
       "      <td>21.03</td>\n",
       "    </tr>\n",
       "    <tr>\n",
       "      <th>1</th>\n",
       "      <td>knnr</td>\n",
       "      <td>0.5343</td>\n",
       "      <td>16.36</td>\n",
       "      <td>0.3088</td>\n",
       "      <td>20.3</td>\n",
       "    </tr>\n",
       "    <tr>\n",
       "      <th>2</th>\n",
       "      <td>dtr</td>\n",
       "      <td>0.9875</td>\n",
       "      <td>2.68</td>\n",
       "      <td>-0.2283</td>\n",
       "      <td>27.06</td>\n",
       "    </tr>\n",
       "    <tr>\n",
       "      <th>3</th>\n",
       "      <td>baggingr</td>\n",
       "      <td>0.8674</td>\n",
       "      <td>8.73</td>\n",
       "      <td>0.2265</td>\n",
       "      <td>21.48</td>\n",
       "    </tr>\n",
       "    <tr>\n",
       "      <th>4</th>\n",
       "      <td>rfr</td>\n",
       "      <td>0.8938</td>\n",
       "      <td>7.81</td>\n",
       "      <td>0.2835</td>\n",
       "      <td>20.67</td>\n",
       "    </tr>\n",
       "    <tr>\n",
       "      <th>5</th>\n",
       "      <td>adar</td>\n",
       "      <td>0.0772</td>\n",
       "      <td>23.03</td>\n",
       "      <td>0.0323</td>\n",
       "      <td>24.02</td>\n",
       "    </tr>\n",
       "    <tr>\n",
       "      <th>6</th>\n",
       "      <td>dtr_tuning</td>\n",
       "      <td>0.3991</td>\n",
       "      <td>18.59</td>\n",
       "      <td>0.3742</td>\n",
       "      <td>19.32</td>\n",
       "    </tr>\n",
       "    <tr>\n",
       "      <th>7</th>\n",
       "      <td>rfr_tuning</td>\n",
       "      <td>0.4588</td>\n",
       "      <td>17.64</td>\n",
       "      <td>0.39</td>\n",
       "      <td>19.07</td>\n",
       "    </tr>\n",
       "  </tbody>\n",
       "</table>\n",
       "</div>"
      ],
      "text/plain": [
       "        Model r2_train rmse_train r2_test rmse_test\n",
       "0      linreg   0.2963      20.11  0.2581     21.03\n",
       "1        knnr   0.5343      16.36  0.3088      20.3\n",
       "2         dtr   0.9875       2.68 -0.2283     27.06\n",
       "3    baggingr   0.8674       8.73  0.2265     21.48\n",
       "4         rfr   0.8938       7.81  0.2835     20.67\n",
       "5        adar   0.0772      23.03  0.0323     24.02\n",
       "6  dtr_tuning   0.3991      18.59  0.3742     19.32\n",
       "7  rfr_tuning   0.4588      17.64    0.39     19.07"
      ]
     },
     "execution_count": 37,
     "metadata": {},
     "output_type": "execute_result"
    }
   ],
   "source": [
    "t0 = time.time()\n",
    "# Tuning random forest hyperparameter\n",
    "# Hyperparameter\n",
    "rfr_params = {\n",
    "    'max_depth': [n for n in range(4,11)],\n",
    "}\n",
    "\n",
    "# Instantiate gridsearchCV\n",
    "grid_rfr = GridSearchCV(RandomForestRegressor(random_state=42), rfr_params, cv= 3)\n",
    "\n",
    "# Fit or train\n",
    "grid_rfr.fit(X_train, y_train)\n",
    "\n",
    "# Evaluation\n",
    "y_pred_train = grid_rfr.predict(X_train)\n",
    "y_pred_test = grid_rfr.predict(X_test)\n",
    "print(f'Best score: {grid_rfr.best_score_}')\n",
    "print(grid_rfr.best_params_)\n",
    "\n",
    "# Assign result of the model to score dataframe \n",
    "score_df = assign_to_df_regressor('rfr_tuning',score_df,y_train, y_pred_train, y_test, y_pred_test)\n",
    "print(f'Calculation time: {round(time.time() - t0)} sec')\n",
    "score_df\n",
    "# R2 score is still low value."
   ]
  },
  {
   "cell_type": "markdown",
   "metadata": {},
   "source": [
    "## Step 4: Model the data. (Part 2: Classification Problem)\n",
    "\n",
    "Recall:\n",
    "- Problem: Predict whether or not one is eligible for a 401k.\n",
    "- When predicting `e401k`, you may use the entire dataframe if you wish.\n",
    "\n",
    "##### 17. While you're allowed to use every variable in your dataframe, mention at least one disadvantage of using `p401k` in your model."
   ]
  },
  {
   "cell_type": "code",
   "execution_count": 38,
   "metadata": {
    "jupyter": {
     "outputs_hidden": true
    }
   },
   "outputs": [],
   "source": [
    "# High chance to occur dataleak in the model\n",
    "# Dataleak is the model has the information that they shouldn't know.\n",
    "# It will make the model predict the result correctly by using only this information\n",
    "\n",
    "# In reality, we will not have p401k as predictor for predicting the eligible for 401k. "
   ]
  },
  {
   "cell_type": "markdown",
   "metadata": {},
   "source": [
    "##### 18. List all modeling tactics we've learned that could be used to solve a classification problem (as of Wednesday afternoon of Week 6). For each tactic, identify whether it is or is not appropriate for solving this specific classification problem and explain why or why not."
   ]
  },
  {
   "cell_type": "code",
   "execution_count": 39,
   "metadata": {
    "jupyter": {
     "outputs_hidden": true
    }
   },
   "outputs": [],
   "source": [
    "# Problem: Predict whether or not one is eligible for a 401k.\n",
    "\n",
    "# Logistic regression\n",
    "# k-Nearest-Neighbors classifier\n",
    "# This 2 model may be appropreate model for this problem, if the model\n",
    "# accuracy rate is acceptable and we have contraint about time\n",
    "\n",
    "# Decision tree classsifier\n",
    "# Random forest classifier\n",
    "# Bagging\n",
    "# Boosting\n",
    "# Stacking\n",
    "# This 5 model may be better model for this problem because they can predict\n",
    "# the result with high accuracy."
   ]
  },
  {
   "cell_type": "markdown",
   "metadata": {},
   "source": [
    "##### 19. Regardless of your answer to number 18, fit at least one of each of the following models to attempt to solve the classification problem above:\n",
    "    - a logistic regression model\n",
    "    - a k-nearest neighbors model\n",
    "    - a decision tree\n",
    "    - a set of bagged decision trees\n",
    "    - a random forest\n",
    "    - an Adaboost model\n",
    "    \n",
    "> As always, be sure to do a train/test split! In order to compare modeling techniques, you should use the same train-test split on each. I recommend using a random seed here.\n",
    "\n",
    "> You may find it helpful to set up a pipeline to try each modeling technique, but you are not required to do so!"
   ]
  },
  {
   "cell_type": "code",
   "execution_count": 40,
   "metadata": {},
   "outputs": [
    {
     "data": {
      "text/plain": [
       "Index(['e401k', 'inc', 'marr', 'male', 'age', 'fsize', 'nettfa', 'p401k',\n",
       "       'pira', 'incsq', 'agesq'],\n",
       "      dtype='object')"
      ]
     },
     "execution_count": 40,
     "metadata": {},
     "output_type": "execute_result"
    }
   ],
   "source": [
    "df.columns"
   ]
  },
  {
   "cell_type": "code",
   "execution_count": 41,
   "metadata": {},
   "outputs": [],
   "source": [
    "# Set X and y for classification problem\n",
    "X = df.drop(columns = ['e401k','p401k'])\n",
    "y = df['e401k']\n",
    "\n",
    "# Split train and test data: train before test, X before y\n",
    "X_train, X_test, y_train, y_test = train_test_split(X, y,\n",
    "                                                    random_state=42 )"
   ]
  },
  {
   "cell_type": "code",
   "execution_count": 42,
   "metadata": {},
   "outputs": [],
   "source": [
    "# Define score_class_df for store the classification model score\n",
    "score_class_df = pd.DataFrame(columns=['model','accuracy_train', 'recall_train', 'precision_train', \n",
    "                                       'accuracy_test', 'recall_test', 'precision_test'])"
   ]
  },
  {
   "cell_type": "code",
   "execution_count": 43,
   "metadata": {},
   "outputs": [],
   "source": [
    "# Define function for accuracy, recall and precision\n",
    "def classification_metrics(y_test, y_pred):\n",
    "    \"\"\"Function for find accuracy, precision and recall of classification model\"\"\"\n",
    "    tn, fp, fn, tp = confusion_matrix(y_test,y_pred).ravel()\n",
    "    accuracy = round(accuracy_score(y_test, y_pred),4)\n",
    "    recall = round(tp/(tp+fn),4)\n",
    "    precision = round(tp/(tp+fp),4)\n",
    "    return [accuracy, recall, precision]"
   ]
  },
  {
   "cell_type": "code",
   "execution_count": 44,
   "metadata": {},
   "outputs": [],
   "source": [
    "# Define metric function for both training and testing data\n",
    "def train_test_classification_metric(y_train, y_pred_train, y_test, y_pred_test):\n",
    "    \"\"\"Function for find metrics for both training and testing set\"\"\"\n",
    "    metric_train = classification_metrics(y_train, y_pred_train)\n",
    "    metric_test = classification_metrics(y_test, y_pred_test)\n",
    "    return metric_train + metric_test"
   ]
  },
  {
   "cell_type": "code",
   "execution_count": 45,
   "metadata": {},
   "outputs": [],
   "source": [
    "def assign_to_df_classifier(model,score_df,y_train, y_pred_train, y_test, y_pred_test):\n",
    "    \"\"\"Function assigning result of the model to score dataframe including show the confusion matrix\"\"\"\n",
    "    class_metrics = train_test_classification_metric(y_train, y_pred_train ,y_test, y_pred_test)\n",
    "    model_df = pd.DataFrame([[model]+class_metrics],\n",
    "                          columns=['model','accuracy_train', 'recall_train', 'precision_train', \n",
    "                                           'accuracy_test', 'recall_test', 'precision_test'])\n",
    "    score_df = pd.concat([score_df,model_df])\n",
    "    score_df.reset_index(drop=True,inplace=True)\n",
    "    # Show confusion matrix\n",
    "    print(confusion_matrix(y_test,y_pred_test))\n",
    "    return score_df"
   ]
  },
  {
   "cell_type": "code",
   "execution_count": 46,
   "metadata": {},
   "outputs": [
    {
     "name": "stdout",
     "output_type": "stream",
     "text": [
      "[[1163  259]\n",
      " [ 541  356]]\n"
     ]
    },
    {
     "data": {
      "text/html": [
       "<div>\n",
       "<style scoped>\n",
       "    .dataframe tbody tr th:only-of-type {\n",
       "        vertical-align: middle;\n",
       "    }\n",
       "\n",
       "    .dataframe tbody tr th {\n",
       "        vertical-align: top;\n",
       "    }\n",
       "\n",
       "    .dataframe thead th {\n",
       "        text-align: right;\n",
       "    }\n",
       "</style>\n",
       "<table border=\"1\" class=\"dataframe\">\n",
       "  <thead>\n",
       "    <tr style=\"text-align: right;\">\n",
       "      <th></th>\n",
       "      <th>model</th>\n",
       "      <th>accuracy_train</th>\n",
       "      <th>recall_train</th>\n",
       "      <th>precision_train</th>\n",
       "      <th>accuracy_test</th>\n",
       "      <th>recall_test</th>\n",
       "      <th>precision_test</th>\n",
       "    </tr>\n",
       "  </thead>\n",
       "  <tbody>\n",
       "    <tr>\n",
       "      <th>0</th>\n",
       "      <td>logreg</td>\n",
       "      <td>0.657</td>\n",
       "      <td>0.4055</td>\n",
       "      <td>0.5948</td>\n",
       "      <td>0.655</td>\n",
       "      <td>0.3969</td>\n",
       "      <td>0.5789</td>\n",
       "    </tr>\n",
       "  </tbody>\n",
       "</table>\n",
       "</div>"
      ],
      "text/plain": [
       "    model accuracy_train recall_train precision_train accuracy_test  \\\n",
       "0  logreg          0.657       0.4055          0.5948         0.655   \n",
       "\n",
       "  recall_test precision_test  \n",
       "0      0.3969         0.5789  "
      ]
     },
     "execution_count": 46,
     "metadata": {},
     "output_type": "execute_result"
    }
   ],
   "source": [
    "# Model: Logistic regression\n",
    "# Create pipeline\n",
    "pipe_log = Pipeline([\n",
    "    ('sc',StandardScaler()),\n",
    "    ('logreg',LogisticRegression())\n",
    "])\n",
    "\n",
    "# Fit and train\n",
    "pipe_log.fit(X_train,y_train)\n",
    "\n",
    "# Evaluation\n",
    "y_pred_train = pipe_log.predict(X_train)\n",
    "y_pred_test = pipe_log.predict(X_test)\n",
    "\n",
    "# Assign result of the model to score dataframe\n",
    "score_class_df = assign_to_df_classifier('logreg',score_class_df,y_train, y_pred_train, y_test, y_pred_test)\n",
    "score_class_df"
   ]
  },
  {
   "cell_type": "code",
   "execution_count": 47,
   "metadata": {},
   "outputs": [
    {
     "name": "stdout",
     "output_type": "stream",
     "text": [
      "[[1068  354]\n",
      " [ 481  416]]\n"
     ]
    },
    {
     "data": {
      "text/html": [
       "<div>\n",
       "<style scoped>\n",
       "    .dataframe tbody tr th:only-of-type {\n",
       "        vertical-align: middle;\n",
       "    }\n",
       "\n",
       "    .dataframe tbody tr th {\n",
       "        vertical-align: top;\n",
       "    }\n",
       "\n",
       "    .dataframe thead th {\n",
       "        text-align: right;\n",
       "    }\n",
       "</style>\n",
       "<table border=\"1\" class=\"dataframe\">\n",
       "  <thead>\n",
       "    <tr style=\"text-align: right;\">\n",
       "      <th></th>\n",
       "      <th>model</th>\n",
       "      <th>accuracy_train</th>\n",
       "      <th>recall_train</th>\n",
       "      <th>precision_train</th>\n",
       "      <th>accuracy_test</th>\n",
       "      <th>recall_test</th>\n",
       "      <th>precision_test</th>\n",
       "    </tr>\n",
       "  </thead>\n",
       "  <tbody>\n",
       "    <tr>\n",
       "      <th>0</th>\n",
       "      <td>logreg</td>\n",
       "      <td>0.657</td>\n",
       "      <td>0.4055</td>\n",
       "      <td>0.5948</td>\n",
       "      <td>0.655</td>\n",
       "      <td>0.3969</td>\n",
       "      <td>0.5789</td>\n",
       "    </tr>\n",
       "    <tr>\n",
       "      <th>1</th>\n",
       "      <td>knnc</td>\n",
       "      <td>0.7516</td>\n",
       "      <td>0.6088</td>\n",
       "      <td>0.7177</td>\n",
       "      <td>0.6399</td>\n",
       "      <td>0.4638</td>\n",
       "      <td>0.5403</td>\n",
       "    </tr>\n",
       "  </tbody>\n",
       "</table>\n",
       "</div>"
      ],
      "text/plain": [
       "    model accuracy_train recall_train precision_train accuracy_test  \\\n",
       "0  logreg          0.657       0.4055          0.5948         0.655   \n",
       "1    knnc         0.7516       0.6088          0.7177        0.6399   \n",
       "\n",
       "  recall_test precision_test  \n",
       "0      0.3969         0.5789  \n",
       "1      0.4638         0.5403  "
      ]
     },
     "execution_count": 47,
     "metadata": {},
     "output_type": "execute_result"
    }
   ],
   "source": [
    "# Model: kNN classifier\n",
    "# Create pipeline\n",
    "pipe_knnc = Pipeline([\n",
    "    ('sc', StandardScaler()),\n",
    "    ('knnc', KNeighborsClassifier())\n",
    "])\n",
    "# Fit or train\n",
    "pipe_knnc.fit(X_train, y_train)\n",
    "\n",
    "# Evaluation\n",
    "y_pred_train = pipe_knnc.predict(X_train)\n",
    "y_pred_test = pipe_knnc.predict(X_test)\n",
    "\n",
    "# Assign result of the model to score dataframe\n",
    "score_class_df = assign_to_df_classifier('knnc',score_class_df,y_train, y_pred_train, y_test, y_pred_test)\n",
    "score_class_df"
   ]
  },
  {
   "cell_type": "code",
   "execution_count": 48,
   "metadata": {},
   "outputs": [
    {
     "name": "stdout",
     "output_type": "stream",
     "text": [
      "[[943 479]\n",
      " [470 427]]\n"
     ]
    },
    {
     "data": {
      "text/html": [
       "<div>\n",
       "<style scoped>\n",
       "    .dataframe tbody tr th:only-of-type {\n",
       "        vertical-align: middle;\n",
       "    }\n",
       "\n",
       "    .dataframe tbody tr th {\n",
       "        vertical-align: top;\n",
       "    }\n",
       "\n",
       "    .dataframe thead th {\n",
       "        text-align: right;\n",
       "    }\n",
       "</style>\n",
       "<table border=\"1\" class=\"dataframe\">\n",
       "  <thead>\n",
       "    <tr style=\"text-align: right;\">\n",
       "      <th></th>\n",
       "      <th>model</th>\n",
       "      <th>accuracy_train</th>\n",
       "      <th>recall_train</th>\n",
       "      <th>precision_train</th>\n",
       "      <th>accuracy_test</th>\n",
       "      <th>recall_test</th>\n",
       "      <th>precision_test</th>\n",
       "    </tr>\n",
       "  </thead>\n",
       "  <tbody>\n",
       "    <tr>\n",
       "      <th>0</th>\n",
       "      <td>logreg</td>\n",
       "      <td>0.657</td>\n",
       "      <td>0.4055</td>\n",
       "      <td>0.5948</td>\n",
       "      <td>0.655</td>\n",
       "      <td>0.3969</td>\n",
       "      <td>0.5789</td>\n",
       "    </tr>\n",
       "    <tr>\n",
       "      <th>1</th>\n",
       "      <td>knnc</td>\n",
       "      <td>0.7516</td>\n",
       "      <td>0.6088</td>\n",
       "      <td>0.7177</td>\n",
       "      <td>0.6399</td>\n",
       "      <td>0.4638</td>\n",
       "      <td>0.5403</td>\n",
       "    </tr>\n",
       "    <tr>\n",
       "      <th>2</th>\n",
       "      <td>dtc</td>\n",
       "      <td>1.0</td>\n",
       "      <td>1.0</td>\n",
       "      <td>1.0</td>\n",
       "      <td>0.5908</td>\n",
       "      <td>0.476</td>\n",
       "      <td>0.4713</td>\n",
       "    </tr>\n",
       "  </tbody>\n",
       "</table>\n",
       "</div>"
      ],
      "text/plain": [
       "    model accuracy_train recall_train precision_train accuracy_test  \\\n",
       "0  logreg          0.657       0.4055          0.5948         0.655   \n",
       "1    knnc         0.7516       0.6088          0.7177        0.6399   \n",
       "2     dtc            1.0          1.0             1.0        0.5908   \n",
       "\n",
       "  recall_test precision_test  \n",
       "0      0.3969         0.5789  \n",
       "1      0.4638         0.5403  \n",
       "2       0.476         0.4713  "
      ]
     },
     "execution_count": 48,
     "metadata": {},
     "output_type": "execute_result"
    }
   ],
   "source": [
    "# Model: Decision tree classifier\n",
    "# Instantiate\n",
    "dtc = DecisionTreeClassifier()\n",
    "# Fit or train\n",
    "dtc.fit(X_train, y_train)\n",
    "\n",
    "# Evaluation\n",
    "y_pred_train = dtc.predict(X_train)\n",
    "y_pred_test = dtc.predict(X_test)\n",
    "\n",
    "# Assign result of the model to score dataframe\n",
    "score_class_df = assign_to_df_classifier('dtc',score_class_df,y_train, y_pred_train, y_test, y_pred_test)\n",
    "score_class_df"
   ]
  },
  {
   "cell_type": "code",
   "execution_count": 49,
   "metadata": {},
   "outputs": [
    {
     "name": "stdout",
     "output_type": "stream",
     "text": [
      "[[1106  316]\n",
      " [ 468  429]]\n"
     ]
    },
    {
     "data": {
      "text/html": [
       "<div>\n",
       "<style scoped>\n",
       "    .dataframe tbody tr th:only-of-type {\n",
       "        vertical-align: middle;\n",
       "    }\n",
       "\n",
       "    .dataframe tbody tr th {\n",
       "        vertical-align: top;\n",
       "    }\n",
       "\n",
       "    .dataframe thead th {\n",
       "        text-align: right;\n",
       "    }\n",
       "</style>\n",
       "<table border=\"1\" class=\"dataframe\">\n",
       "  <thead>\n",
       "    <tr style=\"text-align: right;\">\n",
       "      <th></th>\n",
       "      <th>model</th>\n",
       "      <th>accuracy_train</th>\n",
       "      <th>recall_train</th>\n",
       "      <th>precision_train</th>\n",
       "      <th>accuracy_test</th>\n",
       "      <th>recall_test</th>\n",
       "      <th>precision_test</th>\n",
       "    </tr>\n",
       "  </thead>\n",
       "  <tbody>\n",
       "    <tr>\n",
       "      <th>0</th>\n",
       "      <td>logreg</td>\n",
       "      <td>0.657</td>\n",
       "      <td>0.4055</td>\n",
       "      <td>0.5948</td>\n",
       "      <td>0.655</td>\n",
       "      <td>0.3969</td>\n",
       "      <td>0.5789</td>\n",
       "    </tr>\n",
       "    <tr>\n",
       "      <th>1</th>\n",
       "      <td>knnc</td>\n",
       "      <td>0.7516</td>\n",
       "      <td>0.6088</td>\n",
       "      <td>0.7177</td>\n",
       "      <td>0.6399</td>\n",
       "      <td>0.4638</td>\n",
       "      <td>0.5403</td>\n",
       "    </tr>\n",
       "    <tr>\n",
       "      <th>2</th>\n",
       "      <td>dtc</td>\n",
       "      <td>1.0</td>\n",
       "      <td>1.0</td>\n",
       "      <td>1.0</td>\n",
       "      <td>0.5908</td>\n",
       "      <td>0.476</td>\n",
       "      <td>0.4713</td>\n",
       "    </tr>\n",
       "    <tr>\n",
       "      <th>3</th>\n",
       "      <td>rfc</td>\n",
       "      <td>1.0</td>\n",
       "      <td>1.0</td>\n",
       "      <td>1.0</td>\n",
       "      <td>0.6619</td>\n",
       "      <td>0.4783</td>\n",
       "      <td>0.5758</td>\n",
       "    </tr>\n",
       "  </tbody>\n",
       "</table>\n",
       "</div>"
      ],
      "text/plain": [
       "    model accuracy_train recall_train precision_train accuracy_test  \\\n",
       "0  logreg          0.657       0.4055          0.5948         0.655   \n",
       "1    knnc         0.7516       0.6088          0.7177        0.6399   \n",
       "2     dtc            1.0          1.0             1.0        0.5908   \n",
       "3     rfc            1.0          1.0             1.0        0.6619   \n",
       "\n",
       "  recall_test precision_test  \n",
       "0      0.3969         0.5789  \n",
       "1      0.4638         0.5403  \n",
       "2       0.476         0.4713  \n",
       "3      0.4783         0.5758  "
      ]
     },
     "execution_count": 49,
     "metadata": {},
     "output_type": "execute_result"
    }
   ],
   "source": [
    "# Model: Random forest classifier\n",
    "# Instantiate\n",
    "rfc = RandomForestClassifier(random_state=42)\n",
    "# Fit or train\n",
    "rfc.fit(X_train, y_train)\n",
    "\n",
    "# Evaluation\n",
    "y_pred_train = rfc.predict(X_train)\n",
    "y_pred_test = rfc.predict(X_test)\n",
    "\n",
    "# Assign result of the model to score dataframe\n",
    "score_class_df = assign_to_df_classifier('rfc',score_class_df,y_train, y_pred_train, y_test, y_pred_test)\n",
    "score_class_df"
   ]
  },
  {
   "cell_type": "code",
   "execution_count": 50,
   "metadata": {},
   "outputs": [
    {
     "name": "stdout",
     "output_type": "stream",
     "text": [
      "[[1117  305]\n",
      " [ 512  385]]\n"
     ]
    },
    {
     "data": {
      "text/html": [
       "<div>\n",
       "<style scoped>\n",
       "    .dataframe tbody tr th:only-of-type {\n",
       "        vertical-align: middle;\n",
       "    }\n",
       "\n",
       "    .dataframe tbody tr th {\n",
       "        vertical-align: top;\n",
       "    }\n",
       "\n",
       "    .dataframe thead th {\n",
       "        text-align: right;\n",
       "    }\n",
       "</style>\n",
       "<table border=\"1\" class=\"dataframe\">\n",
       "  <thead>\n",
       "    <tr style=\"text-align: right;\">\n",
       "      <th></th>\n",
       "      <th>model</th>\n",
       "      <th>accuracy_train</th>\n",
       "      <th>recall_train</th>\n",
       "      <th>precision_train</th>\n",
       "      <th>accuracy_test</th>\n",
       "      <th>recall_test</th>\n",
       "      <th>precision_test</th>\n",
       "    </tr>\n",
       "  </thead>\n",
       "  <tbody>\n",
       "    <tr>\n",
       "      <th>0</th>\n",
       "      <td>logreg</td>\n",
       "      <td>0.657</td>\n",
       "      <td>0.4055</td>\n",
       "      <td>0.5948</td>\n",
       "      <td>0.655</td>\n",
       "      <td>0.3969</td>\n",
       "      <td>0.5789</td>\n",
       "    </tr>\n",
       "    <tr>\n",
       "      <th>1</th>\n",
       "      <td>knnc</td>\n",
       "      <td>0.7516</td>\n",
       "      <td>0.6088</td>\n",
       "      <td>0.7177</td>\n",
       "      <td>0.6399</td>\n",
       "      <td>0.4638</td>\n",
       "      <td>0.5403</td>\n",
       "    </tr>\n",
       "    <tr>\n",
       "      <th>2</th>\n",
       "      <td>dtc</td>\n",
       "      <td>1.0</td>\n",
       "      <td>1.0</td>\n",
       "      <td>1.0</td>\n",
       "      <td>0.5908</td>\n",
       "      <td>0.476</td>\n",
       "      <td>0.4713</td>\n",
       "    </tr>\n",
       "    <tr>\n",
       "      <th>3</th>\n",
       "      <td>rfc</td>\n",
       "      <td>1.0</td>\n",
       "      <td>1.0</td>\n",
       "      <td>1.0</td>\n",
       "      <td>0.6619</td>\n",
       "      <td>0.4783</td>\n",
       "      <td>0.5758</td>\n",
       "    </tr>\n",
       "    <tr>\n",
       "      <th>4</th>\n",
       "      <td>baggingc</td>\n",
       "      <td>0.975</td>\n",
       "      <td>0.9478</td>\n",
       "      <td>0.9882</td>\n",
       "      <td>0.6477</td>\n",
       "      <td>0.4292</td>\n",
       "      <td>0.558</td>\n",
       "    </tr>\n",
       "  </tbody>\n",
       "</table>\n",
       "</div>"
      ],
      "text/plain": [
       "      model accuracy_train recall_train precision_train accuracy_test  \\\n",
       "0    logreg          0.657       0.4055          0.5948         0.655   \n",
       "1      knnc         0.7516       0.6088          0.7177        0.6399   \n",
       "2       dtc            1.0          1.0             1.0        0.5908   \n",
       "3       rfc            1.0          1.0             1.0        0.6619   \n",
       "4  baggingc          0.975       0.9478          0.9882        0.6477   \n",
       "\n",
       "  recall_test precision_test  \n",
       "0      0.3969         0.5789  \n",
       "1      0.4638         0.5403  \n",
       "2       0.476         0.4713  \n",
       "3      0.4783         0.5758  \n",
       "4      0.4292          0.558  "
      ]
     },
     "execution_count": 50,
     "metadata": {},
     "output_type": "execute_result"
    }
   ],
   "source": [
    "# Model: Bagging classifier\n",
    "# Instantiate\n",
    "bagging_c = BaggingClassifier(random_state=42)\n",
    "# Fit or train\n",
    "bagging_c.fit(X_train, y_train)\n",
    "\n",
    "# Evaluation\n",
    "y_pred_train = bagging_c.predict(X_train)\n",
    "y_pred_test = bagging_c.predict(X_test)\n",
    "\n",
    "# Assign result of the model to score dataframe\n",
    "score_class_df = assign_to_df_classifier('baggingc',score_class_df,y_train, y_pred_train, y_test, y_pred_test)\n",
    "score_class_df"
   ]
  },
  {
   "cell_type": "code",
   "execution_count": 51,
   "metadata": {},
   "outputs": [
    {
     "name": "stdout",
     "output_type": "stream",
     "text": [
      "[[1135  287]\n",
      " [ 442  455]]\n"
     ]
    },
    {
     "data": {
      "text/html": [
       "<div>\n",
       "<style scoped>\n",
       "    .dataframe tbody tr th:only-of-type {\n",
       "        vertical-align: middle;\n",
       "    }\n",
       "\n",
       "    .dataframe tbody tr th {\n",
       "        vertical-align: top;\n",
       "    }\n",
       "\n",
       "    .dataframe thead th {\n",
       "        text-align: right;\n",
       "    }\n",
       "</style>\n",
       "<table border=\"1\" class=\"dataframe\">\n",
       "  <thead>\n",
       "    <tr style=\"text-align: right;\">\n",
       "      <th></th>\n",
       "      <th>model</th>\n",
       "      <th>accuracy_train</th>\n",
       "      <th>recall_train</th>\n",
       "      <th>precision_train</th>\n",
       "      <th>accuracy_test</th>\n",
       "      <th>recall_test</th>\n",
       "      <th>precision_test</th>\n",
       "    </tr>\n",
       "  </thead>\n",
       "  <tbody>\n",
       "    <tr>\n",
       "      <th>0</th>\n",
       "      <td>logreg</td>\n",
       "      <td>0.657</td>\n",
       "      <td>0.4055</td>\n",
       "      <td>0.5948</td>\n",
       "      <td>0.655</td>\n",
       "      <td>0.3969</td>\n",
       "      <td>0.5789</td>\n",
       "    </tr>\n",
       "    <tr>\n",
       "      <th>1</th>\n",
       "      <td>knnc</td>\n",
       "      <td>0.7516</td>\n",
       "      <td>0.6088</td>\n",
       "      <td>0.7177</td>\n",
       "      <td>0.6399</td>\n",
       "      <td>0.4638</td>\n",
       "      <td>0.5403</td>\n",
       "    </tr>\n",
       "    <tr>\n",
       "      <th>2</th>\n",
       "      <td>dtc</td>\n",
       "      <td>1.0</td>\n",
       "      <td>1.0</td>\n",
       "      <td>1.0</td>\n",
       "      <td>0.5908</td>\n",
       "      <td>0.476</td>\n",
       "      <td>0.4713</td>\n",
       "    </tr>\n",
       "    <tr>\n",
       "      <th>3</th>\n",
       "      <td>rfc</td>\n",
       "      <td>1.0</td>\n",
       "      <td>1.0</td>\n",
       "      <td>1.0</td>\n",
       "      <td>0.6619</td>\n",
       "      <td>0.4783</td>\n",
       "      <td>0.5758</td>\n",
       "    </tr>\n",
       "    <tr>\n",
       "      <th>4</th>\n",
       "      <td>baggingc</td>\n",
       "      <td>0.975</td>\n",
       "      <td>0.9478</td>\n",
       "      <td>0.9882</td>\n",
       "      <td>0.6477</td>\n",
       "      <td>0.4292</td>\n",
       "      <td>0.558</td>\n",
       "    </tr>\n",
       "    <tr>\n",
       "      <th>5</th>\n",
       "      <td>adac</td>\n",
       "      <td>0.6928</td>\n",
       "      <td>0.515</td>\n",
       "      <td>0.6359</td>\n",
       "      <td>0.6856</td>\n",
       "      <td>0.5072</td>\n",
       "      <td>0.6132</td>\n",
       "    </tr>\n",
       "  </tbody>\n",
       "</table>\n",
       "</div>"
      ],
      "text/plain": [
       "      model accuracy_train recall_train precision_train accuracy_test  \\\n",
       "0    logreg          0.657       0.4055          0.5948         0.655   \n",
       "1      knnc         0.7516       0.6088          0.7177        0.6399   \n",
       "2       dtc            1.0          1.0             1.0        0.5908   \n",
       "3       rfc            1.0          1.0             1.0        0.6619   \n",
       "4  baggingc          0.975       0.9478          0.9882        0.6477   \n",
       "5      adac         0.6928        0.515          0.6359        0.6856   \n",
       "\n",
       "  recall_test precision_test  \n",
       "0      0.3969         0.5789  \n",
       "1      0.4638         0.5403  \n",
       "2       0.476         0.4713  \n",
       "3      0.4783         0.5758  \n",
       "4      0.4292          0.558  \n",
       "5      0.5072         0.6132  "
      ]
     },
     "execution_count": 51,
     "metadata": {},
     "output_type": "execute_result"
    }
   ],
   "source": [
    "# Model: Adaboosting classifier\n",
    "# Instantiate\n",
    "adac = AdaBoostClassifier()\n",
    "# Fit or train\n",
    "adac.fit(X_train, y_train)\n",
    "\n",
    "# Evaluation\n",
    "y_pred_train = adac.predict(X_train)\n",
    "y_pred_test = adac.predict(X_test)\n",
    "\n",
    "# Assign result of the model to score dataframe\n",
    "score_class_df = assign_to_df_classifier('adac',score_class_df,y_train, y_pred_train, y_test, y_pred_test)\n",
    "score_class_df"
   ]
  },
  {
   "cell_type": "markdown",
   "metadata": {},
   "source": [
    "## Step 5: Evaluate the model. (Part 2: Classfication Problem)\n",
    "\n",
    "##### 20. Suppose our \"positive\" class is that someone is eligible for a 401(k). What are our false positives? What are our false negatives?"
   ]
  },
  {
   "cell_type": "code",
   "execution_count": 52,
   "metadata": {
    "jupyter": {
     "outputs_hidden": true
    }
   },
   "outputs": [],
   "source": [
    "# False positives: The person who doesn't has eligible for a 401(k) will be told that they have\n",
    "# eligible for 401(k).\n",
    "\n",
    "# False negatives: The person who has eligible for a 401(k) will be told that they don't have\n",
    "# eligible for 401(k)."
   ]
  },
  {
   "cell_type": "markdown",
   "metadata": {},
   "source": [
    "##### 21. In this specific case, would we rather minimize false positives or minimize false negatives? Defend your choice."
   ]
  },
  {
   "cell_type": "code",
   "execution_count": 53,
   "metadata": {
    "jupyter": {
     "outputs_hidden": true
    }
   },
   "outputs": [],
   "source": [
    "# In this case, I choose to minimize false negative because they'll lose eligible for 401(k)."
   ]
  },
  {
   "cell_type": "markdown",
   "metadata": {},
   "source": [
    "##### 22. Suppose we wanted to optimize for the answer you provided in problem 21. Which metric would we optimize in this case?"
   ]
  },
  {
   "cell_type": "code",
   "execution_count": 54,
   "metadata": {
    "jupyter": {
     "outputs_hidden": true
    }
   },
   "outputs": [],
   "source": [
    "# In order to minimize false negative, we need to optimize recall."
   ]
  },
  {
   "cell_type": "markdown",
   "metadata": {},
   "source": [
    "##### 23. Suppose that instead of optimizing for the metric in problem 21, we wanted to balance our false positives and false negatives using `f1-score`. Why might [f1-score](https://en.wikipedia.org/wiki/F1_score) be an appropriate metric to use here?"
   ]
  },
  {
   "cell_type": "code",
   "execution_count": 55,
   "metadata": {
    "jupyter": {
     "outputs_hidden": true
    }
   },
   "outputs": [],
   "source": [
    "# Because f1-score is the metric that optimize both false negative and false positive equally."
   ]
  },
  {
   "cell_type": "markdown",
   "metadata": {},
   "source": [
    "##### 24. Using f1-score, evaluate each of the models you fit on both the training and testing data."
   ]
  },
  {
   "cell_type": "code",
   "execution_count": 56,
   "metadata": {},
   "outputs": [],
   "source": [
    "# F1 score = 2*(precision*recall)/(precision+recall)\n",
    "# Training F1 score\n",
    "def f1_dataframe(score_class_df):\n",
    "    \"\"\"Function calculate f1 score for classification DataFrame\"\"\"\n",
    "    precision_train = score_class_df['precision_train']\n",
    "    recall_train = score_class_df['recall_train']\n",
    "    score_class_df['f1_train'] = 2*(precision_train*recall_train)/(precision_train+recall_train)\n",
    "    score_class_df['f1_train'] = score_class_df['f1_train'].astype('float64').round(4)\n",
    "    # Testing F1 score\n",
    "    precision_test = score_class_df['precision_test']\n",
    "    recall_test = score_class_df['recall_test']\n",
    "    score_class_df['f1_test'] = 2*(precision_test*recall_test)/(precision_test+recall_test)\n",
    "    score_class_df['f1_test'] = score_class_df['f1_test'].astype('float64').round(4)\n",
    "    return score_class_df"
   ]
  },
  {
   "cell_type": "code",
   "execution_count": 57,
   "metadata": {
    "jupyter": {
     "outputs_hidden": true
    }
   },
   "outputs": [
    {
     "data": {
      "text/html": [
       "<div>\n",
       "<style scoped>\n",
       "    .dataframe tbody tr th:only-of-type {\n",
       "        vertical-align: middle;\n",
       "    }\n",
       "\n",
       "    .dataframe tbody tr th {\n",
       "        vertical-align: top;\n",
       "    }\n",
       "\n",
       "    .dataframe thead th {\n",
       "        text-align: right;\n",
       "    }\n",
       "</style>\n",
       "<table border=\"1\" class=\"dataframe\">\n",
       "  <thead>\n",
       "    <tr style=\"text-align: right;\">\n",
       "      <th></th>\n",
       "      <th>model</th>\n",
       "      <th>accuracy_train</th>\n",
       "      <th>recall_train</th>\n",
       "      <th>precision_train</th>\n",
       "      <th>accuracy_test</th>\n",
       "      <th>recall_test</th>\n",
       "      <th>precision_test</th>\n",
       "      <th>f1_train</th>\n",
       "      <th>f1_test</th>\n",
       "    </tr>\n",
       "  </thead>\n",
       "  <tbody>\n",
       "    <tr>\n",
       "      <th>0</th>\n",
       "      <td>logreg</td>\n",
       "      <td>0.657</td>\n",
       "      <td>0.4055</td>\n",
       "      <td>0.5948</td>\n",
       "      <td>0.655</td>\n",
       "      <td>0.3969</td>\n",
       "      <td>0.5789</td>\n",
       "      <td>0.4822</td>\n",
       "      <td>0.4709</td>\n",
       "    </tr>\n",
       "    <tr>\n",
       "      <th>1</th>\n",
       "      <td>knnc</td>\n",
       "      <td>0.7516</td>\n",
       "      <td>0.6088</td>\n",
       "      <td>0.7177</td>\n",
       "      <td>0.6399</td>\n",
       "      <td>0.4638</td>\n",
       "      <td>0.5403</td>\n",
       "      <td>0.6588</td>\n",
       "      <td>0.4991</td>\n",
       "    </tr>\n",
       "    <tr>\n",
       "      <th>2</th>\n",
       "      <td>dtc</td>\n",
       "      <td>1.0</td>\n",
       "      <td>1.0</td>\n",
       "      <td>1.0</td>\n",
       "      <td>0.5908</td>\n",
       "      <td>0.476</td>\n",
       "      <td>0.4713</td>\n",
       "      <td>1.0000</td>\n",
       "      <td>0.4736</td>\n",
       "    </tr>\n",
       "    <tr>\n",
       "      <th>3</th>\n",
       "      <td>rfc</td>\n",
       "      <td>1.0</td>\n",
       "      <td>1.0</td>\n",
       "      <td>1.0</td>\n",
       "      <td>0.6619</td>\n",
       "      <td>0.4783</td>\n",
       "      <td>0.5758</td>\n",
       "      <td>1.0000</td>\n",
       "      <td>0.5225</td>\n",
       "    </tr>\n",
       "    <tr>\n",
       "      <th>4</th>\n",
       "      <td>baggingc</td>\n",
       "      <td>0.975</td>\n",
       "      <td>0.9478</td>\n",
       "      <td>0.9882</td>\n",
       "      <td>0.6477</td>\n",
       "      <td>0.4292</td>\n",
       "      <td>0.558</td>\n",
       "      <td>0.9676</td>\n",
       "      <td>0.4852</td>\n",
       "    </tr>\n",
       "    <tr>\n",
       "      <th>5</th>\n",
       "      <td>adac</td>\n",
       "      <td>0.6928</td>\n",
       "      <td>0.515</td>\n",
       "      <td>0.6359</td>\n",
       "      <td>0.6856</td>\n",
       "      <td>0.5072</td>\n",
       "      <td>0.6132</td>\n",
       "      <td>0.5691</td>\n",
       "      <td>0.5552</td>\n",
       "    </tr>\n",
       "  </tbody>\n",
       "</table>\n",
       "</div>"
      ],
      "text/plain": [
       "      model accuracy_train recall_train precision_train accuracy_test  \\\n",
       "0    logreg          0.657       0.4055          0.5948         0.655   \n",
       "1      knnc         0.7516       0.6088          0.7177        0.6399   \n",
       "2       dtc            1.0          1.0             1.0        0.5908   \n",
       "3       rfc            1.0          1.0             1.0        0.6619   \n",
       "4  baggingc          0.975       0.9478          0.9882        0.6477   \n",
       "5      adac         0.6928        0.515          0.6359        0.6856   \n",
       "\n",
       "  recall_test precision_test  f1_train  f1_test  \n",
       "0      0.3969         0.5789    0.4822   0.4709  \n",
       "1      0.4638         0.5403    0.6588   0.4991  \n",
       "2       0.476         0.4713    1.0000   0.4736  \n",
       "3      0.4783         0.5758    1.0000   0.5225  \n",
       "4      0.4292          0.558    0.9676   0.4852  \n",
       "5      0.5072         0.6132    0.5691   0.5552  "
      ]
     },
     "execution_count": 57,
     "metadata": {},
     "output_type": "execute_result"
    }
   ],
   "source": [
    "score_class_df = f1_dataframe(score_class_df)\n",
    "score_class_df"
   ]
  },
  {
   "cell_type": "markdown",
   "metadata": {},
   "source": [
    "##### 25. Based on training f1-score and testing f1-score, is there evidence of overfitting in any of your models? Which ones?"
   ]
  },
  {
   "cell_type": "code",
   "execution_count": 58,
   "metadata": {
    "jupyter": {
     "outputs_hidden": true
    }
   },
   "outputs": [],
   "source": [
    "# Decision tree, random forest and bagging are overfitting \n",
    "# because training f1 score is much higher than testing f1 score."
   ]
  },
  {
   "cell_type": "markdown",
   "metadata": {},
   "source": [
    "##### 26. Based on everything we've covered so far, if you had to pick just one model as your final model to use to answer the problem in front of you, which one model would you pick? Defend your choice."
   ]
  },
  {
   "cell_type": "code",
   "execution_count": 59,
   "metadata": {
    "jupyter": {
     "outputs_hidden": true
    }
   },
   "outputs": [],
   "source": [
    "# I decided to choose model which has the best train and test accuracy model. \n",
    "# So, I choose adaboost classifier model.\n",
    "# This model has good accuracy and f1 score for both training and testing.\n",
    "# Moreover, this model doesn't overfitting like tree model."
   ]
  },
  {
   "cell_type": "markdown",
   "metadata": {},
   "source": [
    "##### 27. Suppose you wanted to improve the performance of your final model. Brainstorm 2-3 things that, if you had more time, you would attempt."
   ]
  },
  {
   "cell_type": "code",
   "execution_count": 60,
   "metadata": {
    "jupyter": {
     "outputs_hidden": true
    }
   },
   "outputs": [],
   "source": [
    "# Just like the answer in the regressor part\n",
    "# 1. Select new set of feature/Feature engineering\n",
    "# 2. tuning hyperparameter of boosting model for improve accuracy of the model\n",
    "# 3. Using better boosting model to improve the performance of the model e.g. XGboosting"
   ]
  },
  {
   "cell_type": "code",
   "execution_count": 61,
   "metadata": {},
   "outputs": [
    {
     "name": "stdout",
     "output_type": "stream",
     "text": [
      "Best score: 0.6812796665526916\n",
      "Best hyperparameter: {'max_depth': 5, 'min_samples_leaf': 1}\n",
      "[[1082  340]\n",
      " [ 388  509]]\n",
      "Calculation time: 1 sec\n"
     ]
    },
    {
     "data": {
      "text/html": [
       "<div>\n",
       "<style scoped>\n",
       "    .dataframe tbody tr th:only-of-type {\n",
       "        vertical-align: middle;\n",
       "    }\n",
       "\n",
       "    .dataframe tbody tr th {\n",
       "        vertical-align: top;\n",
       "    }\n",
       "\n",
       "    .dataframe thead th {\n",
       "        text-align: right;\n",
       "    }\n",
       "</style>\n",
       "<table border=\"1\" class=\"dataframe\">\n",
       "  <thead>\n",
       "    <tr style=\"text-align: right;\">\n",
       "      <th></th>\n",
       "      <th>model</th>\n",
       "      <th>accuracy_train</th>\n",
       "      <th>recall_train</th>\n",
       "      <th>precision_train</th>\n",
       "      <th>accuracy_test</th>\n",
       "      <th>recall_test</th>\n",
       "      <th>precision_test</th>\n",
       "      <th>f1_train</th>\n",
       "      <th>f1_test</th>\n",
       "    </tr>\n",
       "  </thead>\n",
       "  <tbody>\n",
       "    <tr>\n",
       "      <th>0</th>\n",
       "      <td>logreg</td>\n",
       "      <td>0.657</td>\n",
       "      <td>0.4055</td>\n",
       "      <td>0.5948</td>\n",
       "      <td>0.655</td>\n",
       "      <td>0.3969</td>\n",
       "      <td>0.5789</td>\n",
       "      <td>0.4822</td>\n",
       "      <td>0.4709</td>\n",
       "    </tr>\n",
       "    <tr>\n",
       "      <th>1</th>\n",
       "      <td>knnc</td>\n",
       "      <td>0.7516</td>\n",
       "      <td>0.6088</td>\n",
       "      <td>0.7177</td>\n",
       "      <td>0.6399</td>\n",
       "      <td>0.4638</td>\n",
       "      <td>0.5403</td>\n",
       "      <td>0.6588</td>\n",
       "      <td>0.4991</td>\n",
       "    </tr>\n",
       "    <tr>\n",
       "      <th>2</th>\n",
       "      <td>dtc</td>\n",
       "      <td>1.0</td>\n",
       "      <td>1.0</td>\n",
       "      <td>1.0</td>\n",
       "      <td>0.5908</td>\n",
       "      <td>0.476</td>\n",
       "      <td>0.4713</td>\n",
       "      <td>1.0000</td>\n",
       "      <td>0.4736</td>\n",
       "    </tr>\n",
       "    <tr>\n",
       "      <th>3</th>\n",
       "      <td>rfc</td>\n",
       "      <td>1.0</td>\n",
       "      <td>1.0</td>\n",
       "      <td>1.0</td>\n",
       "      <td>0.6619</td>\n",
       "      <td>0.4783</td>\n",
       "      <td>0.5758</td>\n",
       "      <td>1.0000</td>\n",
       "      <td>0.5225</td>\n",
       "    </tr>\n",
       "    <tr>\n",
       "      <th>4</th>\n",
       "      <td>baggingc</td>\n",
       "      <td>0.975</td>\n",
       "      <td>0.9478</td>\n",
       "      <td>0.9882</td>\n",
       "      <td>0.6477</td>\n",
       "      <td>0.4292</td>\n",
       "      <td>0.558</td>\n",
       "      <td>0.9676</td>\n",
       "      <td>0.4852</td>\n",
       "    </tr>\n",
       "    <tr>\n",
       "      <th>5</th>\n",
       "      <td>adac</td>\n",
       "      <td>0.6928</td>\n",
       "      <td>0.515</td>\n",
       "      <td>0.6359</td>\n",
       "      <td>0.6856</td>\n",
       "      <td>0.5072</td>\n",
       "      <td>0.6132</td>\n",
       "      <td>0.5691</td>\n",
       "      <td>0.5552</td>\n",
       "    </tr>\n",
       "    <tr>\n",
       "      <th>6</th>\n",
       "      <td>dtc_tuning</td>\n",
       "      <td>0.6994</td>\n",
       "      <td>0.5781</td>\n",
       "      <td>0.6288</td>\n",
       "      <td>0.6861</td>\n",
       "      <td>0.5674</td>\n",
       "      <td>0.5995</td>\n",
       "      <td>0.6024</td>\n",
       "      <td>0.5830</td>\n",
       "    </tr>\n",
       "  </tbody>\n",
       "</table>\n",
       "</div>"
      ],
      "text/plain": [
       "        model accuracy_train recall_train precision_train accuracy_test  \\\n",
       "0      logreg          0.657       0.4055          0.5948         0.655   \n",
       "1        knnc         0.7516       0.6088          0.7177        0.6399   \n",
       "2         dtc            1.0          1.0             1.0        0.5908   \n",
       "3         rfc            1.0          1.0             1.0        0.6619   \n",
       "4    baggingc          0.975       0.9478          0.9882        0.6477   \n",
       "5        adac         0.6928        0.515          0.6359        0.6856   \n",
       "6  dtc_tuning         0.6994       0.5781          0.6288        0.6861   \n",
       "\n",
       "  recall_test precision_test  f1_train  f1_test  \n",
       "0      0.3969         0.5789    0.4822   0.4709  \n",
       "1      0.4638         0.5403    0.6588   0.4991  \n",
       "2       0.476         0.4713    1.0000   0.4736  \n",
       "3      0.4783         0.5758    1.0000   0.5225  \n",
       "4      0.4292          0.558    0.9676   0.4852  \n",
       "5      0.5072         0.6132    0.5691   0.5552  \n",
       "6      0.5674         0.5995    0.6024   0.5830  "
      ]
     },
     "execution_count": 61,
     "metadata": {},
     "output_type": "execute_result"
    }
   ],
   "source": [
    "t0 = time.time()\n",
    "\n",
    "# Model: Tuning Random forest classifier\n",
    "# Set hyperparameter for random forest classifier\n",
    "dtc_params = {\n",
    "    'max_depth': [n for n in range(3,9)],\n",
    "    'min_samples_leaf':[1,3,5]\n",
    "}\n",
    "\n",
    "# Instantitate gridsearchCV\n",
    "grid_dtc = GridSearchCV(DecisionTreeClassifier(), dtc_params, cv=3)\n",
    "\n",
    "# Fit or train the model\n",
    "grid_dtc.fit(X_train,y_train)\n",
    "\n",
    "# Evaluation\n",
    "y_pred_train = grid_dtc.predict(X_train)\n",
    "y_pred_test = grid_dtc.predict(X_test)\n",
    "\n",
    "# Print best score and parameter from gridsearchCV\n",
    "print(f'Best score: {grid_dtc.best_score_}')\n",
    "print(f'Best hyperparameter: {grid_dtc.best_params_}')\n",
    "\n",
    "# Assign result of the model to score dataframe\n",
    "score_class_df = assign_to_df_classifier('dtc_tuning',score_class_df,y_train, y_pred_train, y_test, y_pred_test)\n",
    "\n",
    "# Calculate f1 score in DataFrame\n",
    "score_class_df = f1_dataframe(score_class_df)\n",
    "print(f'Calculation time: {round(time.time() - t0)} sec')\n",
    "score_class_df"
   ]
  },
  {
   "cell_type": "code",
   "execution_count": 62,
   "metadata": {
    "jupyter": {
     "outputs_hidden": true
    }
   },
   "outputs": [
    {
     "name": "stdout",
     "output_type": "stream",
     "text": [
      "Best score: 0.6874637161620073\n",
      "Best hyperparameter: {'max_depth': 8, 'n_estimators': 150}\n",
      "[[1165  257]\n",
      " [ 455  442]]\n",
      "Calculation time: 16 sec\n"
     ]
    },
    {
     "data": {
      "text/html": [
       "<div>\n",
       "<style scoped>\n",
       "    .dataframe tbody tr th:only-of-type {\n",
       "        vertical-align: middle;\n",
       "    }\n",
       "\n",
       "    .dataframe tbody tr th {\n",
       "        vertical-align: top;\n",
       "    }\n",
       "\n",
       "    .dataframe thead th {\n",
       "        text-align: right;\n",
       "    }\n",
       "</style>\n",
       "<table border=\"1\" class=\"dataframe\">\n",
       "  <thead>\n",
       "    <tr style=\"text-align: right;\">\n",
       "      <th></th>\n",
       "      <th>model</th>\n",
       "      <th>accuracy_train</th>\n",
       "      <th>recall_train</th>\n",
       "      <th>precision_train</th>\n",
       "      <th>accuracy_test</th>\n",
       "      <th>recall_test</th>\n",
       "      <th>precision_test</th>\n",
       "      <th>f1_train</th>\n",
       "      <th>f1_test</th>\n",
       "    </tr>\n",
       "  </thead>\n",
       "  <tbody>\n",
       "    <tr>\n",
       "      <th>0</th>\n",
       "      <td>logreg</td>\n",
       "      <td>0.657</td>\n",
       "      <td>0.4055</td>\n",
       "      <td>0.5948</td>\n",
       "      <td>0.655</td>\n",
       "      <td>0.3969</td>\n",
       "      <td>0.5789</td>\n",
       "      <td>0.4822</td>\n",
       "      <td>0.4709</td>\n",
       "    </tr>\n",
       "    <tr>\n",
       "      <th>1</th>\n",
       "      <td>knnc</td>\n",
       "      <td>0.7516</td>\n",
       "      <td>0.6088</td>\n",
       "      <td>0.7177</td>\n",
       "      <td>0.6399</td>\n",
       "      <td>0.4638</td>\n",
       "      <td>0.5403</td>\n",
       "      <td>0.6588</td>\n",
       "      <td>0.4991</td>\n",
       "    </tr>\n",
       "    <tr>\n",
       "      <th>2</th>\n",
       "      <td>dtc</td>\n",
       "      <td>1.0</td>\n",
       "      <td>1.0</td>\n",
       "      <td>1.0</td>\n",
       "      <td>0.5908</td>\n",
       "      <td>0.476</td>\n",
       "      <td>0.4713</td>\n",
       "      <td>1.0000</td>\n",
       "      <td>0.4736</td>\n",
       "    </tr>\n",
       "    <tr>\n",
       "      <th>3</th>\n",
       "      <td>rfc</td>\n",
       "      <td>1.0</td>\n",
       "      <td>1.0</td>\n",
       "      <td>1.0</td>\n",
       "      <td>0.6619</td>\n",
       "      <td>0.4783</td>\n",
       "      <td>0.5758</td>\n",
       "      <td>1.0000</td>\n",
       "      <td>0.5225</td>\n",
       "    </tr>\n",
       "    <tr>\n",
       "      <th>4</th>\n",
       "      <td>baggingc</td>\n",
       "      <td>0.975</td>\n",
       "      <td>0.9478</td>\n",
       "      <td>0.9882</td>\n",
       "      <td>0.6477</td>\n",
       "      <td>0.4292</td>\n",
       "      <td>0.558</td>\n",
       "      <td>0.9676</td>\n",
       "      <td>0.4852</td>\n",
       "    </tr>\n",
       "    <tr>\n",
       "      <th>5</th>\n",
       "      <td>adac</td>\n",
       "      <td>0.6928</td>\n",
       "      <td>0.515</td>\n",
       "      <td>0.6359</td>\n",
       "      <td>0.6856</td>\n",
       "      <td>0.5072</td>\n",
       "      <td>0.6132</td>\n",
       "      <td>0.5691</td>\n",
       "      <td>0.5552</td>\n",
       "    </tr>\n",
       "    <tr>\n",
       "      <th>6</th>\n",
       "      <td>dtc_tuning</td>\n",
       "      <td>0.6994</td>\n",
       "      <td>0.5781</td>\n",
       "      <td>0.6288</td>\n",
       "      <td>0.6861</td>\n",
       "      <td>0.5674</td>\n",
       "      <td>0.5995</td>\n",
       "      <td>0.6024</td>\n",
       "      <td>0.5830</td>\n",
       "    </tr>\n",
       "    <tr>\n",
       "      <th>7</th>\n",
       "      <td>rfc_tuning</td>\n",
       "      <td>0.7468</td>\n",
       "      <td>0.5723</td>\n",
       "      <td>0.7269</td>\n",
       "      <td>0.693</td>\n",
       "      <td>0.4928</td>\n",
       "      <td>0.6323</td>\n",
       "      <td>0.6404</td>\n",
       "      <td>0.5539</td>\n",
       "    </tr>\n",
       "  </tbody>\n",
       "</table>\n",
       "</div>"
      ],
      "text/plain": [
       "        model accuracy_train recall_train precision_train accuracy_test  \\\n",
       "0      logreg          0.657       0.4055          0.5948         0.655   \n",
       "1        knnc         0.7516       0.6088          0.7177        0.6399   \n",
       "2         dtc            1.0          1.0             1.0        0.5908   \n",
       "3         rfc            1.0          1.0             1.0        0.6619   \n",
       "4    baggingc          0.975       0.9478          0.9882        0.6477   \n",
       "5        adac         0.6928        0.515          0.6359        0.6856   \n",
       "6  dtc_tuning         0.6994       0.5781          0.6288        0.6861   \n",
       "7  rfc_tuning         0.7468       0.5723          0.7269         0.693   \n",
       "\n",
       "  recall_test precision_test  f1_train  f1_test  \n",
       "0      0.3969         0.5789    0.4822   0.4709  \n",
       "1      0.4638         0.5403    0.6588   0.4991  \n",
       "2       0.476         0.4713    1.0000   0.4736  \n",
       "3      0.4783         0.5758    1.0000   0.5225  \n",
       "4      0.4292          0.558    0.9676   0.4852  \n",
       "5      0.5072         0.6132    0.5691   0.5552  \n",
       "6      0.5674         0.5995    0.6024   0.5830  \n",
       "7      0.4928         0.6323    0.6404   0.5539  "
      ]
     },
     "execution_count": 62,
     "metadata": {},
     "output_type": "execute_result"
    }
   ],
   "source": [
    "t0 = time.time()\n",
    "\n",
    "# Model: Tuning Random forest classifier\n",
    "# Set hyperparameter for random forest classifier\n",
    "rfc_params = {\n",
    "    'max_depth': [n for n in range(5,9)],\n",
    "    'n_estimators': [100,150,200],\n",
    "}\n",
    "\n",
    "# Instantitate gridsearchCV\n",
    "grid_rfc = GridSearchCV(RandomForestClassifier(random_state=42), rfc_params, cv=3)\n",
    "\n",
    "# Fit or train the model\n",
    "grid_rfc.fit(X_train,y_train)\n",
    "\n",
    "# Evaluation\n",
    "y_pred_train = grid_rfc.predict(X_train)\n",
    "y_pred_test = grid_rfc.predict(X_test)\n",
    "\n",
    "# Print best score and parameter from gridsearchCV\n",
    "print(f'Best score: {grid_rfc.best_score_}')\n",
    "print(f'Best hyperparameter: {grid_rfc.best_params_}')\n",
    "\n",
    "# Assign result of the model to score dataframe\n",
    "score_class_df = assign_to_df_classifier('rfc_tuning',score_class_df,y_train, y_pred_train, y_test, y_pred_test)\n",
    "\n",
    "# Calculate f1 score in DataFrame\n",
    "score_class_df = f1_dataframe(score_class_df)\n",
    "print(f'Calculation time: {round(time.time() - t0)} sec')\n",
    "score_class_df"
   ]
  },
  {
   "cell_type": "code",
   "execution_count": 63,
   "metadata": {},
   "outputs": [
    {
     "name": "stdout",
     "output_type": "stream",
     "text": [
      "Best score: 0.6872\n",
      "Best hyperparameter: {'base_estimator__max_depth': 4, 'learning_rate': 0.1}\n",
      "[[1160  262]\n",
      " [ 456  441]]\n",
      "Calculation time: 111 sec\n"
     ]
    },
    {
     "data": {
      "text/html": [
       "<div>\n",
       "<style scoped>\n",
       "    .dataframe tbody tr th:only-of-type {\n",
       "        vertical-align: middle;\n",
       "    }\n",
       "\n",
       "    .dataframe tbody tr th {\n",
       "        vertical-align: top;\n",
       "    }\n",
       "\n",
       "    .dataframe thead th {\n",
       "        text-align: right;\n",
       "    }\n",
       "</style>\n",
       "<table border=\"1\" class=\"dataframe\">\n",
       "  <thead>\n",
       "    <tr style=\"text-align: right;\">\n",
       "      <th></th>\n",
       "      <th>model</th>\n",
       "      <th>accuracy_train</th>\n",
       "      <th>recall_train</th>\n",
       "      <th>precision_train</th>\n",
       "      <th>accuracy_test</th>\n",
       "      <th>recall_test</th>\n",
       "      <th>precision_test</th>\n",
       "      <th>f1_train</th>\n",
       "      <th>f1_test</th>\n",
       "    </tr>\n",
       "  </thead>\n",
       "  <tbody>\n",
       "    <tr>\n",
       "      <th>0</th>\n",
       "      <td>logreg</td>\n",
       "      <td>0.657</td>\n",
       "      <td>0.4055</td>\n",
       "      <td>0.5948</td>\n",
       "      <td>0.655</td>\n",
       "      <td>0.3969</td>\n",
       "      <td>0.5789</td>\n",
       "      <td>0.4822</td>\n",
       "      <td>0.4709</td>\n",
       "    </tr>\n",
       "    <tr>\n",
       "      <th>1</th>\n",
       "      <td>knnc</td>\n",
       "      <td>0.7516</td>\n",
       "      <td>0.6088</td>\n",
       "      <td>0.7177</td>\n",
       "      <td>0.6399</td>\n",
       "      <td>0.4638</td>\n",
       "      <td>0.5403</td>\n",
       "      <td>0.6588</td>\n",
       "      <td>0.4991</td>\n",
       "    </tr>\n",
       "    <tr>\n",
       "      <th>2</th>\n",
       "      <td>dtc</td>\n",
       "      <td>1.0</td>\n",
       "      <td>1.0</td>\n",
       "      <td>1.0</td>\n",
       "      <td>0.5908</td>\n",
       "      <td>0.476</td>\n",
       "      <td>0.4713</td>\n",
       "      <td>1.0000</td>\n",
       "      <td>0.4736</td>\n",
       "    </tr>\n",
       "    <tr>\n",
       "      <th>3</th>\n",
       "      <td>rfc</td>\n",
       "      <td>1.0</td>\n",
       "      <td>1.0</td>\n",
       "      <td>1.0</td>\n",
       "      <td>0.6619</td>\n",
       "      <td>0.4783</td>\n",
       "      <td>0.5758</td>\n",
       "      <td>1.0000</td>\n",
       "      <td>0.5225</td>\n",
       "    </tr>\n",
       "    <tr>\n",
       "      <th>4</th>\n",
       "      <td>baggingc</td>\n",
       "      <td>0.975</td>\n",
       "      <td>0.9478</td>\n",
       "      <td>0.9882</td>\n",
       "      <td>0.6477</td>\n",
       "      <td>0.4292</td>\n",
       "      <td>0.558</td>\n",
       "      <td>0.9676</td>\n",
       "      <td>0.4852</td>\n",
       "    </tr>\n",
       "    <tr>\n",
       "      <th>5</th>\n",
       "      <td>adac</td>\n",
       "      <td>0.6928</td>\n",
       "      <td>0.515</td>\n",
       "      <td>0.6359</td>\n",
       "      <td>0.6856</td>\n",
       "      <td>0.5072</td>\n",
       "      <td>0.6132</td>\n",
       "      <td>0.5691</td>\n",
       "      <td>0.5552</td>\n",
       "    </tr>\n",
       "    <tr>\n",
       "      <th>6</th>\n",
       "      <td>dtc_tuning</td>\n",
       "      <td>0.6994</td>\n",
       "      <td>0.5781</td>\n",
       "      <td>0.6288</td>\n",
       "      <td>0.6861</td>\n",
       "      <td>0.5674</td>\n",
       "      <td>0.5995</td>\n",
       "      <td>0.6024</td>\n",
       "      <td>0.5830</td>\n",
       "    </tr>\n",
       "    <tr>\n",
       "      <th>7</th>\n",
       "      <td>rfc_tuning</td>\n",
       "      <td>0.7468</td>\n",
       "      <td>0.5723</td>\n",
       "      <td>0.7269</td>\n",
       "      <td>0.693</td>\n",
       "      <td>0.4928</td>\n",
       "      <td>0.6323</td>\n",
       "      <td>0.6404</td>\n",
       "      <td>0.5539</td>\n",
       "    </tr>\n",
       "    <tr>\n",
       "      <th>8</th>\n",
       "      <td>adac_tuning</td>\n",
       "      <td>0.7069</td>\n",
       "      <td>0.5117</td>\n",
       "      <td>0.6667</td>\n",
       "      <td>0.6904</td>\n",
       "      <td>0.4916</td>\n",
       "      <td>0.6273</td>\n",
       "      <td>0.5790</td>\n",
       "      <td>0.5512</td>\n",
       "    </tr>\n",
       "  </tbody>\n",
       "</table>\n",
       "</div>"
      ],
      "text/plain": [
       "         model accuracy_train recall_train precision_train accuracy_test  \\\n",
       "0       logreg          0.657       0.4055          0.5948         0.655   \n",
       "1         knnc         0.7516       0.6088          0.7177        0.6399   \n",
       "2          dtc            1.0          1.0             1.0        0.5908   \n",
       "3          rfc            1.0          1.0             1.0        0.6619   \n",
       "4     baggingc          0.975       0.9478          0.9882        0.6477   \n",
       "5         adac         0.6928        0.515          0.6359        0.6856   \n",
       "6   dtc_tuning         0.6994       0.5781          0.6288        0.6861   \n",
       "7   rfc_tuning         0.7468       0.5723          0.7269         0.693   \n",
       "8  adac_tuning         0.7069       0.5117          0.6667        0.6904   \n",
       "\n",
       "  recall_test precision_test  f1_train  f1_test  \n",
       "0      0.3969         0.5789    0.4822   0.4709  \n",
       "1      0.4638         0.5403    0.6588   0.4991  \n",
       "2       0.476         0.4713    1.0000   0.4736  \n",
       "3      0.4783         0.5758    1.0000   0.5225  \n",
       "4      0.4292          0.558    0.9676   0.4852  \n",
       "5      0.5072         0.6132    0.5691   0.5552  \n",
       "6      0.5674         0.5995    0.6024   0.5830  \n",
       "7      0.4928         0.6323    0.6404   0.5539  \n",
       "8      0.4916         0.6273    0.5790   0.5512  "
      ]
     },
     "execution_count": 63,
     "metadata": {},
     "output_type": "execute_result"
    }
   ],
   "source": [
    "t0 = time.time()\n",
    "# Model: Tuning Adaboost classifier\n",
    "ada = AdaBoostClassifier(base_estimator=RandomForestClassifier(random_state=42),\n",
    "                         random_state=42)\n",
    "ada_params = {\n",
    "    'base_estimator__max_depth':[2,3,4],\n",
    "    'learning_rate': [0.1]\n",
    "}\n",
    "# Instantiate gridsearchCV\n",
    "grid_ada = GridSearchCV(ada, ada_params,cv=3)\n",
    "\n",
    "# Fit or train \n",
    "grid_ada.fit(X_train,y_train)\n",
    "\n",
    "# Evaluation\n",
    "y_pred_train = grid_ada.predict(X_train)\n",
    "y_pred_test = grid_ada.predict(X_test)\n",
    "\n",
    "# Print best score and parameter from gridsearchCV\n",
    "print(f'Best score: {round(grid_ada.best_score_,4)}')\n",
    "print(f'Best hyperparameter: {grid_ada.best_params_}')\n",
    "\n",
    "# Assign result of the model to score dataframe\n",
    "score_class_df = assign_to_df_classifier('adac_tuning',score_class_df,y_train, y_pred_train, y_test, y_pred_test)\n",
    "\n",
    "# Calculate f1 score in DataFrame\n",
    "score_class_df = f1_dataframe(score_class_df)\n",
    "print(f'Calculation time: {round(time.time() - t0)} sec')\n",
    "score_class_df"
   ]
  },
  {
   "cell_type": "markdown",
   "metadata": {},
   "source": [
    "## Step 6: Answer the problem.\n",
    "\n",
    "##### BONUS: Briefly summarize your answers to the regression and classification problems. Be sure to include any limitations or hesitations in your answer.\n",
    "\n",
    "- Regression: What features best predict one's income?\n",
    "- Classification: Predict whether or not one is eligible for a 401k."
   ]
  },
  {
   "cell_type": "code",
   "execution_count": 64,
   "metadata": {
    "jupyter": {
     "outputs_hidden": true
    },
    "scrolled": true
   },
   "outputs": [
    {
     "name": "stdout",
     "output_type": "stream",
     "text": [
      "|--- nettfa <= 20.82\n",
      "|   |--- marr <= 0.50\n",
      "|   |   |--- nettfa <= 2.34\n",
      "|   |   |   |--- nettfa <= -3.42\n",
      "|   |   |   |   |--- value: [28.32]\n",
      "|   |   |   |--- nettfa >  -3.42\n",
      "|   |   |   |   |--- value: [21.69]\n",
      "|   |   |--- nettfa >  2.34\n",
      "|   |   |   |--- age <= 53.50\n",
      "|   |   |   |   |--- value: [31.46]\n",
      "|   |   |   |--- age >  53.50\n",
      "|   |   |   |   |--- value: [23.48]\n",
      "|   |--- marr >  0.50\n",
      "|   |   |--- nettfa <= 3.49\n",
      "|   |   |   |--- nettfa <= -3.67\n",
      "|   |   |   |   |--- value: [41.32]\n",
      "|   |   |   |--- nettfa >  -3.67\n",
      "|   |   |   |   |--- value: [33.14]\n",
      "|   |   |--- nettfa >  3.49\n",
      "|   |   |   |--- agesq <= 2970.50\n",
      "|   |   |   |   |--- value: [48.18]\n",
      "|   |   |   |--- agesq >  2970.50\n",
      "|   |   |   |   |--- value: [40.81]\n",
      "|--- nettfa >  20.82\n",
      "|   |--- marr <= 0.50\n",
      "|   |   |--- nettfa <= 62.01\n",
      "|   |   |   |--- agesq <= 2070.50\n",
      "|   |   |   |   |--- value: [42.58]\n",
      "|   |   |   |--- agesq >  2070.50\n",
      "|   |   |   |   |--- value: [33.60]\n",
      "|   |   |--- nettfa >  62.01\n",
      "|   |   |   |--- agesq <= 2162.50\n",
      "|   |   |   |   |--- value: [59.16]\n",
      "|   |   |   |--- agesq >  2162.50\n",
      "|   |   |   |   |--- value: [44.92]\n",
      "|   |--- marr >  0.50\n",
      "|   |   |--- nettfa <= 73.65\n",
      "|   |   |   |--- agesq <= 2970.50\n",
      "|   |   |   |   |--- value: [60.07]\n",
      "|   |   |   |--- agesq >  2970.50\n",
      "|   |   |   |   |--- value: [48.63]\n",
      "|   |   |--- nettfa >  73.65\n",
      "|   |   |   |--- nettfa <= 311.80\n",
      "|   |   |   |   |--- value: [73.90]\n",
      "|   |   |   |--- nettfa >  311.80\n",
      "|   |   |   |   |--- value: [119.12]\n",
      "\n"
     ]
    }
   ],
   "source": [
    "# Regression: What features best predict one's income?\n",
    "regressor_feature = df[['marr','age', 'fsize','nettfa','agesq']].columns\n",
    "print(export_text(grid_dtr.best_estimator_, feature_names=list(regressor_feature)))\n",
    "\n",
    "# The answer is loot node of tuning decision tree regressor which is nettfa feature.\n",
    "# The limitation: This regressor model has low r2 score, this result may be not accuracy."
   ]
  },
  {
   "cell_type": "code",
   "execution_count": 65,
   "metadata": {},
   "outputs": [
    {
     "data": {
      "text/html": [
       "<div>\n",
       "<style scoped>\n",
       "    .dataframe tbody tr th:only-of-type {\n",
       "        vertical-align: middle;\n",
       "    }\n",
       "\n",
       "    .dataframe tbody tr th {\n",
       "        vertical-align: top;\n",
       "    }\n",
       "\n",
       "    .dataframe thead th {\n",
       "        text-align: right;\n",
       "    }\n",
       "</style>\n",
       "<table border=\"1\" class=\"dataframe\">\n",
       "  <thead>\n",
       "    <tr style=\"text-align: right;\">\n",
       "      <th></th>\n",
       "      <th>model</th>\n",
       "      <th>accuracy_train</th>\n",
       "      <th>recall_train</th>\n",
       "      <th>precision_train</th>\n",
       "      <th>accuracy_test</th>\n",
       "      <th>recall_test</th>\n",
       "      <th>precision_test</th>\n",
       "      <th>f1_train</th>\n",
       "      <th>f1_test</th>\n",
       "    </tr>\n",
       "  </thead>\n",
       "  <tbody>\n",
       "    <tr>\n",
       "      <th>7</th>\n",
       "      <td>rfc_tuning</td>\n",
       "      <td>0.7468</td>\n",
       "      <td>0.5723</td>\n",
       "      <td>0.7269</td>\n",
       "      <td>0.693</td>\n",
       "      <td>0.4928</td>\n",
       "      <td>0.6323</td>\n",
       "      <td>0.6404</td>\n",
       "      <td>0.5539</td>\n",
       "    </tr>\n",
       "  </tbody>\n",
       "</table>\n",
       "</div>"
      ],
      "text/plain": [
       "        model accuracy_train recall_train precision_train accuracy_test  \\\n",
       "7  rfc_tuning         0.7468       0.5723          0.7269         0.693   \n",
       "\n",
       "  recall_test precision_test  f1_train  f1_test  \n",
       "7      0.4928         0.6323    0.6404   0.5539  "
      ]
     },
     "execution_count": 65,
     "metadata": {},
     "output_type": "execute_result"
    }
   ],
   "source": [
    "# Classification: Predict whether or not one is eligible for a 401k.\n",
    "score_class_df[score_class_df['model'] == 'rfc_tuning']\n",
    "# The best model for classification eligible for 401k is random forest with tuning hyperparameter.\n",
    "# The random forest model provide accuracy similar to adaboosting with less calculation times."
   ]
  }
 ],
 "metadata": {
  "kernelspec": {
   "display_name": "Python 3 (ipykernel)",
   "language": "python",
   "name": "python3"
  },
  "language_info": {
   "codemirror_mode": {
    "name": "ipython",
    "version": 3
   },
   "file_extension": ".py",
   "mimetype": "text/x-python",
   "name": "python",
   "nbconvert_exporter": "python",
   "pygments_lexer": "ipython3",
   "version": "3.9.12"
  }
 },
 "nbformat": 4,
 "nbformat_minor": 4
}
