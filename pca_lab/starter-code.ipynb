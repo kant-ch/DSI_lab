{
 "cells": [
  {
   "cell_type": "markdown",
   "metadata": {},
   "source": [
    "<img src=\"http://imgur.com/1ZcRyrc.png\" style=\"float: left; margin: 20px; height: 55px\">\n",
    "\n",
    "# PCA Lab: Speed Dating\n",
    "\n",
    "_Authors: Kiefer Katovich (SF)_\n",
    "\n",
    "---"
   ]
  },
  {
   "cell_type": "markdown",
   "metadata": {},
   "source": [
    "Let's practice principal component analysis (PCA) using a data set from Kaggle. PCA is often used to simplify data, reduce noise, and find unmeasured latent variables, so it's important to take the time to understand what's going on.\n",
    "\n",
    "**In this lab, we will:**\n",
    "\n",
    "- Explore how PCA relates to correlation.\n",
    "- Use PCA to perform dimensionality reduction.\n",
    "- Predict whether or not a speed dater likes reading based on the dater's other likes.\n",
    "\n",
    "---"
   ]
  },
  {
   "cell_type": "markdown",
   "metadata": {},
   "source": [
    "### Data Set\n",
    "\n",
    "The data set we're using for this lab is a subset of this [much more detailed speed dating data set](https://www.kaggle.com/annavictoria/speed-dating-experiment). In particular, this contains no information on the actual speed dating itself (i.e., successes with or opinions of other individuals). \n",
    "\n",
    "It also contains no follow-up information where individuals are asked the same questions about themselves again. It only contains information about what an individual enjoys doing, their self-ratings on how desirable they are, and how they think others rate them based on desirability.\n",
    "\n",
    "The columns present in the data are outlined below:\n",
    "\n",
    "FieldName|Description\n",
    "---------|-----------\n",
    "    subject_id                   |   Unique individual identifier.\n",
    "    wave                         |   Meetup ID.\n",
    "    like_sports                  |   Enjoyment of participating in sports.\n",
    "    like_tvsports                |   Enjoyment of watching sports on TV.\n",
    "    like_exercise                |   Enjoyment of exercise.\n",
    "    like_food                    |   Enjoyment of food.\n",
    "    like_museums                 |   Enjoyment of museums.\n",
    "    like_art                     |   Enjoyment of art.\n",
    "    like_hiking                  |   Enjoyment of hiking.\n",
    "    like_gaming                  |   Enjoyment of playing games.\n",
    "    like_clubbing                |   Enjoyment of going clubbing/partying.\n",
    "    like_reading                 |   Enjoyment of reading.\n",
    "    like_tv                      |   Enjoyment of TV in general.\n",
    "    like_theater                 |   Enjoyment of the theater (plays, musicals, etc.).\n",
    "    like_movies                  |   Enjoyment of movies.\n",
    "    like_concerts                |   Enjoyment of concerts.\n",
    "    like_music                   |   Enjoyment of music.\n",
    "    like_shopping                |   Enjoyment of shopping.\n",
    "    like_yoga                    |   Enjoyment of yoga.\n",
    "    subjective_attractiveness    |   How attractive they rate themselves.\n",
    "    subjective_sincerity         |   How sincere they rate themselves.\n",
    "    subjective_intelligence      |   How intelligent they rate themselves.\n",
    "    subjective_fun               |   How fun they rate themselves.\n",
    "    subjective_ambition          |   How ambitious they rate themselves.\n",
    "    objective_attractiveness     |   Perceived rating others would give them on how attractive they are.\n",
    "    objective_sincerity          |   Perceived rating others would give them on how sincere they are.\n",
    "    objective_intelligence       |   Perceived rating others would give them on how intelligent they are.\n",
    "    objective_fun                |   Perceived rating others would give them on how fun they are.\n",
    "    objective_ambition           |   Perceived rating others would give them on how ambitious they are.\n",
    "    \n",
    "There are 551 subjects total.\n",
    "\n",
    "---\n",
    "\n",
    "### 1) Load packages."
   ]
  },
  {
   "cell_type": "code",
   "execution_count": 1,
   "metadata": {},
   "outputs": [],
   "source": [
    "import pandas as pd\n",
    "import numpy as np\n",
    "import matplotlib.pyplot as plt\n",
    "import seaborn as sns\n",
    "\n",
    "\n",
    "from sklearn.linear_model import LinearRegression\n",
    "from sklearn.preprocessing import StandardScaler\n",
    "from sklearn.model_selection import cross_val_score\n",
    "from sklearn.decomposition import PCA\n",
    "\n",
    "sns.set_style(\"whitegrid\")"
   ]
  },
  {
   "cell_type": "markdown",
   "metadata": {},
   "source": [
    "---\n",
    "\n",
    "### 2) Load and clean the speed dating data.\n",
    "\n",
    "- First, remove columns with more than 200 missing values.\n",
    "- Then, remove rows with missing values.\n",
    "- Verify that no rows contain NaNs."
   ]
  },
  {
   "cell_type": "code",
   "execution_count": 2,
   "metadata": {},
   "outputs": [
    {
     "data": {
      "text/html": [
       "<div>\n",
       "<style scoped>\n",
       "    .dataframe tbody tr th:only-of-type {\n",
       "        vertical-align: middle;\n",
       "    }\n",
       "\n",
       "    .dataframe tbody tr th {\n",
       "        vertical-align: top;\n",
       "    }\n",
       "\n",
       "    .dataframe thead th {\n",
       "        text-align: right;\n",
       "    }\n",
       "</style>\n",
       "<table border=\"1\" class=\"dataframe\">\n",
       "  <thead>\n",
       "    <tr style=\"text-align: right;\">\n",
       "      <th></th>\n",
       "      <th>subject_id</th>\n",
       "      <th>wave</th>\n",
       "      <th>like_sports</th>\n",
       "      <th>like_tvsports</th>\n",
       "      <th>like_exercise</th>\n",
       "      <th>like_food</th>\n",
       "      <th>like_museums</th>\n",
       "      <th>like_art</th>\n",
       "      <th>like_hiking</th>\n",
       "      <th>like_gaming</th>\n",
       "      <th>...</th>\n",
       "      <th>subjective_attractiveness</th>\n",
       "      <th>subjective_sincerity</th>\n",
       "      <th>subjective_intelligence</th>\n",
       "      <th>subjective_fun</th>\n",
       "      <th>subjective_ambition</th>\n",
       "      <th>objective_attractiveness</th>\n",
       "      <th>objective_sincerity</th>\n",
       "      <th>objective_intelligence</th>\n",
       "      <th>objective_fun</th>\n",
       "      <th>objective_ambition</th>\n",
       "    </tr>\n",
       "  </thead>\n",
       "  <tbody>\n",
       "    <tr>\n",
       "      <th>0</th>\n",
       "      <td>1</td>\n",
       "      <td>1</td>\n",
       "      <td>9.0</td>\n",
       "      <td>2.0</td>\n",
       "      <td>8.0</td>\n",
       "      <td>9.0</td>\n",
       "      <td>1.0</td>\n",
       "      <td>1.0</td>\n",
       "      <td>5.0</td>\n",
       "      <td>1.0</td>\n",
       "      <td>...</td>\n",
       "      <td>6.0</td>\n",
       "      <td>8.0</td>\n",
       "      <td>8.0</td>\n",
       "      <td>8.0</td>\n",
       "      <td>7.0</td>\n",
       "      <td>NaN</td>\n",
       "      <td>NaN</td>\n",
       "      <td>NaN</td>\n",
       "      <td>NaN</td>\n",
       "      <td>NaN</td>\n",
       "    </tr>\n",
       "    <tr>\n",
       "      <th>1</th>\n",
       "      <td>2</td>\n",
       "      <td>1</td>\n",
       "      <td>3.0</td>\n",
       "      <td>2.0</td>\n",
       "      <td>7.0</td>\n",
       "      <td>10.0</td>\n",
       "      <td>8.0</td>\n",
       "      <td>6.0</td>\n",
       "      <td>3.0</td>\n",
       "      <td>5.0</td>\n",
       "      <td>...</td>\n",
       "      <td>7.0</td>\n",
       "      <td>5.0</td>\n",
       "      <td>8.0</td>\n",
       "      <td>10.0</td>\n",
       "      <td>3.0</td>\n",
       "      <td>NaN</td>\n",
       "      <td>NaN</td>\n",
       "      <td>NaN</td>\n",
       "      <td>NaN</td>\n",
       "      <td>NaN</td>\n",
       "    </tr>\n",
       "    <tr>\n",
       "      <th>2</th>\n",
       "      <td>3</td>\n",
       "      <td>1</td>\n",
       "      <td>3.0</td>\n",
       "      <td>8.0</td>\n",
       "      <td>7.0</td>\n",
       "      <td>8.0</td>\n",
       "      <td>5.0</td>\n",
       "      <td>5.0</td>\n",
       "      <td>8.0</td>\n",
       "      <td>4.0</td>\n",
       "      <td>...</td>\n",
       "      <td>8.0</td>\n",
       "      <td>9.0</td>\n",
       "      <td>9.0</td>\n",
       "      <td>8.0</td>\n",
       "      <td>8.0</td>\n",
       "      <td>NaN</td>\n",
       "      <td>NaN</td>\n",
       "      <td>NaN</td>\n",
       "      <td>NaN</td>\n",
       "      <td>NaN</td>\n",
       "    </tr>\n",
       "    <tr>\n",
       "      <th>3</th>\n",
       "      <td>4</td>\n",
       "      <td>1</td>\n",
       "      <td>1.0</td>\n",
       "      <td>1.0</td>\n",
       "      <td>6.0</td>\n",
       "      <td>7.0</td>\n",
       "      <td>6.0</td>\n",
       "      <td>7.0</td>\n",
       "      <td>7.0</td>\n",
       "      <td>5.0</td>\n",
       "      <td>...</td>\n",
       "      <td>7.0</td>\n",
       "      <td>8.0</td>\n",
       "      <td>7.0</td>\n",
       "      <td>9.0</td>\n",
       "      <td>8.0</td>\n",
       "      <td>NaN</td>\n",
       "      <td>NaN</td>\n",
       "      <td>NaN</td>\n",
       "      <td>NaN</td>\n",
       "      <td>NaN</td>\n",
       "    </tr>\n",
       "    <tr>\n",
       "      <th>4</th>\n",
       "      <td>5</td>\n",
       "      <td>1</td>\n",
       "      <td>7.0</td>\n",
       "      <td>4.0</td>\n",
       "      <td>7.0</td>\n",
       "      <td>7.0</td>\n",
       "      <td>6.0</td>\n",
       "      <td>8.0</td>\n",
       "      <td>6.0</td>\n",
       "      <td>6.0</td>\n",
       "      <td>...</td>\n",
       "      <td>6.0</td>\n",
       "      <td>3.0</td>\n",
       "      <td>10.0</td>\n",
       "      <td>6.0</td>\n",
       "      <td>8.0</td>\n",
       "      <td>NaN</td>\n",
       "      <td>NaN</td>\n",
       "      <td>NaN</td>\n",
       "      <td>NaN</td>\n",
       "      <td>NaN</td>\n",
       "    </tr>\n",
       "  </tbody>\n",
       "</table>\n",
       "<p>5 rows × 29 columns</p>\n",
       "</div>"
      ],
      "text/plain": [
       "   subject_id  wave  like_sports  like_tvsports  like_exercise  like_food  \\\n",
       "0           1     1          9.0            2.0            8.0        9.0   \n",
       "1           2     1          3.0            2.0            7.0       10.0   \n",
       "2           3     1          3.0            8.0            7.0        8.0   \n",
       "3           4     1          1.0            1.0            6.0        7.0   \n",
       "4           5     1          7.0            4.0            7.0        7.0   \n",
       "\n",
       "   like_museums  like_art  like_hiking  like_gaming  ...  \\\n",
       "0           1.0       1.0          5.0          1.0  ...   \n",
       "1           8.0       6.0          3.0          5.0  ...   \n",
       "2           5.0       5.0          8.0          4.0  ...   \n",
       "3           6.0       7.0          7.0          5.0  ...   \n",
       "4           6.0       8.0          6.0          6.0  ...   \n",
       "\n",
       "   subjective_attractiveness  subjective_sincerity  subjective_intelligence  \\\n",
       "0                        6.0                   8.0                      8.0   \n",
       "1                        7.0                   5.0                      8.0   \n",
       "2                        8.0                   9.0                      9.0   \n",
       "3                        7.0                   8.0                      7.0   \n",
       "4                        6.0                   3.0                     10.0   \n",
       "\n",
       "   subjective_fun  subjective_ambition  objective_attractiveness  \\\n",
       "0             8.0                  7.0                       NaN   \n",
       "1            10.0                  3.0                       NaN   \n",
       "2             8.0                  8.0                       NaN   \n",
       "3             9.0                  8.0                       NaN   \n",
       "4             6.0                  8.0                       NaN   \n",
       "\n",
       "   objective_sincerity  objective_intelligence  objective_fun  \\\n",
       "0                  NaN                     NaN            NaN   \n",
       "1                  NaN                     NaN            NaN   \n",
       "2                  NaN                     NaN            NaN   \n",
       "3                  NaN                     NaN            NaN   \n",
       "4                  NaN                     NaN            NaN   \n",
       "\n",
       "   objective_ambition  \n",
       "0                 NaN  \n",
       "1                 NaN  \n",
       "2                 NaN  \n",
       "3                 NaN  \n",
       "4                 NaN  \n",
       "\n",
       "[5 rows x 29 columns]"
      ]
     },
     "execution_count": 2,
     "metadata": {},
     "output_type": "execute_result"
    }
   ],
   "source": [
    "sd = pd.read_csv('./datasets/speed_dating.csv')\n",
    "sd.head()"
   ]
  },
  {
   "cell_type": "code",
   "execution_count": 3,
   "metadata": {},
   "outputs": [
    {
     "data": {
      "text/html": [
       "<div>\n",
       "<style scoped>\n",
       "    .dataframe tbody tr th:only-of-type {\n",
       "        vertical-align: middle;\n",
       "    }\n",
       "\n",
       "    .dataframe tbody tr th {\n",
       "        vertical-align: top;\n",
       "    }\n",
       "\n",
       "    .dataframe thead th {\n",
       "        text-align: right;\n",
       "    }\n",
       "</style>\n",
       "<table border=\"1\" class=\"dataframe\">\n",
       "  <thead>\n",
       "    <tr style=\"text-align: right;\">\n",
       "      <th></th>\n",
       "      <th>subject_id</th>\n",
       "      <th>wave</th>\n",
       "      <th>like_sports</th>\n",
       "      <th>like_tvsports</th>\n",
       "      <th>like_exercise</th>\n",
       "      <th>like_food</th>\n",
       "      <th>like_museums</th>\n",
       "      <th>like_art</th>\n",
       "      <th>like_hiking</th>\n",
       "      <th>like_gaming</th>\n",
       "      <th>...</th>\n",
       "      <th>subjective_attractiveness</th>\n",
       "      <th>subjective_sincerity</th>\n",
       "      <th>subjective_intelligence</th>\n",
       "      <th>subjective_fun</th>\n",
       "      <th>subjective_ambition</th>\n",
       "      <th>objective_attractiveness</th>\n",
       "      <th>objective_sincerity</th>\n",
       "      <th>objective_intelligence</th>\n",
       "      <th>objective_fun</th>\n",
       "      <th>objective_ambition</th>\n",
       "    </tr>\n",
       "  </thead>\n",
       "  <tbody>\n",
       "    <tr>\n",
       "      <th>count</th>\n",
       "      <td>551.000000</td>\n",
       "      <td>551.000000</td>\n",
       "      <td>544.000000</td>\n",
       "      <td>544.000000</td>\n",
       "      <td>544.000000</td>\n",
       "      <td>544.000000</td>\n",
       "      <td>544.000000</td>\n",
       "      <td>544.000000</td>\n",
       "      <td>544.000000</td>\n",
       "      <td>544.000000</td>\n",
       "      <td>...</td>\n",
       "      <td>542.000000</td>\n",
       "      <td>542.000000</td>\n",
       "      <td>542.000000</td>\n",
       "      <td>542.000000</td>\n",
       "      <td>542.000000</td>\n",
       "      <td>314.000000</td>\n",
       "      <td>314.000000</td>\n",
       "      <td>314.000000</td>\n",
       "      <td>314.000000</td>\n",
       "      <td>314.000000</td>\n",
       "    </tr>\n",
       "    <tr>\n",
       "      <th>mean</th>\n",
       "      <td>276.787659</td>\n",
       "      <td>11.083485</td>\n",
       "      <td>6.395221</td>\n",
       "      <td>4.549632</td>\n",
       "      <td>6.286765</td>\n",
       "      <td>7.775735</td>\n",
       "      <td>6.972426</td>\n",
       "      <td>6.689338</td>\n",
       "      <td>5.757353</td>\n",
       "      <td>3.840074</td>\n",
       "      <td>...</td>\n",
       "      <td>7.092251</td>\n",
       "      <td>8.285978</td>\n",
       "      <td>8.385609</td>\n",
       "      <td>7.701107</td>\n",
       "      <td>7.577491</td>\n",
       "      <td>6.929936</td>\n",
       "      <td>7.933121</td>\n",
       "      <td>8.257962</td>\n",
       "      <td>7.385350</td>\n",
       "      <td>7.601911</td>\n",
       "    </tr>\n",
       "    <tr>\n",
       "      <th>std</th>\n",
       "      <td>159.494486</td>\n",
       "      <td>6.013947</td>\n",
       "      <td>2.630753</td>\n",
       "      <td>2.801164</td>\n",
       "      <td>2.449965</td>\n",
       "      <td>1.778032</td>\n",
       "      <td>2.059245</td>\n",
       "      <td>2.273435</td>\n",
       "      <td>2.566239</td>\n",
       "      <td>2.610746</td>\n",
       "      <td>...</td>\n",
       "      <td>1.390081</td>\n",
       "      <td>1.412038</td>\n",
       "      <td>1.089700</td>\n",
       "      <td>1.547510</td>\n",
       "      <td>1.786293</td>\n",
       "      <td>1.506597</td>\n",
       "      <td>1.643649</td>\n",
       "      <td>1.330528</td>\n",
       "      <td>1.796671</td>\n",
       "      <td>1.822156</td>\n",
       "    </tr>\n",
       "    <tr>\n",
       "      <th>min</th>\n",
       "      <td>1.000000</td>\n",
       "      <td>1.000000</td>\n",
       "      <td>1.000000</td>\n",
       "      <td>1.000000</td>\n",
       "      <td>1.000000</td>\n",
       "      <td>1.000000</td>\n",
       "      <td>0.000000</td>\n",
       "      <td>0.000000</td>\n",
       "      <td>0.000000</td>\n",
       "      <td>0.000000</td>\n",
       "      <td>...</td>\n",
       "      <td>2.000000</td>\n",
       "      <td>2.000000</td>\n",
       "      <td>3.000000</td>\n",
       "      <td>2.000000</td>\n",
       "      <td>2.000000</td>\n",
       "      <td>2.000000</td>\n",
       "      <td>1.000000</td>\n",
       "      <td>3.000000</td>\n",
       "      <td>2.000000</td>\n",
       "      <td>1.000000</td>\n",
       "    </tr>\n",
       "    <tr>\n",
       "      <th>25%</th>\n",
       "      <td>139.500000</td>\n",
       "      <td>6.000000</td>\n",
       "      <td>4.000000</td>\n",
       "      <td>2.000000</td>\n",
       "      <td>5.000000</td>\n",
       "      <td>7.000000</td>\n",
       "      <td>6.000000</td>\n",
       "      <td>5.000000</td>\n",
       "      <td>4.000000</td>\n",
       "      <td>1.000000</td>\n",
       "      <td>...</td>\n",
       "      <td>6.000000</td>\n",
       "      <td>8.000000</td>\n",
       "      <td>8.000000</td>\n",
       "      <td>7.000000</td>\n",
       "      <td>7.000000</td>\n",
       "      <td>6.000000</td>\n",
       "      <td>7.000000</td>\n",
       "      <td>8.000000</td>\n",
       "      <td>6.000000</td>\n",
       "      <td>7.000000</td>\n",
       "    </tr>\n",
       "    <tr>\n",
       "      <th>50%</th>\n",
       "      <td>277.000000</td>\n",
       "      <td>11.000000</td>\n",
       "      <td>7.000000</td>\n",
       "      <td>4.000000</td>\n",
       "      <td>7.000000</td>\n",
       "      <td>8.000000</td>\n",
       "      <td>7.000000</td>\n",
       "      <td>7.000000</td>\n",
       "      <td>6.000000</td>\n",
       "      <td>3.000000</td>\n",
       "      <td>...</td>\n",
       "      <td>7.000000</td>\n",
       "      <td>8.000000</td>\n",
       "      <td>8.000000</td>\n",
       "      <td>8.000000</td>\n",
       "      <td>8.000000</td>\n",
       "      <td>7.000000</td>\n",
       "      <td>8.000000</td>\n",
       "      <td>8.000000</td>\n",
       "      <td>8.000000</td>\n",
       "      <td>8.000000</td>\n",
       "    </tr>\n",
       "    <tr>\n",
       "      <th>75%</th>\n",
       "      <td>414.500000</td>\n",
       "      <td>15.000000</td>\n",
       "      <td>8.250000</td>\n",
       "      <td>7.000000</td>\n",
       "      <td>8.000000</td>\n",
       "      <td>9.000000</td>\n",
       "      <td>8.250000</td>\n",
       "      <td>8.000000</td>\n",
       "      <td>8.000000</td>\n",
       "      <td>6.000000</td>\n",
       "      <td>...</td>\n",
       "      <td>8.000000</td>\n",
       "      <td>9.000000</td>\n",
       "      <td>9.000000</td>\n",
       "      <td>9.000000</td>\n",
       "      <td>9.000000</td>\n",
       "      <td>8.000000</td>\n",
       "      <td>9.000000</td>\n",
       "      <td>9.000000</td>\n",
       "      <td>9.000000</td>\n",
       "      <td>9.000000</td>\n",
       "    </tr>\n",
       "    <tr>\n",
       "      <th>max</th>\n",
       "      <td>552.000000</td>\n",
       "      <td>21.000000</td>\n",
       "      <td>10.000000</td>\n",
       "      <td>10.000000</td>\n",
       "      <td>10.000000</td>\n",
       "      <td>10.000000</td>\n",
       "      <td>10.000000</td>\n",
       "      <td>10.000000</td>\n",
       "      <td>10.000000</td>\n",
       "      <td>14.000000</td>\n",
       "      <td>...</td>\n",
       "      <td>10.000000</td>\n",
       "      <td>10.000000</td>\n",
       "      <td>10.000000</td>\n",
       "      <td>10.000000</td>\n",
       "      <td>10.000000</td>\n",
       "      <td>10.000000</td>\n",
       "      <td>10.000000</td>\n",
       "      <td>10.000000</td>\n",
       "      <td>10.000000</td>\n",
       "      <td>10.000000</td>\n",
       "    </tr>\n",
       "  </tbody>\n",
       "</table>\n",
       "<p>8 rows × 29 columns</p>\n",
       "</div>"
      ],
      "text/plain": [
       "       subject_id        wave  like_sports  like_tvsports  like_exercise  \\\n",
       "count  551.000000  551.000000   544.000000     544.000000     544.000000   \n",
       "mean   276.787659   11.083485     6.395221       4.549632       6.286765   \n",
       "std    159.494486    6.013947     2.630753       2.801164       2.449965   \n",
       "min      1.000000    1.000000     1.000000       1.000000       1.000000   \n",
       "25%    139.500000    6.000000     4.000000       2.000000       5.000000   \n",
       "50%    277.000000   11.000000     7.000000       4.000000       7.000000   \n",
       "75%    414.500000   15.000000     8.250000       7.000000       8.000000   \n",
       "max    552.000000   21.000000    10.000000      10.000000      10.000000   \n",
       "\n",
       "        like_food  like_museums    like_art  like_hiking  like_gaming  ...  \\\n",
       "count  544.000000    544.000000  544.000000   544.000000   544.000000  ...   \n",
       "mean     7.775735      6.972426    6.689338     5.757353     3.840074  ...   \n",
       "std      1.778032      2.059245    2.273435     2.566239     2.610746  ...   \n",
       "min      1.000000      0.000000    0.000000     0.000000     0.000000  ...   \n",
       "25%      7.000000      6.000000    5.000000     4.000000     1.000000  ...   \n",
       "50%      8.000000      7.000000    7.000000     6.000000     3.000000  ...   \n",
       "75%      9.000000      8.250000    8.000000     8.000000     6.000000  ...   \n",
       "max     10.000000     10.000000   10.000000    10.000000    14.000000  ...   \n",
       "\n",
       "       subjective_attractiveness  subjective_sincerity  \\\n",
       "count                 542.000000            542.000000   \n",
       "mean                    7.092251              8.285978   \n",
       "std                     1.390081              1.412038   \n",
       "min                     2.000000              2.000000   \n",
       "25%                     6.000000              8.000000   \n",
       "50%                     7.000000              8.000000   \n",
       "75%                     8.000000              9.000000   \n",
       "max                    10.000000             10.000000   \n",
       "\n",
       "       subjective_intelligence  subjective_fun  subjective_ambition  \\\n",
       "count               542.000000      542.000000           542.000000   \n",
       "mean                  8.385609        7.701107             7.577491   \n",
       "std                   1.089700        1.547510             1.786293   \n",
       "min                   3.000000        2.000000             2.000000   \n",
       "25%                   8.000000        7.000000             7.000000   \n",
       "50%                   8.000000        8.000000             8.000000   \n",
       "75%                   9.000000        9.000000             9.000000   \n",
       "max                  10.000000       10.000000            10.000000   \n",
       "\n",
       "       objective_attractiveness  objective_sincerity  objective_intelligence  \\\n",
       "count                314.000000           314.000000              314.000000   \n",
       "mean                   6.929936             7.933121                8.257962   \n",
       "std                    1.506597             1.643649                1.330528   \n",
       "min                    2.000000             1.000000                3.000000   \n",
       "25%                    6.000000             7.000000                8.000000   \n",
       "50%                    7.000000             8.000000                8.000000   \n",
       "75%                    8.000000             9.000000                9.000000   \n",
       "max                   10.000000            10.000000               10.000000   \n",
       "\n",
       "       objective_fun  objective_ambition  \n",
       "count     314.000000          314.000000  \n",
       "mean        7.385350            7.601911  \n",
       "std         1.796671            1.822156  \n",
       "min         2.000000            1.000000  \n",
       "25%         6.000000            7.000000  \n",
       "50%         8.000000            8.000000  \n",
       "75%         9.000000            9.000000  \n",
       "max        10.000000           10.000000  \n",
       "\n",
       "[8 rows x 29 columns]"
      ]
     },
     "execution_count": 3,
     "metadata": {},
     "output_type": "execute_result"
    }
   ],
   "source": [
    "sd.describe()"
   ]
  },
  {
   "cell_type": "code",
   "execution_count": 4,
   "metadata": {},
   "outputs": [
    {
     "data": {
      "text/plain": [
       "subject_id                     0\n",
       "wave                           0\n",
       "like_sports                    7\n",
       "like_tvsports                  7\n",
       "like_exercise                  7\n",
       "like_food                      7\n",
       "like_museums                   7\n",
       "like_art                       7\n",
       "like_hiking                    7\n",
       "like_gaming                    7\n",
       "like_clubbing                  7\n",
       "like_reading                   7\n",
       "like_tv                        7\n",
       "like_theater                   7\n",
       "like_movies                    7\n",
       "like_concerts                  7\n",
       "like_music                     7\n",
       "like_shopping                  7\n",
       "like_yoga                      7\n",
       "subjective_attractiveness      9\n",
       "subjective_sincerity           9\n",
       "subjective_intelligence        9\n",
       "subjective_fun                 9\n",
       "subjective_ambition            9\n",
       "objective_attractiveness     237\n",
       "objective_sincerity          237\n",
       "objective_intelligence       237\n",
       "objective_fun                237\n",
       "objective_ambition           237\n",
       "dtype: int64"
      ]
     },
     "execution_count": 4,
     "metadata": {},
     "output_type": "execute_result"
    }
   ],
   "source": [
    "sd.isnull().sum()"
   ]
  },
  {
   "cell_type": "code",
   "execution_count": 5,
   "metadata": {},
   "outputs": [
    {
     "data": {
      "text/plain": [
       "['objective_attractiveness',\n",
       " 'objective_sincerity',\n",
       " 'objective_intelligence',\n",
       " 'objective_fun',\n",
       " 'objective_ambition']"
      ]
     },
     "execution_count": 5,
     "metadata": {},
     "output_type": "execute_result"
    }
   ],
   "source": [
    "miss_200 = list(sd.isnull().sum()[sd.isnull().sum() > 200].index)\n",
    "miss_200"
   ]
  },
  {
   "cell_type": "code",
   "execution_count": 6,
   "metadata": {},
   "outputs": [
    {
     "data": {
      "text/plain": [
       "subject_id                   0\n",
       "wave                         0\n",
       "like_sports                  7\n",
       "like_tvsports                7\n",
       "like_exercise                7\n",
       "like_food                    7\n",
       "like_museums                 7\n",
       "like_art                     7\n",
       "like_hiking                  7\n",
       "like_gaming                  7\n",
       "like_clubbing                7\n",
       "like_reading                 7\n",
       "like_tv                      7\n",
       "like_theater                 7\n",
       "like_movies                  7\n",
       "like_concerts                7\n",
       "like_music                   7\n",
       "like_shopping                7\n",
       "like_yoga                    7\n",
       "subjective_attractiveness    9\n",
       "subjective_sincerity         9\n",
       "subjective_intelligence      9\n",
       "subjective_fun               9\n",
       "subjective_ambition          9\n",
       "dtype: int64"
      ]
     },
     "execution_count": 6,
     "metadata": {},
     "output_type": "execute_result"
    }
   ],
   "source": [
    "# Remove columns with more than 200 missing values.\n",
    "sd = sd.drop(columns=miss_200)\n",
    "sd.isnull().sum()"
   ]
  },
  {
   "cell_type": "code",
   "execution_count": 7,
   "metadata": {},
   "outputs": [
    {
     "data": {
      "text/plain": [
       "Series([], dtype: int64)"
      ]
     },
     "execution_count": 7,
     "metadata": {},
     "output_type": "execute_result"
    }
   ],
   "source": [
    "# Then, remove rows with missing values.\n",
    "# Verify that no rows contain NaNs.\n",
    "sd = sd.dropna()\n",
    "sd.isnull().sum()[sd.isnull().sum() != 0]"
   ]
  },
  {
   "cell_type": "code",
   "execution_count": 8,
   "metadata": {},
   "outputs": [
    {
     "data": {
      "text/plain": [
       "(542, 24)"
      ]
     },
     "execution_count": 8,
     "metadata": {},
     "output_type": "execute_result"
    }
   ],
   "source": [
    "sd.shape"
   ]
  },
  {
   "cell_type": "markdown",
   "metadata": {},
   "source": [
    "---\n",
    "\n",
    "### 3) Example: Are the `subjective` columns correlated?\n",
    "\n",
    "Here, we'll understand how the `subjective` columns are correlated.\n",
    "\n",
    "- Find the z scores of each `subjective` column (i.e. standardize the `subjective` columns).\n",
    "- Visualize correlation using [PairGrid](https://seaborn.pydata.org/generated/seaborn.PairGrid.html).\n",
    "- Visualize correlation using a heat map."
   ]
  },
  {
   "cell_type": "markdown",
   "metadata": {},
   "source": [
    "**3.A) Find the z scores of each column. This allows the columns to more easily be directly compared.**"
   ]
  },
  {
   "cell_type": "code",
   "execution_count": 9,
   "metadata": {
    "scrolled": true
   },
   "outputs": [
    {
     "data": {
      "text/plain": [
       "['subjective_attractiveness',\n",
       " 'subjective_sincerity',\n",
       " 'subjective_intelligence',\n",
       " 'subjective_fun',\n",
       " 'subjective_ambition']"
      ]
     },
     "execution_count": 9,
     "metadata": {},
     "output_type": "execute_result"
    }
   ],
   "source": [
    "subjective_cols = [col for col in sd.columns \\\n",
    "                   if col.startswith('subjective')]\n",
    "# A:\n",
    "subjective_cols"
   ]
  },
  {
   "cell_type": "code",
   "execution_count": 10,
   "metadata": {},
   "outputs": [
    {
     "data": {
      "text/html": [
       "<div>\n",
       "<style scoped>\n",
       "    .dataframe tbody tr th:only-of-type {\n",
       "        vertical-align: middle;\n",
       "    }\n",
       "\n",
       "    .dataframe tbody tr th {\n",
       "        vertical-align: top;\n",
       "    }\n",
       "\n",
       "    .dataframe thead th {\n",
       "        text-align: right;\n",
       "    }\n",
       "</style>\n",
       "<table border=\"1\" class=\"dataframe\">\n",
       "  <thead>\n",
       "    <tr style=\"text-align: right;\">\n",
       "      <th></th>\n",
       "      <th>subjective_attractiveness</th>\n",
       "      <th>subjective_sincerity</th>\n",
       "      <th>subjective_intelligence</th>\n",
       "      <th>subjective_fun</th>\n",
       "      <th>subjective_ambition</th>\n",
       "    </tr>\n",
       "  </thead>\n",
       "  <tbody>\n",
       "    <tr>\n",
       "      <th>0</th>\n",
       "      <td>6.0</td>\n",
       "      <td>8.0</td>\n",
       "      <td>8.0</td>\n",
       "      <td>8.0</td>\n",
       "      <td>7.0</td>\n",
       "    </tr>\n",
       "    <tr>\n",
       "      <th>1</th>\n",
       "      <td>7.0</td>\n",
       "      <td>5.0</td>\n",
       "      <td>8.0</td>\n",
       "      <td>10.0</td>\n",
       "      <td>3.0</td>\n",
       "    </tr>\n",
       "    <tr>\n",
       "      <th>2</th>\n",
       "      <td>8.0</td>\n",
       "      <td>9.0</td>\n",
       "      <td>9.0</td>\n",
       "      <td>8.0</td>\n",
       "      <td>8.0</td>\n",
       "    </tr>\n",
       "    <tr>\n",
       "      <th>3</th>\n",
       "      <td>7.0</td>\n",
       "      <td>8.0</td>\n",
       "      <td>7.0</td>\n",
       "      <td>9.0</td>\n",
       "      <td>8.0</td>\n",
       "    </tr>\n",
       "    <tr>\n",
       "      <th>4</th>\n",
       "      <td>6.0</td>\n",
       "      <td>3.0</td>\n",
       "      <td>10.0</td>\n",
       "      <td>6.0</td>\n",
       "      <td>8.0</td>\n",
       "    </tr>\n",
       "  </tbody>\n",
       "</table>\n",
       "</div>"
      ],
      "text/plain": [
       "   subjective_attractiveness  subjective_sincerity  subjective_intelligence  \\\n",
       "0                        6.0                   8.0                      8.0   \n",
       "1                        7.0                   5.0                      8.0   \n",
       "2                        8.0                   9.0                      9.0   \n",
       "3                        7.0                   8.0                      7.0   \n",
       "4                        6.0                   3.0                     10.0   \n",
       "\n",
       "   subjective_fun  subjective_ambition  \n",
       "0             8.0                  7.0  \n",
       "1            10.0                  3.0  \n",
       "2             8.0                  8.0  \n",
       "3             9.0                  8.0  \n",
       "4             6.0                  8.0  "
      ]
     },
     "execution_count": 10,
     "metadata": {},
     "output_type": "execute_result"
    }
   ],
   "source": [
    "subjective = sd[subjective_cols]\n",
    "subjective.head()"
   ]
  },
  {
   "cell_type": "code",
   "execution_count": 11,
   "metadata": {},
   "outputs": [],
   "source": [
    "# Instantiate\n",
    "sc = StandardScaler()\n",
    "subjective_scaled = sc.fit_transform(subjective)"
   ]
  },
  {
   "cell_type": "code",
   "execution_count": 12,
   "metadata": {},
   "outputs": [],
   "source": [
    "# Numpy array\n",
    "# subjective_scaled"
   ]
  },
  {
   "cell_type": "code",
   "execution_count": 13,
   "metadata": {},
   "outputs": [
    {
     "data": {
      "text/html": [
       "<div>\n",
       "<style scoped>\n",
       "    .dataframe tbody tr th:only-of-type {\n",
       "        vertical-align: middle;\n",
       "    }\n",
       "\n",
       "    .dataframe tbody tr th {\n",
       "        vertical-align: top;\n",
       "    }\n",
       "\n",
       "    .dataframe thead th {\n",
       "        text-align: right;\n",
       "    }\n",
       "</style>\n",
       "<table border=\"1\" class=\"dataframe\">\n",
       "  <thead>\n",
       "    <tr style=\"text-align: right;\">\n",
       "      <th></th>\n",
       "      <th>mean</th>\n",
       "      <th>std</th>\n",
       "    </tr>\n",
       "  </thead>\n",
       "  <tbody>\n",
       "    <tr>\n",
       "      <th>subjective_attractiveness</th>\n",
       "      <td>-2.208156e-16</td>\n",
       "      <td>1.000924</td>\n",
       "    </tr>\n",
       "    <tr>\n",
       "      <th>subjective_sincerity</th>\n",
       "      <td>1.390851e-16</td>\n",
       "      <td>1.000924</td>\n",
       "    </tr>\n",
       "    <tr>\n",
       "      <th>subjective_intelligence</th>\n",
       "      <td>-4.629343e-16</td>\n",
       "      <td>1.000924</td>\n",
       "    </tr>\n",
       "    <tr>\n",
       "      <th>subjective_fun</th>\n",
       "      <td>3.728055e-17</td>\n",
       "      <td>1.000924</td>\n",
       "    </tr>\n",
       "    <tr>\n",
       "      <th>subjective_ambition</th>\n",
       "      <td>2.285994e-16</td>\n",
       "      <td>1.000924</td>\n",
       "    </tr>\n",
       "  </tbody>\n",
       "</table>\n",
       "</div>"
      ],
      "text/plain": [
       "                                   mean       std\n",
       "subjective_attractiveness -2.208156e-16  1.000924\n",
       "subjective_sincerity       1.390851e-16  1.000924\n",
       "subjective_intelligence   -4.629343e-16  1.000924\n",
       "subjective_fun             3.728055e-17  1.000924\n",
       "subjective_ambition        2.285994e-16  1.000924"
      ]
     },
     "execution_count": 13,
     "metadata": {},
     "output_type": "execute_result"
    }
   ],
   "source": [
    "# Z-score dataframe\n",
    "subjective_scaled_df = pd.DataFrame(subjective_scaled,\n",
    "                                    columns=subjective.columns)\n",
    "\n",
    "# Check mean and std\n",
    "subjective_scaled_df.describe().T[['mean','std']]"
   ]
  },
  {
   "cell_type": "markdown",
   "metadata": {},
   "source": [
    "**3.B) Use a PairGrid to visualize correlation.**"
   ]
  },
  {
   "cell_type": "markdown",
   "metadata": {},
   "source": [
    "[`PairGrid`](https://seaborn.pydata.org/generated/seaborn.PairGrid.html) is more general version of `pairplot`.  For example, you could use the following code, where `subjective` is a data frame containing only the subjective columns:\n",
    "\n",
    "```python\n",
    "g = sns.PairGrid(subjective)\n",
    "# Regression plots in lower triangle\n",
    "g = g.map_lower(sns.regplot) \n",
    "g = g.map_upper(sns.kdeplot, cmap=\"Blues\", shade=True, shade_lowest=False)  # KDE plots in upper triangle\n",
    "g = g.map_diag(plt.hist) # Histograms along diagonal\n",
    "\n",
    "plt.show()\n",
    "```"
   ]
  },
  {
   "cell_type": "code",
   "execution_count": 14,
   "metadata": {},
   "outputs": [
    {
     "data": {
      "image/png": "[encoded data removed]",
      "text/plain": [
       "<Figure size 900x900 with 30 Axes>"
      ]
     },
     "metadata": {},
     "output_type": "display_data"
    }
   ],
   "source": [
    "# A:\n",
    "g = sns.PairGrid(subjective_scaled_df)\n",
    "# Regression plots in lower triangle\n",
    "g = g.map_lower(sns.regplot) \n",
    "g = g.map_upper(sns.kdeplot, cmap=\"Blues\", shade=True, thresh=0.05)  # KDE plots in upper triangle\n",
    "g = g.map_diag(plt.hist) # Histograms along diagonal\n",
    "\n",
    "plt.show();"
   ]
  },
  {
   "cell_type": "markdown",
   "metadata": {},
   "source": [
    "**3.C) Use a heat map to visualize correlation.**"
   ]
  },
  {
   "cell_type": "code",
   "execution_count": 15,
   "metadata": {},
   "outputs": [
    {
     "data": {
      "image/png": "[encoded data removed]",
      "text/plain": [
       "<Figure size 432x288 with 2 Axes>"
      ]
     },
     "metadata": {},
     "output_type": "display_data"
    }
   ],
   "source": [
    "# A:\n",
    "sns.heatmap(subjective_scaled_df.corr(),\n",
    "            annot=True,\n",
    "            vmin=-1,\n",
    "            vmax=1,\n",
    "            cmap='RdBu');"
   ]
  },
  {
   "cell_type": "markdown",
   "metadata": {},
   "source": [
    "---\n",
    "\n",
    "**Important: Did you ensure the results make sense intuitively?** If not, look at the results again. You should **always** interpret your results and ensure they make sense based on what you expected. If they don’t, investigate why — sometimes your analysis or data are wrong.\n",
    "\n",
    "> For example, the results show that believing you are attractive and fun are correlated. Would you expect that believing you are intellectual and fun to have a higher or lower correlation? What do the results say?\n",
    "\n",
    "---\n",
    "\n",
    "\n",
    "### 4) Visualize some preference columns.\n",
    "\n",
    "Next, we’ll explore how some preference ratings are correlated. You saw an example — now try it on the `preference_cols` below.\n",
    "\n",
    "- Find the z scores of each column in `preference_cols`.\n",
    "- Visualize correlation using PairGrid.\n",
    "- Visualize correlation using a heat map.\n",
    "- Do these results make sense intuitively? "
   ]
  },
  {
   "cell_type": "code",
   "execution_count": 16,
   "metadata": {},
   "outputs": [],
   "source": [
    "preference_cols = ['like_tvsports', 'like_sports', 'like_museums', \n",
    "                   'like_theater', 'like_shopping']\n",
    "sd_like = sd[preference_cols]"
   ]
  },
  {
   "cell_type": "markdown",
   "metadata": {
    "collapsed": true
   },
   "source": [
    "**4.A) Find the z scores of each column in `preference_cols`.**"
   ]
  },
  {
   "cell_type": "code",
   "execution_count": 17,
   "metadata": {},
   "outputs": [
    {
     "data": {
      "text/html": [
       "<div>\n",
       "<style scoped>\n",
       "    .dataframe tbody tr th:only-of-type {\n",
       "        vertical-align: middle;\n",
       "    }\n",
       "\n",
       "    .dataframe tbody tr th {\n",
       "        vertical-align: top;\n",
       "    }\n",
       "\n",
       "    .dataframe thead th {\n",
       "        text-align: right;\n",
       "    }\n",
       "</style>\n",
       "<table border=\"1\" class=\"dataframe\">\n",
       "  <thead>\n",
       "    <tr style=\"text-align: right;\">\n",
       "      <th></th>\n",
       "      <th>like_tvsports</th>\n",
       "      <th>like_sports</th>\n",
       "      <th>like_museums</th>\n",
       "      <th>like_theater</th>\n",
       "      <th>like_shopping</th>\n",
       "    </tr>\n",
       "  </thead>\n",
       "  <tbody>\n",
       "    <tr>\n",
       "      <th>0</th>\n",
       "      <td>-0.912780</td>\n",
       "      <td>0.992539</td>\n",
       "      <td>-2.935051</td>\n",
       "      <td>-2.560869</td>\n",
       "      <td>0.913254</td>\n",
       "    </tr>\n",
       "    <tr>\n",
       "      <th>1</th>\n",
       "      <td>-0.912780</td>\n",
       "      <td>-1.291776</td>\n",
       "      <td>0.497620</td>\n",
       "      <td>0.985579</td>\n",
       "      <td>-1.000836</td>\n",
       "    </tr>\n",
       "    <tr>\n",
       "      <th>2</th>\n",
       "      <td>1.230441</td>\n",
       "      <td>-1.291776</td>\n",
       "      <td>-0.973525</td>\n",
       "      <td>0.098967</td>\n",
       "      <td>0.913254</td>\n",
       "    </tr>\n",
       "    <tr>\n",
       "      <th>3</th>\n",
       "      <td>-1.269983</td>\n",
       "      <td>-2.053215</td>\n",
       "      <td>-0.483143</td>\n",
       "      <td>0.985579</td>\n",
       "      <td>-1.766472</td>\n",
       "    </tr>\n",
       "    <tr>\n",
       "      <th>4</th>\n",
       "      <td>-0.198373</td>\n",
       "      <td>0.231101</td>\n",
       "      <td>-0.483143</td>\n",
       "      <td>-0.344339</td>\n",
       "      <td>0.913254</td>\n",
       "    </tr>\n",
       "  </tbody>\n",
       "</table>\n",
       "</div>"
      ],
      "text/plain": [
       "   like_tvsports  like_sports  like_museums  like_theater  like_shopping\n",
       "0      -0.912780     0.992539     -2.935051     -2.560869       0.913254\n",
       "1      -0.912780    -1.291776      0.497620      0.985579      -1.000836\n",
       "2       1.230441    -1.291776     -0.973525      0.098967       0.913254\n",
       "3      -1.269983    -2.053215     -0.483143      0.985579      -1.766472\n",
       "4      -0.198373     0.231101     -0.483143     -0.344339       0.913254"
      ]
     },
     "execution_count": 17,
     "metadata": {},
     "output_type": "execute_result"
    }
   ],
   "source": [
    "# A:\n",
    "# Instantiate\n",
    "sc = StandardScaler()\n",
    "sd_like_scaled = sc.fit_transform(sd_like)\n",
    "\n",
    "# Create data frame for sd_like_scaled\n",
    "sd_like_scaled_df = pd.DataFrame(sd_like_scaled,\n",
    "                                 columns=preference_cols)\n",
    "sd_like_scaled_df.head()"
   ]
  },
  {
   "cell_type": "markdown",
   "metadata": {},
   "source": [
    "**4.B) Visualize correlation using PairGrid.**"
   ]
  },
  {
   "cell_type": "code",
   "execution_count": 18,
   "metadata": {},
   "outputs": [
    {
     "data": {
      "image/png": "[encoded data removed]",
      "text/plain": [
       "<Figure size 900x900 with 30 Axes>"
      ]
     },
     "metadata": {},
     "output_type": "display_data"
    }
   ],
   "source": [
    "# A:\n",
    "g = sns.PairGrid(sd_like_scaled_df)\n",
    "# Regression plots in lower triangle\n",
    "g = g.map_lower(sns.regplot) \n",
    "g = g.map_upper(sns.kdeplot, cmap=\"Blues\", shade=True, thresh=0.05)  # KDE plots in upper triangle\n",
    "g = g.map_diag(plt.hist) # Histograms along diagonal\n",
    "\n",
    "plt.show();"
   ]
  },
  {
   "cell_type": "markdown",
   "metadata": {},
   "source": [
    "**4.C) Visualize correlation using a heat map.**"
   ]
  },
  {
   "cell_type": "code",
   "execution_count": 19,
   "metadata": {},
   "outputs": [
    {
     "data": {
      "image/png": "[encoded data removed]",
      "text/plain": [
       "<Figure size 432x288 with 2 Axes>"
      ]
     },
     "metadata": {},
     "output_type": "display_data"
    }
   ],
   "source": [
    "# A:\n",
    "sns.heatmap(sd_like_scaled_df.corr(),\n",
    "            annot=True,\n",
    "            vmin=-1,\n",
    "            vmax=1,\n",
    "            cmap='RdBu');"
   ]
  },
  {
   "cell_type": "markdown",
   "metadata": {},
   "source": [
    "---\n",
    "\n",
    "### 5) Example: Fit PCA on the subjective ratings."
   ]
  },
  {
   "cell_type": "code",
   "execution_count": 20,
   "metadata": {},
   "outputs": [
    {
     "data": {
      "text/plain": [
       "array([[-0.78647228, -0.20271555, -0.35419405,  0.19332293, -0.32358876],\n",
       "       [-0.06642502, -2.32926706, -0.35419405,  1.48691586, -2.564932  ],\n",
       "       [ 0.65362224,  0.50613495,  0.56433788,  0.19332293,  0.23674705],\n",
       "       [-0.06642502, -0.20271555, -1.27272598,  0.84011939,  0.23674705],\n",
       "       [-0.78647228, -3.74696807,  1.48286981, -1.10027   ,  0.23674705]])"
      ]
     },
     "execution_count": 20,
     "metadata": {},
     "output_type": "execute_result"
    }
   ],
   "source": [
    "subjective_scaled_df.values[:5,:]"
   ]
  },
  {
   "cell_type": "code",
   "execution_count": 21,
   "metadata": {},
   "outputs": [
    {
     "data": {
      "text/html": [
       "<style>#sk-container-id-1 {color: black;background-color: white;}#sk-container-id-1 pre{padding: 0;}#sk-container-id-1 div.sk-toggleable {background-color: white;}#sk-container-id-1 label.sk-toggleable__label {cursor: pointer;display: block;width: 100%;margin-bottom: 0;padding: 0.3em;box-sizing: border-box;text-align: center;}#sk-container-id-1 label.sk-toggleable__label-arrow:before {content: \"▸\";float: left;margin-right: 0.25em;color: #696969;}#sk-container-id-1 label.sk-toggleable__label-arrow:hover:before {color: black;}#sk-container-id-1 div.sk-estimator:hover label.sk-toggleable__label-arrow:before {color: black;}#sk-container-id-1 div.sk-toggleable__content {max-height: 0;max-width: 0;overflow: hidden;text-align: left;background-color: #f0f8ff;}#sk-container-id-1 div.sk-toggleable__content pre {margin: 0.2em;color: black;border-radius: 0.25em;background-color: #f0f8ff;}#sk-container-id-1 input.sk-toggleable__control:checked~div.sk-toggleable__content {max-height: 200px;max-width: 100%;overflow: auto;}#sk-container-id-1 input.sk-toggleable__control:checked~label.sk-toggleable__label-arrow:before {content: \"▾\";}#sk-container-id-1 div.sk-estimator input.sk-toggleable__control:checked~label.sk-toggleable__label {background-color: #d4ebff;}#sk-container-id-1 div.sk-label input.sk-toggleable__control:checked~label.sk-toggleable__label {background-color: #d4ebff;}#sk-container-id-1 input.sk-hidden--visually {border: 0;clip: rect(1px 1px 1px 1px);clip: rect(1px, 1px, 1px, 1px);height: 1px;margin: -1px;overflow: hidden;padding: 0;position: absolute;width: 1px;}#sk-container-id-1 div.sk-estimator {font-family: monospace;background-color: #f0f8ff;border: 1px dotted black;border-radius: 0.25em;box-sizing: border-box;margin-bottom: 0.5em;}#sk-container-id-1 div.sk-estimator:hover {background-color: #d4ebff;}#sk-container-id-1 div.sk-parallel-item::after {content: \"\";width: 100%;border-bottom: 1px solid gray;flex-grow: 1;}#sk-container-id-1 div.sk-label:hover label.sk-toggleable__label {background-color: #d4ebff;}#sk-container-id-1 div.sk-serial::before {content: \"\";position: absolute;border-left: 1px solid gray;box-sizing: border-box;top: 0;bottom: 0;left: 50%;z-index: 0;}#sk-container-id-1 div.sk-serial {display: flex;flex-direction: column;align-items: center;background-color: white;padding-right: 0.2em;padding-left: 0.2em;position: relative;}#sk-container-id-1 div.sk-item {position: relative;z-index: 1;}#sk-container-id-1 div.sk-parallel {display: flex;align-items: stretch;justify-content: center;background-color: white;position: relative;}#sk-container-id-1 div.sk-item::before, #sk-container-id-1 div.sk-parallel-item::before {content: \"\";position: absolute;border-left: 1px solid gray;box-sizing: border-box;top: 0;bottom: 0;left: 50%;z-index: -1;}#sk-container-id-1 div.sk-parallel-item {display: flex;flex-direction: column;z-index: 1;position: relative;background-color: white;}#sk-container-id-1 div.sk-parallel-item:first-child::after {align-self: flex-end;width: 50%;}#sk-container-id-1 div.sk-parallel-item:last-child::after {align-self: flex-start;width: 50%;}#sk-container-id-1 div.sk-parallel-item:only-child::after {width: 0;}#sk-container-id-1 div.sk-dashed-wrapped {border: 1px dashed gray;margin: 0 0.4em 0.5em 0.4em;box-sizing: border-box;padding-bottom: 0.4em;background-color: white;}#sk-container-id-1 div.sk-label label {font-family: monospace;font-weight: bold;display: inline-block;line-height: 1.2em;}#sk-container-id-1 div.sk-label-container {text-align: center;}#sk-container-id-1 div.sk-container {/* jupyter's `normalize.less` sets `[hidden] { display: none; }` but bootstrap.min.css set `[hidden] { display: none !important; }` so we also need the `!important` here to be able to override the default hidden behavior on the sphinx rendered scikit-learn.org. See: https://github.com/scikit-learn/scikit-learn/issues/21755 */display: inline-block !important;position: relative;}#sk-container-id-1 div.sk-text-repr-fallback {display: none;}</style><div id=\"sk-container-id-1\" class=\"sk-top-container\"><div class=\"sk-text-repr-fallback\"><pre>PCA(n_components=5)</pre><b>In a Jupyter environment, please rerun this cell to show the HTML representation or trust the notebook. <br />On GitHub, the HTML representation is unable to render, please try loading this page with nbviewer.org.</b></div><div class=\"sk-container\" hidden><div class=\"sk-item\"><div class=\"sk-estimator sk-toggleable\"><input class=\"sk-toggleable__control sk-hidden--visually\" id=\"sk-estimator-id-1\" type=\"checkbox\" checked><label for=\"sk-estimator-id-1\" class=\"sk-toggleable__label sk-toggleable__label-arrow\">PCA</label><div class=\"sk-toggleable__content\"><pre>PCA(n_components=5)</pre></div></div></div></div></div>"
      ],
      "text/plain": [
       "PCA(n_components=5)"
      ]
     },
     "execution_count": 21,
     "metadata": {},
     "output_type": "execute_result"
    }
   ],
   "source": [
    "subjective_pca = PCA(n_components=5)\n",
    "subjective_pca.fit(subjective_scaled_df)"
   ]
  },
  {
   "cell_type": "markdown",
   "metadata": {},
   "source": [
    "---\n",
    "\n",
    "**5.A) Look at the weights of the principal components.**\n",
    "\n",
    "The principal components (or eigenvectors!) are simply the weights or coefficients on the original variables $X$ that transforms them to $Z$."
   ]
  },
  {
   "cell_type": "code",
   "execution_count": 22,
   "metadata": {},
   "outputs": [
    {
     "data": {
      "text/html": [
       "<div>\n",
       "<style scoped>\n",
       "    .dataframe tbody tr th:only-of-type {\n",
       "        vertical-align: middle;\n",
       "    }\n",
       "\n",
       "    .dataframe tbody tr th {\n",
       "        vertical-align: top;\n",
       "    }\n",
       "\n",
       "    .dataframe thead th {\n",
       "        text-align: right;\n",
       "    }\n",
       "</style>\n",
       "<table border=\"1\" class=\"dataframe\">\n",
       "  <thead>\n",
       "    <tr style=\"text-align: right;\">\n",
       "      <th></th>\n",
       "      <th>w_pc0</th>\n",
       "      <th>w_pc1</th>\n",
       "      <th>w_pc2</th>\n",
       "      <th>w_pc3</th>\n",
       "      <th>w_pc4</th>\n",
       "    </tr>\n",
       "  </thead>\n",
       "  <tbody>\n",
       "    <tr>\n",
       "      <th>0</th>\n",
       "      <td>-0.501894</td>\n",
       "      <td>0.218260</td>\n",
       "      <td>-0.402024</td>\n",
       "      <td>0.348119</td>\n",
       "      <td>-0.646263</td>\n",
       "    </tr>\n",
       "    <tr>\n",
       "      <th>1</th>\n",
       "      <td>-0.315290</td>\n",
       "      <td>-0.909060</td>\n",
       "      <td>-0.144386</td>\n",
       "      <td>-0.213776</td>\n",
       "      <td>-0.087491</td>\n",
       "    </tr>\n",
       "    <tr>\n",
       "      <th>2</th>\n",
       "      <td>-0.467071</td>\n",
       "      <td>-0.097690</td>\n",
       "      <td>0.422893</td>\n",
       "      <td>0.648420</td>\n",
       "      <td>0.415949</td>\n",
       "    </tr>\n",
       "    <tr>\n",
       "      <th>3</th>\n",
       "      <td>-0.483864</td>\n",
       "      <td>0.274010</td>\n",
       "      <td>-0.481414</td>\n",
       "      <td>-0.361047</td>\n",
       "      <td>0.573306</td>\n",
       "    </tr>\n",
       "    <tr>\n",
       "      <th>4</th>\n",
       "      <td>-0.443187</td>\n",
       "      <td>0.203342</td>\n",
       "      <td>0.637912</td>\n",
       "      <td>-0.531328</td>\n",
       "      <td>-0.270179</td>\n",
       "    </tr>\n",
       "  </tbody>\n",
       "</table>\n",
       "</div>"
      ],
      "text/plain": [
       "      w_pc0     w_pc1     w_pc2     w_pc3     w_pc4\n",
       "0 -0.501894  0.218260 -0.402024  0.348119 -0.646263\n",
       "1 -0.315290 -0.909060 -0.144386 -0.213776 -0.087491\n",
       "2 -0.467071 -0.097690  0.422893  0.648420  0.415949\n",
       "3 -0.483864  0.274010 -0.481414 -0.361047  0.573306\n",
       "4 -0.443187  0.203342  0.637912 -0.531328 -0.270179"
      ]
     },
     "execution_count": 22,
     "metadata": {},
     "output_type": "execute_result"
    }
   ],
   "source": [
    "# A:\n",
    "# .components_ provide numpy array which each row is weight for each pca axis.\n",
    "# Required to transpose and store in dataframe \n",
    "weight_pca = pd.DataFrame(subjective_pca.components_.T,columns=subjective_pca.get_feature_names_out())\n",
    "\n",
    "# Rename columns to weight of principle component for each principle component axis\n",
    "weight_pca.columns = ['w_pc0', 'w_pc1', 'w_pc2', 'w_pc3', 'w_pc4']\n",
    "weight_pca"
   ]
  },
  {
   "cell_type": "code",
   "execution_count": 23,
   "metadata": {},
   "outputs": [
    {
     "data": {
      "text/html": [
       "<div>\n",
       "<style scoped>\n",
       "    .dataframe tbody tr th:only-of-type {\n",
       "        vertical-align: middle;\n",
       "    }\n",
       "\n",
       "    .dataframe tbody tr th {\n",
       "        vertical-align: top;\n",
       "    }\n",
       "\n",
       "    .dataframe thead th {\n",
       "        text-align: right;\n",
       "    }\n",
       "</style>\n",
       "<table border=\"1\" class=\"dataframe\">\n",
       "  <thead>\n",
       "    <tr style=\"text-align: right;\">\n",
       "      <th></th>\n",
       "      <th>subjective_attractiveness</th>\n",
       "      <th>subjective_sincerity</th>\n",
       "      <th>subjective_intelligence</th>\n",
       "      <th>subjective_fun</th>\n",
       "      <th>subjective_ambition</th>\n",
       "    </tr>\n",
       "  </thead>\n",
       "  <tbody>\n",
       "    <tr>\n",
       "      <th>0</th>\n",
       "      <td>-0.786472</td>\n",
       "      <td>-0.202716</td>\n",
       "      <td>-0.354194</td>\n",
       "      <td>0.193323</td>\n",
       "      <td>-0.323589</td>\n",
       "    </tr>\n",
       "    <tr>\n",
       "      <th>1</th>\n",
       "      <td>-0.066425</td>\n",
       "      <td>-2.329267</td>\n",
       "      <td>-0.354194</td>\n",
       "      <td>1.486916</td>\n",
       "      <td>-2.564932</td>\n",
       "    </tr>\n",
       "    <tr>\n",
       "      <th>2</th>\n",
       "      <td>0.653622</td>\n",
       "      <td>0.506135</td>\n",
       "      <td>0.564338</td>\n",
       "      <td>0.193323</td>\n",
       "      <td>0.236747</td>\n",
       "    </tr>\n",
       "    <tr>\n",
       "      <th>3</th>\n",
       "      <td>-0.066425</td>\n",
       "      <td>-0.202716</td>\n",
       "      <td>-1.272726</td>\n",
       "      <td>0.840119</td>\n",
       "      <td>0.236747</td>\n",
       "    </tr>\n",
       "    <tr>\n",
       "      <th>4</th>\n",
       "      <td>-0.786472</td>\n",
       "      <td>-3.746968</td>\n",
       "      <td>1.482870</td>\n",
       "      <td>-1.100270</td>\n",
       "      <td>0.236747</td>\n",
       "    </tr>\n",
       "  </tbody>\n",
       "</table>\n",
       "</div>"
      ],
      "text/plain": [
       "   subjective_attractiveness  subjective_sincerity  subjective_intelligence  \\\n",
       "0                  -0.786472             -0.202716                -0.354194   \n",
       "1                  -0.066425             -2.329267                -0.354194   \n",
       "2                   0.653622              0.506135                 0.564338   \n",
       "3                  -0.066425             -0.202716                -1.272726   \n",
       "4                  -0.786472             -3.746968                 1.482870   \n",
       "\n",
       "   subjective_fun  subjective_ambition  \n",
       "0        0.193323            -0.323589  \n",
       "1        1.486916            -2.564932  \n",
       "2        0.193323             0.236747  \n",
       "3        0.840119             0.236747  \n",
       "4       -1.100270             0.236747  "
      ]
     },
     "execution_count": 23,
     "metadata": {},
     "output_type": "execute_result"
    }
   ],
   "source": [
    "subjective_scaled_df.head()"
   ]
  },
  {
   "cell_type": "markdown",
   "metadata": {},
   "source": [
    "---\n",
    "\n",
    "**5.B) Look at the explained variance values (aka eigenvalues) and the explained variance ratios.**\n",
    "\n",
    "The eigenvalues are ordered such that the first components have the largest eigenvalues. The values and their normalized equivalent in the explained variance ratio attribute tell you how much of the variance in the original data is encapsulated in the new component variables."
   ]
  },
  {
   "cell_type": "code",
   "execution_count": 24,
   "metadata": {},
   "outputs": [
    {
     "data": {
      "text/plain": [
       "array([2.16041482, 0.88925024, 0.73820887, 0.72229813, 0.49907009])"
      ]
     },
     "execution_count": 24,
     "metadata": {},
     "output_type": "execute_result"
    }
   ],
   "source": [
    "# A:\n",
    "# explain_variance\n",
    "subjective_pca.explained_variance_"
   ]
  },
  {
   "cell_type": "code",
   "execution_count": 25,
   "metadata": {},
   "outputs": [
    {
     "data": {
      "text/plain": [
       "array([0.43128576, 0.17752191, 0.14736937, 0.14419309, 0.09962986])"
      ]
     },
     "execution_count": 25,
     "metadata": {},
     "output_type": "execute_result"
    }
   ],
   "source": [
    "# A:\n",
    "# explain_variance_ratio\n",
    "subjective_pca.explained_variance_ratio_"
   ]
  },
  {
   "cell_type": "markdown",
   "metadata": {},
   "source": [
    "---\n",
    "\n",
    "**5.C) Transform the subjective data into the principal component space.**\n",
    "\n",
    "The `transform()` function in the PCA will create your new component variable matrix."
   ]
  },
  {
   "cell_type": "code",
   "execution_count": 26,
   "metadata": {},
   "outputs": [
    {
     "data": {
      "text/plain": [
       "array([[ 0.673942  ,  0.03439955, -0.10382612, -0.35798348,  0.57693667],\n",
       "       [ 1.35044583,  2.02341707, -2.13879048,  1.07112465,  1.64483811],\n",
       "       [-0.94967947, -0.27146457, -0.03924025,  0.28967741, -0.18508884],\n",
       "       [ 0.18027926,  0.57245653, -0.73567524, -1.23416221, -0.05104433],\n",
       "       [ 1.31095851,  2.8363581 ,  2.16499567,  1.76020932,  0.75813709]])"
      ]
     },
     "execution_count": 26,
     "metadata": {},
     "output_type": "execute_result"
    }
   ],
   "source": [
    "# A:\n",
    "Z_subjective = subjective_pca.transform(subjective_scaled_df)\n",
    "Z_subjective[:5,:]"
   ]
  },
  {
   "cell_type": "code",
   "execution_count": 27,
   "metadata": {},
   "outputs": [
    {
     "data": {
      "text/plain": [
       "array([[ 0.673942  ,  0.03439955, -0.10382612, -0.35798348,  0.57693667],\n",
       "       [ 1.35044583,  2.02341707, -2.13879048,  1.07112465,  1.64483811],\n",
       "       [-0.94967947, -0.27146457, -0.03924025,  0.28967741, -0.18508884],\n",
       "       [ 0.18027926,  0.57245653, -0.73567524, -1.23416221, -0.05104433],\n",
       "       [ 1.31095851,  2.8363581 ,  2.16499567,  1.76020932,  0.75813709]])"
      ]
     },
     "execution_count": 27,
     "metadata": {},
     "output_type": "execute_result"
    }
   ],
   "source": [
    "# Numpy array version\n",
    "# subjective_scaled dimension: 542x5\n",
    "# subjective_pca.components_.T dimension: 5x5\n",
    "# Dot product result: 542x5\n",
    "np.dot(subjective_scaled,subjective_pca.components_.T)[:5,:]"
   ]
  },
  {
   "cell_type": "markdown",
   "metadata": {},
   "source": [
    "This transformed our five-dimensional data set into vectors along its five principal components (with zero loss).\n",
    "- Using these, we can now reduce the dimensionality of our data while minimizing loss.\n",
    "- For example, taking only the first three eigenvectors accounts for `0.431 + 0.178 + 0.147 = 75.6%` of the variance."
   ]
  },
  {
   "cell_type": "code",
   "execution_count": 28,
   "metadata": {},
   "outputs": [
    {
     "data": {
      "text/html": [
       "<div>\n",
       "<style scoped>\n",
       "    .dataframe tbody tr th:only-of-type {\n",
       "        vertical-align: middle;\n",
       "    }\n",
       "\n",
       "    .dataframe tbody tr th {\n",
       "        vertical-align: top;\n",
       "    }\n",
       "\n",
       "    .dataframe thead th {\n",
       "        text-align: right;\n",
       "    }\n",
       "</style>\n",
       "<table border=\"1\" class=\"dataframe\">\n",
       "  <thead>\n",
       "    <tr style=\"text-align: right;\">\n",
       "      <th></th>\n",
       "      <th>explain_variance</th>\n",
       "      <th>cumulative_explain_variance</th>\n",
       "    </tr>\n",
       "  </thead>\n",
       "  <tbody>\n",
       "    <tr>\n",
       "      <th>pca0</th>\n",
       "      <td>0.431286</td>\n",
       "      <td>0.431286</td>\n",
       "    </tr>\n",
       "    <tr>\n",
       "      <th>pca1</th>\n",
       "      <td>0.177522</td>\n",
       "      <td>0.608808</td>\n",
       "    </tr>\n",
       "    <tr>\n",
       "      <th>pca2</th>\n",
       "      <td>0.147369</td>\n",
       "      <td>0.756177</td>\n",
       "    </tr>\n",
       "    <tr>\n",
       "      <th>pca3</th>\n",
       "      <td>0.144193</td>\n",
       "      <td>0.900370</td>\n",
       "    </tr>\n",
       "    <tr>\n",
       "      <th>pca4</th>\n",
       "      <td>0.099630</td>\n",
       "      <td>1.000000</td>\n",
       "    </tr>\n",
       "  </tbody>\n",
       "</table>\n",
       "</div>"
      ],
      "text/plain": [
       "      explain_variance  cumulative_explain_variance\n",
       "pca0          0.431286                     0.431286\n",
       "pca1          0.177522                     0.608808\n",
       "pca2          0.147369                     0.756177\n",
       "pca3          0.144193                     0.900370\n",
       "pca4          0.099630                     1.000000"
      ]
     },
     "execution_count": 28,
     "metadata": {},
     "output_type": "execute_result"
    }
   ],
   "source": [
    "# A:\n",
    "# Cumulative explain variance ratio\n",
    "explain_variance = pd.DataFrame(subjective_pca.explained_variance_ratio_,\n",
    "                                index=subjective_pca.get_feature_names_out(),\n",
    "                                columns=['explain_variance'])\n",
    "explain_variance['cumulative_explain_variance'] = np.cumsum(subjective_pca.explained_variance_ratio_)\n",
    "explain_variance"
   ]
  },
  {
   "cell_type": "markdown",
   "metadata": {},
   "source": [
    "---\n",
    "\n",
    "**5.D) PCA-transformed features are not correlated.**\n",
    "\n",
    "- Keep in mind that each column in the transformed data is no longer correlated.\n",
    "- Compare this to the exploration above where many columns were correlated."
   ]
  },
  {
   "cell_type": "code",
   "execution_count": 29,
   "metadata": {},
   "outputs": [
    {
     "data": {
      "image/png": "[encoded data removed]",
      "text/plain": [
       "<Figure size 432x288 with 2 Axes>"
      ]
     },
     "metadata": {},
     "output_type": "display_data"
    }
   ],
   "source": [
    "# A:\n",
    "# Convert Z numpy array to dataframe\n",
    "Z_subjective_df = pd.DataFrame(Z_subjective,\n",
    "                               columns=subjective_pca.get_feature_names_out())\n",
    "\n",
    "# Using seaborn heatmap for exploring the correlation\n",
    "sns.heatmap(Z_subjective_df.corr(),\n",
    "            annot=True,\n",
    "            vmin=-1,\n",
    "            vmax=1,\n",
    "            cmap='RdBu');\n",
    "\n",
    "# All correlation between predictor in principle component\n",
    "# axis is basically zero."
   ]
  },
  {
   "cell_type": "markdown",
   "metadata": {},
   "source": [
    "---\n",
    "\n",
    "### 6) Optional: How were the data transformed?\n",
    "\n",
    "To demonstrate how the new principal component matrix is created from the original variable columns and the eigenvector weighting matrix, we'll create the first component (PC1) manually.\n",
    "\n",
    "**6.A) Pull out the eigenvector for PC1.**"
   ]
  },
  {
   "cell_type": "code",
   "execution_count": 30,
   "metadata": {},
   "outputs": [
    {
     "data": {
      "text/html": [
       "<div>\n",
       "<style scoped>\n",
       "    .dataframe tbody tr th:only-of-type {\n",
       "        vertical-align: middle;\n",
       "    }\n",
       "\n",
       "    .dataframe tbody tr th {\n",
       "        vertical-align: top;\n",
       "    }\n",
       "\n",
       "    .dataframe thead th {\n",
       "        text-align: right;\n",
       "    }\n",
       "</style>\n",
       "<table border=\"1\" class=\"dataframe\">\n",
       "  <thead>\n",
       "    <tr style=\"text-align: right;\">\n",
       "      <th></th>\n",
       "      <th>w_pc0</th>\n",
       "    </tr>\n",
       "  </thead>\n",
       "  <tbody>\n",
       "    <tr>\n",
       "      <th>0</th>\n",
       "      <td>-0.501894</td>\n",
       "    </tr>\n",
       "    <tr>\n",
       "      <th>1</th>\n",
       "      <td>-0.315290</td>\n",
       "    </tr>\n",
       "    <tr>\n",
       "      <th>2</th>\n",
       "      <td>-0.467071</td>\n",
       "    </tr>\n",
       "    <tr>\n",
       "      <th>3</th>\n",
       "      <td>-0.483864</td>\n",
       "    </tr>\n",
       "    <tr>\n",
       "      <th>4</th>\n",
       "      <td>-0.443187</td>\n",
       "    </tr>\n",
       "  </tbody>\n",
       "</table>\n",
       "</div>"
      ],
      "text/plain": [
       "      w_pc0\n",
       "0 -0.501894\n",
       "1 -0.315290\n",
       "2 -0.467071\n",
       "3 -0.483864\n",
       "4 -0.443187"
      ]
     },
     "execution_count": 30,
     "metadata": {},
     "output_type": "execute_result"
    }
   ],
   "source": [
    "# A:\n",
    "# PC1 is basically pca0 in Scikit\n",
    "weight_pca[['w_pc0']]"
   ]
  },
  {
   "cell_type": "markdown",
   "metadata": {},
   "source": [
    "**6.B) Create a DataFrame showing the original values for the subjective variables for `person1`.**"
   ]
  },
  {
   "cell_type": "code",
   "execution_count": 31,
   "metadata": {},
   "outputs": [
    {
     "data": {
      "text/html": [
       "<div>\n",
       "<style scoped>\n",
       "    .dataframe tbody tr th:only-of-type {\n",
       "        vertical-align: middle;\n",
       "    }\n",
       "\n",
       "    .dataframe tbody tr th {\n",
       "        vertical-align: top;\n",
       "    }\n",
       "\n",
       "    .dataframe thead th {\n",
       "        text-align: right;\n",
       "    }\n",
       "</style>\n",
       "<table border=\"1\" class=\"dataframe\">\n",
       "  <thead>\n",
       "    <tr style=\"text-align: right;\">\n",
       "      <th></th>\n",
       "      <th>subjective_attractiveness</th>\n",
       "      <th>subjective_sincerity</th>\n",
       "      <th>subjective_intelligence</th>\n",
       "      <th>subjective_fun</th>\n",
       "      <th>subjective_ambition</th>\n",
       "    </tr>\n",
       "  </thead>\n",
       "  <tbody>\n",
       "    <tr>\n",
       "      <th>0</th>\n",
       "      <td>-0.786472</td>\n",
       "      <td>-0.202716</td>\n",
       "      <td>-0.354194</td>\n",
       "      <td>0.193323</td>\n",
       "      <td>-0.323589</td>\n",
       "    </tr>\n",
       "  </tbody>\n",
       "</table>\n",
       "</div>"
      ],
      "text/plain": [
       "   subjective_attractiveness  subjective_sincerity  subjective_intelligence  \\\n",
       "0                  -0.786472             -0.202716                -0.354194   \n",
       "\n",
       "   subjective_fun  subjective_ambition  \n",
       "0        0.193323            -0.323589  "
      ]
     },
     "execution_count": 31,
     "metadata": {},
     "output_type": "execute_result"
    }
   ],
   "source": [
    "# A:\n",
    "# Scaled subjective variables for person1\n",
    "subjective_person1 = subjective_scaled_df.loc[[0]]\n",
    "subjective_person1"
   ]
  },
  {
   "cell_type": "markdown",
   "metadata": {},
   "source": [
    "**6.C) Add the eigenvector for PC1: the weights by which to multiply each original variable.**\n",
    "\n",
    "Recall that each component is a linear combination of the original variables, multiplied by a \"weight\" defined in the eigenvector of that component."
   ]
  },
  {
   "cell_type": "code",
   "execution_count": 32,
   "metadata": {},
   "outputs": [
    {
     "data": {
      "text/plain": [
       "0   -0.501894\n",
       "1   -0.315290\n",
       "2   -0.467071\n",
       "3   -0.483864\n",
       "4   -0.443187\n",
       "Name: w_pc0, dtype: float64"
      ]
     },
     "execution_count": 32,
     "metadata": {},
     "output_type": "execute_result"
    }
   ],
   "source": [
    "weight_pca['w_pc0']"
   ]
  },
  {
   "cell_type": "code",
   "execution_count": 33,
   "metadata": {},
   "outputs": [
    {
     "data": {
      "text/html": [
       "<div>\n",
       "<style scoped>\n",
       "    .dataframe tbody tr th:only-of-type {\n",
       "        vertical-align: middle;\n",
       "    }\n",
       "\n",
       "    .dataframe tbody tr th {\n",
       "        vertical-align: top;\n",
       "    }\n",
       "\n",
       "    .dataframe thead th {\n",
       "        text-align: right;\n",
       "    }\n",
       "</style>\n",
       "<table border=\"1\" class=\"dataframe\">\n",
       "  <thead>\n",
       "    <tr style=\"text-align: right;\">\n",
       "      <th></th>\n",
       "      <th>X</th>\n",
       "      <th>weight</th>\n",
       "    </tr>\n",
       "  </thead>\n",
       "  <tbody>\n",
       "    <tr>\n",
       "      <th>subjective_attractiveness</th>\n",
       "      <td>-0.786472</td>\n",
       "      <td>-0.501894</td>\n",
       "    </tr>\n",
       "    <tr>\n",
       "      <th>subjective_sincerity</th>\n",
       "      <td>-0.202716</td>\n",
       "      <td>-0.315290</td>\n",
       "    </tr>\n",
       "    <tr>\n",
       "      <th>subjective_intelligence</th>\n",
       "      <td>-0.354194</td>\n",
       "      <td>-0.467071</td>\n",
       "    </tr>\n",
       "    <tr>\n",
       "      <th>subjective_fun</th>\n",
       "      <td>0.193323</td>\n",
       "      <td>-0.483864</td>\n",
       "    </tr>\n",
       "    <tr>\n",
       "      <th>subjective_ambition</th>\n",
       "      <td>-0.323589</td>\n",
       "      <td>-0.443187</td>\n",
       "    </tr>\n",
       "  </tbody>\n",
       "</table>\n",
       "</div>"
      ],
      "text/plain": [
       "                                  X    weight\n",
       "subjective_attractiveness -0.786472 -0.501894\n",
       "subjective_sincerity      -0.202716 -0.315290\n",
       "subjective_intelligence   -0.354194 -0.467071\n",
       "subjective_fun             0.193323 -0.483864\n",
       "subjective_ambition       -0.323589 -0.443187"
      ]
     },
     "execution_count": 33,
     "metadata": {},
     "output_type": "execute_result"
    }
   ],
   "source": [
    "# A:\n",
    "subjective_person1_T = subjective_person1.T\n",
    "subjective_person1_T.columns = ['X']\n",
    "subjective_person1_T['weight'] = list(weight_pca['w_pc0'])\n",
    "subjective_person1_T"
   ]
  },
  {
   "cell_type": "markdown",
   "metadata": {},
   "source": [
    "**6.D) Multiply the original variable values by the eigenvector values.**\n",
    "\n",
    "These are the \"pieces\" of PC1 that will be added together to create the new value for that person."
   ]
  },
  {
   "cell_type": "code",
   "execution_count": 34,
   "metadata": {},
   "outputs": [
    {
     "data": {
      "text/html": [
       "<div>\n",
       "<style scoped>\n",
       "    .dataframe tbody tr th:only-of-type {\n",
       "        vertical-align: middle;\n",
       "    }\n",
       "\n",
       "    .dataframe tbody tr th {\n",
       "        vertical-align: top;\n",
       "    }\n",
       "\n",
       "    .dataframe thead th {\n",
       "        text-align: right;\n",
       "    }\n",
       "</style>\n",
       "<table border=\"1\" class=\"dataframe\">\n",
       "  <thead>\n",
       "    <tr style=\"text-align: right;\">\n",
       "      <th></th>\n",
       "      <th>X</th>\n",
       "      <th>weight</th>\n",
       "      <th>weight*X</th>\n",
       "    </tr>\n",
       "  </thead>\n",
       "  <tbody>\n",
       "    <tr>\n",
       "      <th>subjective_attractiveness</th>\n",
       "      <td>-0.786472</td>\n",
       "      <td>-0.501894</td>\n",
       "      <td>0.394726</td>\n",
       "    </tr>\n",
       "    <tr>\n",
       "      <th>subjective_sincerity</th>\n",
       "      <td>-0.202716</td>\n",
       "      <td>-0.315290</td>\n",
       "      <td>0.063914</td>\n",
       "    </tr>\n",
       "    <tr>\n",
       "      <th>subjective_intelligence</th>\n",
       "      <td>-0.354194</td>\n",
       "      <td>-0.467071</td>\n",
       "      <td>0.165434</td>\n",
       "    </tr>\n",
       "    <tr>\n",
       "      <th>subjective_fun</th>\n",
       "      <td>0.193323</td>\n",
       "      <td>-0.483864</td>\n",
       "      <td>-0.093542</td>\n",
       "    </tr>\n",
       "    <tr>\n",
       "      <th>subjective_ambition</th>\n",
       "      <td>-0.323589</td>\n",
       "      <td>-0.443187</td>\n",
       "      <td>0.143410</td>\n",
       "    </tr>\n",
       "  </tbody>\n",
       "</table>\n",
       "</div>"
      ],
      "text/plain": [
       "                                  X    weight  weight*X\n",
       "subjective_attractiveness -0.786472 -0.501894  0.394726\n",
       "subjective_sincerity      -0.202716 -0.315290  0.063914\n",
       "subjective_intelligence   -0.354194 -0.467071  0.165434\n",
       "subjective_fun             0.193323 -0.483864 -0.093542\n",
       "subjective_ambition       -0.323589 -0.443187  0.143410"
      ]
     },
     "execution_count": 34,
     "metadata": {},
     "output_type": "execute_result"
    }
   ],
   "source": [
    "# A:\n",
    "subjective_person1_T['weight*X'] = subjective_person1_T['X']*subjective_person1_T['weight']\n",
    "subjective_person1_T"
   ]
  },
  {
   "cell_type": "markdown",
   "metadata": {},
   "source": [
    "**6.E) Sum the original values multiplied by the eigenvector weights to get `person1`’s value for PC1.**"
   ]
  },
  {
   "cell_type": "code",
   "execution_count": 35,
   "metadata": {},
   "outputs": [
    {
     "data": {
      "text/plain": [
       "0.6739420008503669"
      ]
     },
     "execution_count": 35,
     "metadata": {},
     "output_type": "execute_result"
    }
   ],
   "source": [
    "# A:\n",
    "# PC1 (pca0 axis)\n",
    "subjective_person1_T['weight*X'].sum()"
   ]
  },
  {
   "cell_type": "code",
   "execution_count": 36,
   "metadata": {},
   "outputs": [
    {
     "data": {
      "text/html": [
       "<div>\n",
       "<style scoped>\n",
       "    .dataframe tbody tr th:only-of-type {\n",
       "        vertical-align: middle;\n",
       "    }\n",
       "\n",
       "    .dataframe tbody tr th {\n",
       "        vertical-align: top;\n",
       "    }\n",
       "\n",
       "    .dataframe thead th {\n",
       "        text-align: right;\n",
       "    }\n",
       "</style>\n",
       "<table border=\"1\" class=\"dataframe\">\n",
       "  <thead>\n",
       "    <tr style=\"text-align: right;\">\n",
       "      <th></th>\n",
       "      <th>pca0</th>\n",
       "      <th>pca1</th>\n",
       "      <th>pca2</th>\n",
       "      <th>pca3</th>\n",
       "      <th>pca4</th>\n",
       "    </tr>\n",
       "  </thead>\n",
       "  <tbody>\n",
       "    <tr>\n",
       "      <th>0</th>\n",
       "      <td>0.673942</td>\n",
       "      <td>0.0344</td>\n",
       "      <td>-0.103826</td>\n",
       "      <td>-0.357983</td>\n",
       "      <td>0.576937</td>\n",
       "    </tr>\n",
       "  </tbody>\n",
       "</table>\n",
       "</div>"
      ],
      "text/plain": [
       "       pca0    pca1      pca2      pca3      pca4\n",
       "0  0.673942  0.0344 -0.103826 -0.357983  0.576937"
      ]
     },
     "execution_count": 36,
     "metadata": {},
     "output_type": "execute_result"
    }
   ],
   "source": [
    "# Compare to Z calculated from scikit learn\n",
    "Z_subjective_df.loc[[0]]\n",
    "\n",
    "# pca0 calculated from scikit is equal to pc0 that we calculated manually."
   ]
  },
  {
   "cell_type": "code",
   "execution_count": 37,
   "metadata": {},
   "outputs": [
    {
     "data": {
      "text/plain": [
       "array([ 0.673942  ,  0.03439955, -0.10382612, -0.35798348,  0.57693667])"
      ]
     },
     "execution_count": 37,
     "metadata": {},
     "output_type": "execute_result"
    }
   ],
   "source": [
    "# Numpy version\n",
    "# subjective_scaled dimension: 1x5\n",
    "# subjective_pca.components_.T dimension: 5x5\n",
    "# Dot product result: 1x5\n",
    "np.dot(subjective_scaled[0,:],subjective_pca.components_.T)"
   ]
  },
  {
   "cell_type": "markdown",
   "metadata": {},
   "source": [
    "---\n",
    "\n",
    "### 7) Fit PCA on the preference data.\n",
    "\n",
    "Now that you've seen how it's done, try it yourself!\n",
    "\n",
    "- Find PCA eigenvalues and eigenvectors for the five `sd_like` columns.\n",
    "- Transform the original `sd_like` columns into the principal component space.\n",
    "- Verify that these columns are uncorrelated."
   ]
  },
  {
   "cell_type": "code",
   "execution_count": 38,
   "metadata": {},
   "outputs": [],
   "source": [
    "# A:\n",
    "# Instantiate PCA for sc_like column\n",
    "sd_like_pca = PCA()"
   ]
  },
  {
   "cell_type": "markdown",
   "metadata": {},
   "source": [
    "#### 7.A) Find PCA eigenvalues and eigenvectors for the five `sd_like` columns."
   ]
  },
  {
   "cell_type": "code",
   "execution_count": 39,
   "metadata": {},
   "outputs": [
    {
     "data": {
      "text/html": [
       "<style>#sk-container-id-2 {color: black;background-color: white;}#sk-container-id-2 pre{padding: 0;}#sk-container-id-2 div.sk-toggleable {background-color: white;}#sk-container-id-2 label.sk-toggleable__label {cursor: pointer;display: block;width: 100%;margin-bottom: 0;padding: 0.3em;box-sizing: border-box;text-align: center;}#sk-container-id-2 label.sk-toggleable__label-arrow:before {content: \"▸\";float: left;margin-right: 0.25em;color: #696969;}#sk-container-id-2 label.sk-toggleable__label-arrow:hover:before {color: black;}#sk-container-id-2 div.sk-estimator:hover label.sk-toggleable__label-arrow:before {color: black;}#sk-container-id-2 div.sk-toggleable__content {max-height: 0;max-width: 0;overflow: hidden;text-align: left;background-color: #f0f8ff;}#sk-container-id-2 div.sk-toggleable__content pre {margin: 0.2em;color: black;border-radius: 0.25em;background-color: #f0f8ff;}#sk-container-id-2 input.sk-toggleable__control:checked~div.sk-toggleable__content {max-height: 200px;max-width: 100%;overflow: auto;}#sk-container-id-2 input.sk-toggleable__control:checked~label.sk-toggleable__label-arrow:before {content: \"▾\";}#sk-container-id-2 div.sk-estimator input.sk-toggleable__control:checked~label.sk-toggleable__label {background-color: #d4ebff;}#sk-container-id-2 div.sk-label input.sk-toggleable__control:checked~label.sk-toggleable__label {background-color: #d4ebff;}#sk-container-id-2 input.sk-hidden--visually {border: 0;clip: rect(1px 1px 1px 1px);clip: rect(1px, 1px, 1px, 1px);height: 1px;margin: -1px;overflow: hidden;padding: 0;position: absolute;width: 1px;}#sk-container-id-2 div.sk-estimator {font-family: monospace;background-color: #f0f8ff;border: 1px dotted black;border-radius: 0.25em;box-sizing: border-box;margin-bottom: 0.5em;}#sk-container-id-2 div.sk-estimator:hover {background-color: #d4ebff;}#sk-container-id-2 div.sk-parallel-item::after {content: \"\";width: 100%;border-bottom: 1px solid gray;flex-grow: 1;}#sk-container-id-2 div.sk-label:hover label.sk-toggleable__label {background-color: #d4ebff;}#sk-container-id-2 div.sk-serial::before {content: \"\";position: absolute;border-left: 1px solid gray;box-sizing: border-box;top: 0;bottom: 0;left: 50%;z-index: 0;}#sk-container-id-2 div.sk-serial {display: flex;flex-direction: column;align-items: center;background-color: white;padding-right: 0.2em;padding-left: 0.2em;position: relative;}#sk-container-id-2 div.sk-item {position: relative;z-index: 1;}#sk-container-id-2 div.sk-parallel {display: flex;align-items: stretch;justify-content: center;background-color: white;position: relative;}#sk-container-id-2 div.sk-item::before, #sk-container-id-2 div.sk-parallel-item::before {content: \"\";position: absolute;border-left: 1px solid gray;box-sizing: border-box;top: 0;bottom: 0;left: 50%;z-index: -1;}#sk-container-id-2 div.sk-parallel-item {display: flex;flex-direction: column;z-index: 1;position: relative;background-color: white;}#sk-container-id-2 div.sk-parallel-item:first-child::after {align-self: flex-end;width: 50%;}#sk-container-id-2 div.sk-parallel-item:last-child::after {align-self: flex-start;width: 50%;}#sk-container-id-2 div.sk-parallel-item:only-child::after {width: 0;}#sk-container-id-2 div.sk-dashed-wrapped {border: 1px dashed gray;margin: 0 0.4em 0.5em 0.4em;box-sizing: border-box;padding-bottom: 0.4em;background-color: white;}#sk-container-id-2 div.sk-label label {font-family: monospace;font-weight: bold;display: inline-block;line-height: 1.2em;}#sk-container-id-2 div.sk-label-container {text-align: center;}#sk-container-id-2 div.sk-container {/* jupyter's `normalize.less` sets `[hidden] { display: none; }` but bootstrap.min.css set `[hidden] { display: none !important; }` so we also need the `!important` here to be able to override the default hidden behavior on the sphinx rendered scikit-learn.org. See: https://github.com/scikit-learn/scikit-learn/issues/21755 */display: inline-block !important;position: relative;}#sk-container-id-2 div.sk-text-repr-fallback {display: none;}</style><div id=\"sk-container-id-2\" class=\"sk-top-container\"><div class=\"sk-text-repr-fallback\"><pre>PCA()</pre><b>In a Jupyter environment, please rerun this cell to show the HTML representation or trust the notebook. <br />On GitHub, the HTML representation is unable to render, please try loading this page with nbviewer.org.</b></div><div class=\"sk-container\" hidden><div class=\"sk-item\"><div class=\"sk-estimator sk-toggleable\"><input class=\"sk-toggleable__control sk-hidden--visually\" id=\"sk-estimator-id-2\" type=\"checkbox\" checked><label for=\"sk-estimator-id-2\" class=\"sk-toggleable__label sk-toggleable__label-arrow\">PCA</label><div class=\"sk-toggleable__content\"><pre>PCA()</pre></div></div></div></div></div>"
      ],
      "text/plain": [
       "PCA()"
      ]
     },
     "execution_count": 39,
     "metadata": {},
     "output_type": "execute_result"
    }
   ],
   "source": [
    "# A:\n",
    "sd_like_pca.fit(sd_like_scaled_df)"
   ]
  },
  {
   "cell_type": "code",
   "execution_count": 40,
   "metadata": {},
   "outputs": [
    {
     "data": {
      "text/plain": [
       "array([1.9118142 , 1.34365795, 0.82318062, 0.52097299, 0.40961638])"
      ]
     },
     "execution_count": 40,
     "metadata": {},
     "output_type": "execute_result"
    }
   ],
   "source": [
    "# eigenvalues (explain variance)\n",
    "sd_like_pca.explained_variance_"
   ]
  },
  {
   "cell_type": "code",
   "execution_count": 41,
   "metadata": {},
   "outputs": [
    {
     "data": {
      "text/plain": [
       "array([[ 3.20753112e-01,  4.30670129e-01, -5.13289220e-01,\n",
       "        -5.73131676e-01, -3.45969565e-01],\n",
       "       [ 6.49921628e-01,  5.32191987e-01,  3.24132297e-01,\n",
       "         2.65063681e-01,  3.45040672e-01],\n",
       "       [ 2.08050622e-05, -1.60309917e-01, -4.54907251e-01,\n",
       "        -2.24216382e-01,  8.46809977e-01],\n",
       "       [ 6.22451715e-01, -5.87488681e-01, -3.38227940e-01,\n",
       "         3.33354423e-01, -2.04664607e-01],\n",
       "       [ 2.95420347e-01, -4.00565486e-01,  5.56896475e-01,\n",
       "        -6.63221810e-01,  4.77206044e-02]])"
      ]
     },
     "execution_count": 41,
     "metadata": {},
     "output_type": "execute_result"
    }
   ],
   "source": [
    "# eigenvector (weight)\n",
    "sd_like_pca.components_"
   ]
  },
  {
   "cell_type": "markdown",
   "metadata": {},
   "source": [
    "#### 7.B) Transform the original `sd_like` columns into the principal component space."
   ]
  },
  {
   "cell_type": "code",
   "execution_count": 42,
   "metadata": {},
   "outputs": [
    {
     "data": {
      "text/html": [
       "<div>\n",
       "<style scoped>\n",
       "    .dataframe tbody tr th:only-of-type {\n",
       "        vertical-align: middle;\n",
       "    }\n",
       "\n",
       "    .dataframe tbody tr th {\n",
       "        vertical-align: top;\n",
       "    }\n",
       "\n",
       "    .dataframe thead th {\n",
       "        text-align: right;\n",
       "    }\n",
       "</style>\n",
       "<table border=\"1\" class=\"dataframe\">\n",
       "  <thead>\n",
       "    <tr style=\"text-align: right;\">\n",
       "      <th></th>\n",
       "      <th>pca0</th>\n",
       "      <th>pca1</th>\n",
       "      <th>pca2</th>\n",
       "      <th>pca3</th>\n",
       "      <th>pca4</th>\n",
       "    </tr>\n",
       "  </thead>\n",
       "  <tbody>\n",
       "    <tr>\n",
       "      <th>0</th>\n",
       "      <td>2.792967</td>\n",
       "      <td>-1.380042</td>\n",
       "      <td>2.523584</td>\n",
       "      <td>-1.199139</td>\n",
       "      <td>-0.559745</td>\n",
       "    </tr>\n",
       "    <tr>\n",
       "      <th>1</th>\n",
       "      <td>-1.323137</td>\n",
       "      <td>-1.203502</td>\n",
       "      <td>-1.087806</td>\n",
       "      <td>0.555816</td>\n",
       "      <td>-0.176508</td>\n",
       "    </tr>\n",
       "    <tr>\n",
       "      <th>2</th>\n",
       "      <td>-0.034641</td>\n",
       "      <td>0.138008</td>\n",
       "      <td>1.401136</td>\n",
       "      <td>1.700147</td>\n",
       "      <td>0.316730</td>\n",
       "    </tr>\n",
       "    <tr>\n",
       "      <th>3</th>\n",
       "      <td>-0.997338</td>\n",
       "      <td>-2.422960</td>\n",
       "      <td>-1.167939</td>\n",
       "      <td>1.269231</td>\n",
       "      <td>-0.559747</td>\n",
       "    </tr>\n",
       "    <tr>\n",
       "      <th>4</th>\n",
       "      <td>0.165285</td>\n",
       "      <td>0.061299</td>\n",
       "      <td>1.033292</td>\n",
       "      <td>-0.397532</td>\n",
       "      <td>-0.148281</td>\n",
       "    </tr>\n",
       "  </tbody>\n",
       "</table>\n",
       "</div>"
      ],
      "text/plain": [
       "       pca0      pca1      pca2      pca3      pca4\n",
       "0  2.792967 -1.380042  2.523584 -1.199139 -0.559745\n",
       "1 -1.323137 -1.203502 -1.087806  0.555816 -0.176508\n",
       "2 -0.034641  0.138008  1.401136  1.700147  0.316730\n",
       "3 -0.997338 -2.422960 -1.167939  1.269231 -0.559747\n",
       "4  0.165285  0.061299  1.033292 -0.397532 -0.148281"
      ]
     },
     "execution_count": 42,
     "metadata": {},
     "output_type": "execute_result"
    }
   ],
   "source": [
    "# A:\n",
    "# Transform the scaled sd_like\n",
    "Z_sd_like = sd_like_pca.transform(sd_like_scaled_df)\n",
    "\n",
    "# Store the Z_sd_like in dataframe\n",
    "# Using for exploring the correlation between value in\n",
    "# principle component axis.\n",
    "Z_sd_like_df = pd.DataFrame(Z_sd_like,\n",
    "                            columns= sd_like_pca.get_feature_names_out())\n",
    "Z_sd_like_df.head()"
   ]
  },
  {
   "cell_type": "markdown",
   "metadata": {},
   "source": [
    "#### 7.C) Verify that these columns are uncorrelated."
   ]
  },
  {
   "cell_type": "code",
   "execution_count": 43,
   "metadata": {},
   "outputs": [
    {
     "data": {
      "image/png": "[encoded data removed]",
      "text/plain": [
       "<Figure size 432x288 with 2 Axes>"
      ]
     },
     "metadata": {},
     "output_type": "display_data"
    }
   ],
   "source": [
    "# A:\n",
    "# Using seaborn heatmap for exploring the correlation\n",
    "sns.heatmap(Z_sd_like_df.corr(),\n",
    "            annot=True,\n",
    "            vmin=-1,\n",
    "            vmax=1,\n",
    "            cmap='RdBu');\n",
    "\n",
    "# All correlation between predictor in principle component\n",
    "# axis is basically zero."
   ]
  },
  {
   "cell_type": "markdown",
   "metadata": {},
   "source": [
    "---\n",
    "\n",
    "### 8) Use PCA for dimensionality reduction.\n",
    "\n",
    "Using linear regression, let's predict whether or not a user likes reading.\n",
    "\n",
    "**The key question:** Can we get the same prediction accuracy using only the first three principal components as features versus using all five original values as features?"
   ]
  },
  {
   "cell_type": "code",
   "execution_count": 44,
   "metadata": {},
   "outputs": [],
   "source": [
    "reading = sd['like_reading']"
   ]
  },
  {
   "cell_type": "markdown",
   "metadata": {},
   "source": [
    "**8.A) Linear regression cross-validated on original variables (`sd_like.values`).**\n",
    "\n",
    "- What is the mean cross-validation score?\n",
    "- Keep in mind that linear regression uses $R^2$ for score, so one is the ideal score."
   ]
  },
  {
   "cell_type": "code",
   "execution_count": 45,
   "metadata": {},
   "outputs": [],
   "source": [
    "def cross_val_result(X,y):\n",
    "    # cross-validation score\n",
    "    cross_val = cross_val_score(LinearRegression(),X, y)\n",
    "    print(f'Cross-validation score: {cross_val.round(4)}')\n",
    "    print(f'Mean cross-validation score: {round(cross_val.mean(),4)}') "
   ]
  },
  {
   "cell_type": "code",
   "execution_count": 46,
   "metadata": {},
   "outputs": [
    {
     "name": "stdout",
     "output_type": "stream",
     "text": [
      "Cross-validation score: [-0.0045  0.1317  0.0224  0.1793  0.1308]\n",
      "Mean cross-validation score: 0.0919\n"
     ]
    }
   ],
   "source": [
    "# A:\n",
    "X = sd_like\n",
    "y = reading\n",
    "\n",
    "# Cross-validation\n",
    "cross_val_result(X,y)"
   ]
  },
  {
   "cell_type": "markdown",
   "metadata": {},
   "source": [
    "**8.B) Linear regression on the first principal component.**\n",
    "\n",
    "- What is the mean cross-validation score?"
   ]
  },
  {
   "cell_type": "code",
   "execution_count": 47,
   "metadata": {},
   "outputs": [
    {
     "data": {
      "text/html": [
       "<div>\n",
       "<style scoped>\n",
       "    .dataframe tbody tr th:only-of-type {\n",
       "        vertical-align: middle;\n",
       "    }\n",
       "\n",
       "    .dataframe tbody tr th {\n",
       "        vertical-align: top;\n",
       "    }\n",
       "\n",
       "    .dataframe thead th {\n",
       "        text-align: right;\n",
       "    }\n",
       "</style>\n",
       "<table border=\"1\" class=\"dataframe\">\n",
       "  <thead>\n",
       "    <tr style=\"text-align: right;\">\n",
       "      <th></th>\n",
       "      <th>pca0</th>\n",
       "      <th>pca1</th>\n",
       "      <th>pca2</th>\n",
       "      <th>pca3</th>\n",
       "      <th>pca4</th>\n",
       "    </tr>\n",
       "  </thead>\n",
       "  <tbody>\n",
       "    <tr>\n",
       "      <th>0</th>\n",
       "      <td>2.792967</td>\n",
       "      <td>-1.380042</td>\n",
       "      <td>2.523584</td>\n",
       "      <td>-1.199139</td>\n",
       "      <td>-0.559745</td>\n",
       "    </tr>\n",
       "    <tr>\n",
       "      <th>1</th>\n",
       "      <td>-1.323137</td>\n",
       "      <td>-1.203502</td>\n",
       "      <td>-1.087806</td>\n",
       "      <td>0.555816</td>\n",
       "      <td>-0.176508</td>\n",
       "    </tr>\n",
       "    <tr>\n",
       "      <th>2</th>\n",
       "      <td>-0.034641</td>\n",
       "      <td>0.138008</td>\n",
       "      <td>1.401136</td>\n",
       "      <td>1.700147</td>\n",
       "      <td>0.316730</td>\n",
       "    </tr>\n",
       "    <tr>\n",
       "      <th>3</th>\n",
       "      <td>-0.997338</td>\n",
       "      <td>-2.422960</td>\n",
       "      <td>-1.167939</td>\n",
       "      <td>1.269231</td>\n",
       "      <td>-0.559747</td>\n",
       "    </tr>\n",
       "    <tr>\n",
       "      <th>4</th>\n",
       "      <td>0.165285</td>\n",
       "      <td>0.061299</td>\n",
       "      <td>1.033292</td>\n",
       "      <td>-0.397532</td>\n",
       "      <td>-0.148281</td>\n",
       "    </tr>\n",
       "  </tbody>\n",
       "</table>\n",
       "</div>"
      ],
      "text/plain": [
       "       pca0      pca1      pca2      pca3      pca4\n",
       "0  2.792967 -1.380042  2.523584 -1.199139 -0.559745\n",
       "1 -1.323137 -1.203502 -1.087806  0.555816 -0.176508\n",
       "2 -0.034641  0.138008  1.401136  1.700147  0.316730\n",
       "3 -0.997338 -2.422960 -1.167939  1.269231 -0.559747\n",
       "4  0.165285  0.061299  1.033292 -0.397532 -0.148281"
      ]
     },
     "execution_count": 47,
     "metadata": {},
     "output_type": "execute_result"
    }
   ],
   "source": [
    "# Dataframe which stored the principal component\n",
    "Z_sd_like_df.head()"
   ]
  },
  {
   "cell_type": "code",
   "execution_count": 48,
   "metadata": {},
   "outputs": [
    {
     "name": "stdout",
     "output_type": "stream",
     "text": [
      "Cross-validation score: [-0.0024  0.1257 -0.0454  0.1028  0.0864]\n",
      "Mean cross-validation score: 0.0534\n"
     ]
    }
   ],
   "source": [
    "# A:\n",
    "# Using only first principle component\n",
    "X = Z_sd_like_df[['pca0']]\n",
    "y = reading\n",
    "\n",
    "# Cross-validation\n",
    "cross_val_result(X,y)"
   ]
  },
  {
   "cell_type": "markdown",
   "metadata": {},
   "source": [
    "**8.C) Linear regression on first three principal components.**\n",
    "\n",
    "- What is the mean cross-validation score?"
   ]
  },
  {
   "cell_type": "code",
   "execution_count": 49,
   "metadata": {},
   "outputs": [
    {
     "name": "stdout",
     "output_type": "stream",
     "text": [
      "Cross-validation score: [-0.0341  0.1316  0.0495  0.1911  0.125 ]\n",
      "Mean cross-validation score: 0.0926\n"
     ]
    }
   ],
   "source": [
    "# A:\n",
    "# Using first three principle component\n",
    "X = Z_sd_like_df[['pca0', 'pca1', 'pca2']]\n",
    "y = reading\n",
    "\n",
    "# Cross-validation\n",
    "cross_val_result(X,y)"
   ]
  },
  {
   "cell_type": "markdown",
   "metadata": {},
   "source": [
    "---\n",
    "\n",
    "**Check yourself**. The mean cross-validation score should be nearly the same for the first three principal components as it was on the original five-component data."
   ]
  },
  {
   "cell_type": "code",
   "execution_count": 50,
   "metadata": {},
   "outputs": [],
   "source": [
    "# The mean cross-validation score of the original five component equals to 0.0919.\n",
    "# The mean cross-validation score of first three principle component equals to 0.0926.\n",
    "# The score is nearly the same."
   ]
  }
 ],
 "metadata": {
  "kernelspec": {
   "display_name": "Python 3 (ipykernel)",
   "language": "python",
   "name": "python3"
  },
  "language_info": {
   "codemirror_mode": {
    "name": "ipython",
    "version": 3
   },
   "file_extension": ".py",
   "mimetype": "text/x-python",
   "name": "python",
   "nbconvert_exporter": "python",
   "pygments_lexer": "ipython3",
   "version": "3.9.12"
  }
 },
 "nbformat": 4,
 "nbformat_minor": 1
}
